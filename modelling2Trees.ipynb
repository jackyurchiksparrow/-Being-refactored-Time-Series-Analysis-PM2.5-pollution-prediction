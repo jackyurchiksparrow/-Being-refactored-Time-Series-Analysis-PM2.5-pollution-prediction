{
 "cells": [
  {
   "cell_type": "markdown",
   "metadata": {},
   "source": [
    "# Approaching and analyzing tree models"
   ]
  },
  {
   "cell_type": "markdown",
   "metadata": {},
   "source": [
    "#### Goal: being able to tell the dependencies within the dataset, reliably predict PM2.5. Explore weaknesses of the selected model."
   ]
  },
  {
   "cell_type": "markdown",
   "metadata": {},
   "source": [
    "## Import libraries"
   ]
  },
  {
   "cell_type": "code",
   "execution_count": null,
   "metadata": {
    "trusted": true
   },
   "outputs": [],
   "source": [
    "import os\n",
    "import pandas as pd\n",
    "import numpy as np\n",
    "import time\n",
    "import matplotlib.pyplot as plt\n",
    "from scipy import stats\n",
    "\n",
    "from sklearn.model_selection import train_test_split\n",
    "from sklearn.model_selection import cross_validate\n",
    "from sklearn.ensemble import RandomForestRegressor\n",
    "from sklearn.metrics import mean_absolute_error, mean_squared_error, r2_score\n",
    "from sklearn.metrics import make_scorer\n",
    "from sklearn.ensemble import ExtraTreesRegressor\n",
    "from sklearn.ensemble import VotingRegressor\n",
    "from sklearn.inspection import permutation_importance\n",
    "\n",
    "import lightgbm as lgb\n",
    "import xgboost as xgb\n",
    "from catboost import CatBoostRegressor\n",
    "from catboost import Pool\n",
    "\n",
    "import joblib\n",
    "import shap"
   ]
  },
  {
   "cell_type": "markdown",
   "metadata": {},
   "source": [
    "## Seed for reproducability"
   ]
  },
  {
   "cell_type": "code",
   "execution_count": 37,
   "metadata": {
    "execution": {
     "iopub.execute_input": "2025-06-26T17:32:44.497783Z",
     "iopub.status.busy": "2025-06-26T17:32:44.497420Z",
     "iopub.status.idle": "2025-06-26T17:32:44.502808Z",
     "shell.execute_reply": "2025-06-26T17:32:44.501649Z",
     "shell.execute_reply.started": "2025-06-26T17:32:44.497753Z"
    },
    "trusted": true
   },
   "outputs": [],
   "source": [
    "def seed_everything(seed=42):\n",
    "    os.environ['PYTHONHASHSEED'] = str(seed)\n",
    "    np.random.seed(seed)"
   ]
  },
  {
   "cell_type": "markdown",
   "metadata": {},
   "source": [
    "## Data import"
   ]
  },
  {
   "cell_type": "code",
   "execution_count": 38,
   "metadata": {
    "execution": {
     "iopub.execute_input": "2025-06-26T17:32:46.348755Z",
     "iopub.status.busy": "2025-06-26T17:32:46.348386Z",
     "iopub.status.idle": "2025-06-26T17:32:47.036731Z",
     "shell.execute_reply": "2025-06-26T17:32:47.035756Z",
     "shell.execute_reply.started": "2025-06-26T17:32:46.348725Z"
    },
    "trusted": true
   },
   "outputs": [
    {
     "data": {
      "text/html": [
       "<div>\n",
       "<style scoped>\n",
       "    .dataframe tbody tr th:only-of-type {\n",
       "        vertical-align: middle;\n",
       "    }\n",
       "\n",
       "    .dataframe tbody tr th {\n",
       "        vertical-align: top;\n",
       "    }\n",
       "\n",
       "    .dataframe thead th {\n",
       "        text-align: right;\n",
       "    }\n",
       "</style>\n",
       "<table border=\"1\" class=\"dataframe\">\n",
       "  <thead>\n",
       "    <tr style=\"text-align: right;\">\n",
       "      <th></th>\n",
       "      <th>year</th>\n",
       "      <th>PM10</th>\n",
       "      <th>SO2</th>\n",
       "      <th>NO2</th>\n",
       "      <th>CO</th>\n",
       "      <th>O3</th>\n",
       "      <th>TEMP</th>\n",
       "      <th>RAIN</th>\n",
       "      <th>WSPM</th>\n",
       "      <th>wd_ENE</th>\n",
       "      <th>...</th>\n",
       "      <th>cos_hour</th>\n",
       "      <th>month_sin</th>\n",
       "      <th>dayofweek_sin</th>\n",
       "      <th>dayofweek_cos</th>\n",
       "      <th>TEMP_x_CO</th>\n",
       "      <th>NO2_x_RAIN</th>\n",
       "      <th>WSPM_X_SO2</th>\n",
       "      <th>PM10_diff1</th>\n",
       "      <th>TEMP_diff1</th>\n",
       "      <th>PM2.5</th>\n",
       "    </tr>\n",
       "    <tr>\n",
       "      <th>datetime</th>\n",
       "      <th></th>\n",
       "      <th></th>\n",
       "      <th></th>\n",
       "      <th></th>\n",
       "      <th></th>\n",
       "      <th></th>\n",
       "      <th></th>\n",
       "      <th></th>\n",
       "      <th></th>\n",
       "      <th></th>\n",
       "      <th></th>\n",
       "      <th></th>\n",
       "      <th></th>\n",
       "      <th></th>\n",
       "      <th></th>\n",
       "      <th></th>\n",
       "      <th></th>\n",
       "      <th></th>\n",
       "      <th></th>\n",
       "      <th></th>\n",
       "      <th></th>\n",
       "    </tr>\n",
       "  </thead>\n",
       "  <tbody>\n",
       "    <tr>\n",
       "      <th>2013-03-01 01:00:00</th>\n",
       "      <td>-1.412466</td>\n",
       "      <td>-1.078452</td>\n",
       "      <td>-0.593658</td>\n",
       "      <td>-1.424646</td>\n",
       "      <td>-0.809090</td>\n",
       "      <td>0.374490</td>\n",
       "      <td>-1.288641</td>\n",
       "      <td>-0.073894</td>\n",
       "      <td>2.487723</td>\n",
       "      <td>-0.356598</td>\n",
       "      <td>...</td>\n",
       "      <td>1.366067</td>\n",
       "      <td>1.423946</td>\n",
       "      <td>-0.612319</td>\n",
       "      <td>-1.275284</td>\n",
       "      <td>-0.846123</td>\n",
       "      <td>-0.075799</td>\n",
       "      <td>-0.202244</td>\n",
       "      <td>0.110008</td>\n",
       "      <td>-0.303442</td>\n",
       "      <td>2.079442</td>\n",
       "    </tr>\n",
       "    <tr>\n",
       "      <th>2013-03-01 02:00:00</th>\n",
       "      <td>-1.412466</td>\n",
       "      <td>-1.089070</td>\n",
       "      <td>-0.549144</td>\n",
       "      <td>-1.342647</td>\n",
       "      <td>-0.809090</td>\n",
       "      <td>0.304318</td>\n",
       "      <td>-1.288641</td>\n",
       "      <td>-0.073894</td>\n",
       "      <td>3.236048</td>\n",
       "      <td>-0.356598</td>\n",
       "      <td>...</td>\n",
       "      <td>1.224784</td>\n",
       "      <td>1.423946</td>\n",
       "      <td>-0.612319</td>\n",
       "      <td>-1.275284</td>\n",
       "      <td>-0.846123</td>\n",
       "      <td>-0.075799</td>\n",
       "      <td>0.037109</td>\n",
       "      <td>-0.027529</td>\n",
       "      <td>-0.000201</td>\n",
       "      <td>1.945910</td>\n",
       "    </tr>\n",
       "    <tr>\n",
       "      <th>2013-03-01 03:00:00</th>\n",
       "      <td>-1.412466</td>\n",
       "      <td>-1.099689</td>\n",
       "      <td>-0.282056</td>\n",
       "      <td>-1.315314</td>\n",
       "      <td>-0.809090</td>\n",
       "      <td>0.286775</td>\n",
       "      <td>-1.314966</td>\n",
       "      <td>-0.073894</td>\n",
       "      <td>1.157367</td>\n",
       "      <td>-0.356598</td>\n",
       "      <td>...</td>\n",
       "      <td>1.000035</td>\n",
       "      <td>1.423946</td>\n",
       "      <td>-0.612319</td>\n",
       "      <td>-1.275284</td>\n",
       "      <td>-0.852138</td>\n",
       "      <td>-0.075799</td>\n",
       "      <td>0.195810</td>\n",
       "      <td>-0.027529</td>\n",
       "      <td>-0.227632</td>\n",
       "      <td>1.791759</td>\n",
       "    </tr>\n",
       "    <tr>\n",
       "      <th>2013-03-01 04:00:00</th>\n",
       "      <td>-1.412466</td>\n",
       "      <td>-1.131543</td>\n",
       "      <td>-0.237542</td>\n",
       "      <td>-1.287982</td>\n",
       "      <td>-0.809090</td>\n",
       "      <td>0.286775</td>\n",
       "      <td>-1.367616</td>\n",
       "      <td>-0.073894</td>\n",
       "      <td>0.242748</td>\n",
       "      <td>-0.356598</td>\n",
       "      <td>...</td>\n",
       "      <td>0.707136</td>\n",
       "      <td>1.423946</td>\n",
       "      <td>-0.612319</td>\n",
       "      <td>-1.275284</td>\n",
       "      <td>-0.864169</td>\n",
       "      <td>-0.075799</td>\n",
       "      <td>-0.066958</td>\n",
       "      <td>-0.082543</td>\n",
       "      <td>-0.455063</td>\n",
       "      <td>1.098612</td>\n",
       "    </tr>\n",
       "    <tr>\n",
       "      <th>2013-03-01 05:00:00</th>\n",
       "      <td>-1.412466</td>\n",
       "      <td>-1.110307</td>\n",
       "      <td>0.029546</td>\n",
       "      <td>-1.123985</td>\n",
       "      <td>-0.725066</td>\n",
       "      <td>0.181516</td>\n",
       "      <td>-1.385166</td>\n",
       "      <td>-0.073894</td>\n",
       "      <td>1.656251</td>\n",
       "      <td>-0.356598</td>\n",
       "      <td>...</td>\n",
       "      <td>0.366048</td>\n",
       "      <td>1.423946</td>\n",
       "      <td>-0.612319</td>\n",
       "      <td>-1.275284</td>\n",
       "      <td>-0.882884</td>\n",
       "      <td>-0.075799</td>\n",
       "      <td>1.041351</td>\n",
       "      <td>0.054994</td>\n",
       "      <td>-0.151822</td>\n",
       "      <td>1.609438</td>\n",
       "    </tr>\n",
       "  </tbody>\n",
       "</table>\n",
       "<p>5 rows × 36 columns</p>\n",
       "</div>"
      ],
      "text/plain": [
       "                         year      PM10       SO2       NO2        CO   \n",
       "datetime                                                                \n",
       "2013-03-01 01:00:00 -1.412466 -1.078452 -0.593658 -1.424646 -0.809090  \\\n",
       "2013-03-01 02:00:00 -1.412466 -1.089070 -0.549144 -1.342647 -0.809090   \n",
       "2013-03-01 03:00:00 -1.412466 -1.099689 -0.282056 -1.315314 -0.809090   \n",
       "2013-03-01 04:00:00 -1.412466 -1.131543 -0.237542 -1.287982 -0.809090   \n",
       "2013-03-01 05:00:00 -1.412466 -1.110307  0.029546 -1.123985 -0.725066   \n",
       "\n",
       "                           O3      TEMP      RAIN      WSPM    wd_ENE  ...   \n",
       "datetime                                                               ...   \n",
       "2013-03-01 01:00:00  0.374490 -1.288641 -0.073894  2.487723 -0.356598  ...  \\\n",
       "2013-03-01 02:00:00  0.304318 -1.288641 -0.073894  3.236048 -0.356598  ...   \n",
       "2013-03-01 03:00:00  0.286775 -1.314966 -0.073894  1.157367 -0.356598  ...   \n",
       "2013-03-01 04:00:00  0.286775 -1.367616 -0.073894  0.242748 -0.356598  ...   \n",
       "2013-03-01 05:00:00  0.181516 -1.385166 -0.073894  1.656251 -0.356598  ...   \n",
       "\n",
       "                     cos_hour  month_sin  dayofweek_sin  dayofweek_cos   \n",
       "datetime                                                                 \n",
       "2013-03-01 01:00:00  1.366067   1.423946      -0.612319      -1.275284  \\\n",
       "2013-03-01 02:00:00  1.224784   1.423946      -0.612319      -1.275284   \n",
       "2013-03-01 03:00:00  1.000035   1.423946      -0.612319      -1.275284   \n",
       "2013-03-01 04:00:00  0.707136   1.423946      -0.612319      -1.275284   \n",
       "2013-03-01 05:00:00  0.366048   1.423946      -0.612319      -1.275284   \n",
       "\n",
       "                     TEMP_x_CO  NO2_x_RAIN  WSPM_X_SO2  PM10_diff1   \n",
       "datetime                                                             \n",
       "2013-03-01 01:00:00  -0.846123   -0.075799   -0.202244    0.110008  \\\n",
       "2013-03-01 02:00:00  -0.846123   -0.075799    0.037109   -0.027529   \n",
       "2013-03-01 03:00:00  -0.852138   -0.075799    0.195810   -0.027529   \n",
       "2013-03-01 04:00:00  -0.864169   -0.075799   -0.066958   -0.082543   \n",
       "2013-03-01 05:00:00  -0.882884   -0.075799    1.041351    0.054994   \n",
       "\n",
       "                     TEMP_diff1     PM2.5  \n",
       "datetime                                   \n",
       "2013-03-01 01:00:00   -0.303442  2.079442  \n",
       "2013-03-01 02:00:00   -0.000201  1.945910  \n",
       "2013-03-01 03:00:00   -0.227632  1.791759  \n",
       "2013-03-01 04:00:00   -0.455063  1.098612  \n",
       "2013-03-01 05:00:00   -0.151822  1.609438  \n",
       "\n",
       "[5 rows x 36 columns]"
      ]
     },
     "execution_count": 38,
     "metadata": {},
     "output_type": "execute_result"
    }
   ],
   "source": [
    "data_folder_path = \"data\\DataHourlyChina\"\n",
    "TARGET = \"PM2.5\"\n",
    "RANDOM_SEED = 42\n",
    "seed_everything(seed=RANDOM_SEED)\n",
    "\n",
    "df = pd.read_csv(os.path.join(data_folder_path, \"POST_EDA_POST_FEAT_ENG_STANDARDIZED_TARGET_TRANSFORMED.csv\"), index_col=\"datetime\")\n",
    "df.head()"
   ]
  },
  {
   "cell_type": "markdown",
   "metadata": {},
   "source": [
    "Action plan is to:\n",
    "- build several baseline models to choose the best ones\n",
    "- select the best one(s) and fine-tune them\n",
    "- merge them into an ensemble and assess\n",
    "- assess feature importance\n",
    "- Residual Plot for Nonlinear Models (model selection logic)"
   ]
  },
  {
   "cell_type": "markdown",
   "metadata": {},
   "source": [
    "## Data Split and train function"
   ]
  },
  {
   "cell_type": "code",
   "execution_count": 39,
   "metadata": {
    "execution": {
     "iopub.execute_input": "2025-06-26T17:32:49.004078Z",
     "iopub.status.busy": "2025-06-26T17:32:49.003702Z",
     "iopub.status.idle": "2025-06-26T17:32:49.034315Z",
     "shell.execute_reply": "2025-06-26T17:32:49.033389Z",
     "shell.execute_reply.started": "2025-06-26T17:32:49.004051Z"
    },
    "trusted": true
   },
   "outputs": [
    {
     "name": "stdout",
     "output_type": "stream",
     "text": [
      "Train shape: (28045, 35)\n",
      "Test shape: (7012, 35)\n"
     ]
    }
   ],
   "source": [
    "X_train, X_test, y_train, y_test = train_test_split(df.drop(TARGET, axis=1), df[TARGET], test_size=0.2, random_state=RANDOM_SEED)\n",
    "print(f\"Train shape: {X_train.shape}\")\n",
    "print(f\"Test shape: {X_test.shape}\")"
   ]
  },
  {
   "cell_type": "code",
   "execution_count": 40,
   "metadata": {
    "execution": {
     "iopub.execute_input": "2025-06-26T19:24:36.277027Z",
     "iopub.status.busy": "2025-06-26T19:24:36.276545Z",
     "iopub.status.idle": "2025-06-26T19:24:36.299634Z",
     "shell.execute_reply": "2025-06-26T19:24:36.298462Z",
     "shell.execute_reply.started": "2025-06-26T19:24:36.276970Z"
    },
    "trusted": true
   },
   "outputs": [],
   "source": [
    "# globally, in case I have to manually interrupt to see the intermediate results\n",
    "last_tuned_model = np.nan \n",
    "df_results = pd.DataFrame()\n",
    "def tune_model(model_class, params: dict, x_train: pd.DataFrame, y_train: pd.Series, scoring: dict, patience: int):\n",
    "    tunable_params_count = 0\n",
    "    tunable_param_name = \"\"\n",
    "\n",
    "    # ensure only one param is marked as tunable\n",
    "    for param in params:\n",
    "        if isinstance(params[param], (list, np.ndarray)):\n",
    "            tunable_params_count += 1\n",
    "            tunable_param_name = param\n",
    "\n",
    "    if tunable_params_count != 1:\n",
    "        print(\"You may use no less and no more than 1 tunable parameter with type of list / ndarray.\")\n",
    "        return\n",
    "\n",
    "    # declare the result dataframe in advance (to avoid issues with pd.concat)\n",
    "    params_copy = params.copy()\n",
    "    df_results = pd.DataFrame({\n",
    "        tunable_param_name: pd.Series(dtype='str'),\n",
    "        'MAE': pd.Series(dtype='float'),\n",
    "        'RMSE': pd.Series(dtype='float'),\n",
    "        'R2': pd.Series(dtype='float'),\n",
    "        'Time spent (min)': pd.Series(dtype='float'),\n",
    "    })\n",
    "\n",
    "    best_rmse = np.inf\n",
    "    patience_counter = 0\n",
    "\n",
    "    # for each param: cross-validate in 5-fold, time how long it takes, calculate MAE, RMSE, R2\n",
    "    for idx, param_val in enumerate(params[tunable_param_name]):\n",
    "        print(f\"Processing {tunable_param_name} = {param_val} ...\")\n",
    "        params_copy[tunable_param_name] = param_val\n",
    "    \n",
    "        last_tuned_model = model_class(**params_copy)\n",
    "    \n",
    "        start_time = time.perf_counter()\n",
    "        cv_results = cross_validate(last_tuned_model, x_train, y_train, cv=5, scoring=scoring, return_train_score=False)\n",
    "        end_time = time.perf_counter()\n",
    "\n",
    "        mean_cv_mae = -cv_results['test_MAE'].mean()\n",
    "        mean_cv_rmse = -cv_results['test_RMSE'].mean()\n",
    "        mean_cv_r2 = cv_results['test_R2'].mean()\n",
    "    \n",
    "        new_row_df = pd.DataFrame({tunable_param_name: [param_val],\n",
    "                                   'MAE': [mean_cv_mae],\n",
    "                                   'RMSE': [mean_cv_rmse],\n",
    "                                   'R2': [mean_cv_r2],\n",
    "                                   'Time spent (min)': [(end_time - start_time)/60],\n",
    "                                   })\n",
    "    \n",
    "        df_results = pd.concat([df_results, new_row_df], ignore_index=True)\n",
    "    \n",
    "        if mean_cv_rmse < best_rmse:\n",
    "            best_rmse = mean_cv_rmse\n",
    "            patience_counter = 0\n",
    "        else:\n",
    "            patience_counter += 1\n",
    "            if patience_counter >= patience and idx != len(params[tunable_param_name]) - 1:\n",
    "                print(\"Early stopping triggered.\")\n",
    "                return df_results\n",
    "\n",
    "    return df_results"
   ]
  },
  {
   "cell_type": "markdown",
   "metadata": {},
   "source": [
    "## Progressive model selection\n",
    "\n",
    " - Run different model types (Random Forest, Extra Trees, LightGBM, XGBoost, CatBoost) with similar, rough parameters\n",
    " - Pick the best-performing algorithm\n",
    " - feature reduction for model optimization\n",
    " - Fine-tune only the selected model(s)"
   ]
  },
  {
   "cell_type": "markdown",
   "metadata": {},
   "source": [
    "### In the process of selection, the following factors are going to be used:\n",
    "- Sanity Check (if model makes sense)\n",
    "- Reference Point (if a complex model doesn’t outperform a simple baseline, it’s pointless)\n",
    "- Speed-value trade-off (if we get very little value by paying with computational power and time, it's pointless)\n",
    "\n",
    "#### The metrics:\n",
    "- MAE (to understand general error)\n",
    "- RMSE (for outlier / big mistakes sensitivity)\n",
    "- R2 (for assessing how well the model understands the data)\n",
    "- Training time (although it's preliminary consumed during training, it also make the model denser and takes its toll in the inference. Additionally, we might want to maintain the relevance by training it on new data as well)."
   ]
  },
  {
   "cell_type": "code",
   "execution_count": 41,
   "metadata": {},
   "outputs": [],
   "source": [
    "# custom scorers to revert log-predictions\n",
    "def mae_exp(y_true, y_pred):\n",
    "    return mean_absolute_error(np.exp(y_true), np.exp(y_pred))\n",
    "\n",
    "def rmse_exp(y_true, y_pred):\n",
    "    return np.sqrt(mean_squared_error(np.exp(y_true), np.exp(y_pred)))\n",
    "\n",
    "scoring = {\n",
    "    'MAE': make_scorer(mae_exp, greater_is_better=False),\n",
    "    'RMSE': make_scorer(rmse_exp, greater_is_better=False),\n",
    "    'R2': 'r2'\n",
    "}"
   ]
  },
  {
   "cell_type": "markdown",
   "metadata": {},
   "source": [
    "##### 1. RandomForestRegressor"
   ]
  },
  {
   "cell_type": "code",
   "execution_count": 7,
   "metadata": {
    "execution": {
     "iopub.execute_input": "2025-06-26T17:01:09.247938Z",
     "iopub.status.busy": "2025-06-26T17:01:09.247594Z",
     "iopub.status.idle": "2025-06-26T17:05:15.364668Z",
     "shell.execute_reply": "2025-06-26T17:05:15.363760Z",
     "shell.execute_reply.started": "2025-06-26T17:01:09.247912Z"
    },
    "trusted": true
   },
   "outputs": [
    {
     "name": "stdout",
     "output_type": "stream",
     "text": [
      "Processing n_estimators = 100 ...\n",
      "Processing n_estimators = 200 ...\n",
      "Processing n_estimators = 300 ...\n"
     ]
    },
    {
     "data": {
      "text/html": [
       "<div>\n",
       "<style scoped>\n",
       "    .dataframe tbody tr th:only-of-type {\n",
       "        vertical-align: middle;\n",
       "    }\n",
       "\n",
       "    .dataframe tbody tr th {\n",
       "        vertical-align: top;\n",
       "    }\n",
       "\n",
       "    .dataframe thead th {\n",
       "        text-align: right;\n",
       "    }\n",
       "</style>\n",
       "<table border=\"1\" class=\"dataframe\">\n",
       "  <thead>\n",
       "    <tr style=\"text-align: right;\">\n",
       "      <th></th>\n",
       "      <th>0</th>\n",
       "      <th>1</th>\n",
       "      <th>2</th>\n",
       "    </tr>\n",
       "  </thead>\n",
       "  <tbody>\n",
       "    <tr>\n",
       "      <th>n_estimators</th>\n",
       "      <td>100</td>\n",
       "      <td>200</td>\n",
       "      <td>300</td>\n",
       "    </tr>\n",
       "    <tr>\n",
       "      <th>MAE</th>\n",
       "      <td>14.599761</td>\n",
       "      <td>14.584668</td>\n",
       "      <td>14.584996</td>\n",
       "    </tr>\n",
       "    <tr>\n",
       "      <th>RMSE</th>\n",
       "      <td>23.268018</td>\n",
       "      <td>23.2256</td>\n",
       "      <td>23.229052</td>\n",
       "    </tr>\n",
       "    <tr>\n",
       "      <th>R2</th>\n",
       "      <td>0.902084</td>\n",
       "      <td>0.902288</td>\n",
       "      <td>0.902391</td>\n",
       "    </tr>\n",
       "    <tr>\n",
       "      <th>Time spent (min)</th>\n",
       "      <td>0.314332</td>\n",
       "      <td>0.537036</td>\n",
       "      <td>0.735112</td>\n",
       "    </tr>\n",
       "  </tbody>\n",
       "</table>\n",
       "</div>"
      ],
      "text/plain": [
       "                          0          1          2\n",
       "n_estimators            100        200        300\n",
       "MAE               14.599761  14.584668  14.584996\n",
       "RMSE              23.268018    23.2256  23.229052\n",
       "R2                 0.902084   0.902288   0.902391\n",
       "Time spent (min)   0.314332   0.537036   0.735112"
      ]
     },
     "metadata": {},
     "output_type": "display_data"
    }
   ],
   "source": [
    "params = {\n",
    "    'max_depth': 10,          \n",
    "    'n_estimators': [100, 200, 300], \n",
    "    'random_state': RANDOM_SEED,   \n",
    "    'n_jobs': -1 \n",
    "}\n",
    "\n",
    "rf_results = tune_model(model_class=RandomForestRegressor, params=params, x_train=X_train, y_train=y_train, scoring=scoring, patience=2)\n",
    "display(rf_results.T)"
   ]
  },
  {
   "cell_type": "markdown",
   "metadata": {},
   "source": [
    "##### 2. ExtraTreesRegressor"
   ]
  },
  {
   "cell_type": "code",
   "execution_count": 8,
   "metadata": {
    "execution": {
     "iopub.execute_input": "2025-06-26T17:05:15.366273Z",
     "iopub.status.busy": "2025-06-26T17:05:15.365895Z",
     "iopub.status.idle": "2025-06-26T17:07:08.495500Z",
     "shell.execute_reply": "2025-06-26T17:07:08.494372Z",
     "shell.execute_reply.started": "2025-06-26T17:05:15.366211Z"
    },
    "trusted": true
   },
   "outputs": [
    {
     "name": "stdout",
     "output_type": "stream",
     "text": [
      "Processing n_estimators = 100 ...\n",
      "Processing n_estimators = 200 ...\n",
      "Processing n_estimators = 300 ...\n"
     ]
    },
    {
     "data": {
      "text/html": [
       "<div>\n",
       "<style scoped>\n",
       "    .dataframe tbody tr th:only-of-type {\n",
       "        vertical-align: middle;\n",
       "    }\n",
       "\n",
       "    .dataframe tbody tr th {\n",
       "        vertical-align: top;\n",
       "    }\n",
       "\n",
       "    .dataframe thead th {\n",
       "        text-align: right;\n",
       "    }\n",
       "</style>\n",
       "<table border=\"1\" class=\"dataframe\">\n",
       "  <thead>\n",
       "    <tr style=\"text-align: right;\">\n",
       "      <th></th>\n",
       "      <th>0</th>\n",
       "      <th>1</th>\n",
       "      <th>2</th>\n",
       "    </tr>\n",
       "  </thead>\n",
       "  <tbody>\n",
       "    <tr>\n",
       "      <th>n_estimators</th>\n",
       "      <td>100</td>\n",
       "      <td>200</td>\n",
       "      <td>300</td>\n",
       "    </tr>\n",
       "    <tr>\n",
       "      <th>MAE</th>\n",
       "      <td>16.07209</td>\n",
       "      <td>16.037188</td>\n",
       "      <td>16.033461</td>\n",
       "    </tr>\n",
       "    <tr>\n",
       "      <th>RMSE</th>\n",
       "      <td>24.743599</td>\n",
       "      <td>24.724344</td>\n",
       "      <td>24.70229</td>\n",
       "    </tr>\n",
       "    <tr>\n",
       "      <th>R2</th>\n",
       "      <td>0.891165</td>\n",
       "      <td>0.891748</td>\n",
       "      <td>0.891709</td>\n",
       "    </tr>\n",
       "    <tr>\n",
       "      <th>Time spent (min)</th>\n",
       "      <td>0.087565</td>\n",
       "      <td>0.145839</td>\n",
       "      <td>0.207701</td>\n",
       "    </tr>\n",
       "  </tbody>\n",
       "</table>\n",
       "</div>"
      ],
      "text/plain": [
       "                          0          1          2\n",
       "n_estimators            100        200        300\n",
       "MAE                16.07209  16.037188  16.033461\n",
       "RMSE              24.743599  24.724344   24.70229\n",
       "R2                 0.891165   0.891748   0.891709\n",
       "Time spent (min)   0.087565   0.145839   0.207701"
      ]
     },
     "metadata": {},
     "output_type": "display_data"
    }
   ],
   "source": [
    "params = {\n",
    "    'max_depth': 10,          \n",
    "    'n_estimators': [100, 200, 300], \n",
    "    'random_state': RANDOM_SEED,   \n",
    "    'n_jobs': -1\n",
    "}\n",
    "\n",
    "extra_trees_results = tune_model(model_class=ExtraTreesRegressor, params=params, x_train=X_train, y_train=y_train, scoring=scoring, patience=2)\n",
    "display(extra_trees_results.T)"
   ]
  },
  {
   "cell_type": "markdown",
   "metadata": {},
   "source": [
    "##### 3. LGBMRegressor"
   ]
  },
  {
   "cell_type": "code",
   "execution_count": 9,
   "metadata": {
    "execution": {
     "iopub.execute_input": "2025-06-26T17:08:51.411783Z",
     "iopub.status.busy": "2025-06-26T17:08:51.411386Z",
     "iopub.status.idle": "2025-06-26T17:09:02.412898Z",
     "shell.execute_reply": "2025-06-26T17:09:02.411654Z",
     "shell.execute_reply.started": "2025-06-26T17:08:51.411754Z"
    },
    "trusted": true
   },
   "outputs": [
    {
     "name": "stdout",
     "output_type": "stream",
     "text": [
      "Processing n_estimators = 100 ...\n",
      "Processing n_estimators = 200 ...\n",
      "Processing n_estimators = 300 ...\n"
     ]
    },
    {
     "data": {
      "text/html": [
       "<div>\n",
       "<style scoped>\n",
       "    .dataframe tbody tr th:only-of-type {\n",
       "        vertical-align: middle;\n",
       "    }\n",
       "\n",
       "    .dataframe tbody tr th {\n",
       "        vertical-align: top;\n",
       "    }\n",
       "\n",
       "    .dataframe thead th {\n",
       "        text-align: right;\n",
       "    }\n",
       "</style>\n",
       "<table border=\"1\" class=\"dataframe\">\n",
       "  <thead>\n",
       "    <tr style=\"text-align: right;\">\n",
       "      <th></th>\n",
       "      <th>0</th>\n",
       "      <th>1</th>\n",
       "      <th>2</th>\n",
       "    </tr>\n",
       "  </thead>\n",
       "  <tbody>\n",
       "    <tr>\n",
       "      <th>n_estimators</th>\n",
       "      <td>100</td>\n",
       "      <td>200</td>\n",
       "      <td>300</td>\n",
       "    </tr>\n",
       "    <tr>\n",
       "      <th>MAE</th>\n",
       "      <td>14.933144</td>\n",
       "      <td>14.064662</td>\n",
       "      <td>13.674021</td>\n",
       "    </tr>\n",
       "    <tr>\n",
       "      <th>RMSE</th>\n",
       "      <td>24.799812</td>\n",
       "      <td>23.307116</td>\n",
       "      <td>22.624927</td>\n",
       "    </tr>\n",
       "    <tr>\n",
       "      <th>R2</th>\n",
       "      <td>0.900869</td>\n",
       "      <td>0.908306</td>\n",
       "      <td>0.912095</td>\n",
       "    </tr>\n",
       "    <tr>\n",
       "      <th>Time spent (min)</th>\n",
       "      <td>0.017672</td>\n",
       "      <td>0.02795</td>\n",
       "      <td>0.031077</td>\n",
       "    </tr>\n",
       "  </tbody>\n",
       "</table>\n",
       "</div>"
      ],
      "text/plain": [
       "                          0          1          2\n",
       "n_estimators            100        200        300\n",
       "MAE               14.933144  14.064662  13.674021\n",
       "RMSE              24.799812  23.307116  22.624927\n",
       "R2                 0.900869   0.908306   0.912095\n",
       "Time spent (min)   0.017672    0.02795   0.031077"
      ]
     },
     "metadata": {},
     "output_type": "display_data"
    }
   ],
   "source": [
    "params = {\n",
    "    'objective': 'regression', \n",
    "    'boosting_type': 'gbdt',\n",
    "    'num_leaves': 10,          \n",
    "    'learning_rate': 0.1,  \n",
    "    'n_estimators': [100, 200, 300], \n",
    "    'random_state': RANDOM_SEED, \n",
    "    'verbose': -1     \n",
    "}\n",
    "\n",
    "lgbm_results = tune_model(model_class=lgb.LGBMRegressor, params=params, x_train=X_train, y_train=y_train, scoring=scoring, patience=2)\n",
    "display(lgbm_results.T)"
   ]
  },
  {
   "cell_type": "markdown",
   "metadata": {},
   "source": [
    "##### 4. XGBRegressor"
   ]
  },
  {
   "cell_type": "code",
   "execution_count": 10,
   "metadata": {
    "execution": {
     "iopub.execute_input": "2025-06-26T17:09:14.283199Z",
     "iopub.status.busy": "2025-06-26T17:09:14.282833Z",
     "iopub.status.idle": "2025-06-26T17:09:34.662773Z",
     "shell.execute_reply": "2025-06-26T17:09:34.661845Z",
     "shell.execute_reply.started": "2025-06-26T17:09:14.283169Z"
    },
    "trusted": true
   },
   "outputs": [
    {
     "name": "stdout",
     "output_type": "stream",
     "text": [
      "Processing n_estimators = 100 ...\n",
      "Processing n_estimators = 200 ...\n",
      "Processing n_estimators = 300 ...\n"
     ]
    },
    {
     "data": {
      "text/html": [
       "<div>\n",
       "<style scoped>\n",
       "    .dataframe tbody tr th:only-of-type {\n",
       "        vertical-align: middle;\n",
       "    }\n",
       "\n",
       "    .dataframe tbody tr th {\n",
       "        vertical-align: top;\n",
       "    }\n",
       "\n",
       "    .dataframe thead th {\n",
       "        text-align: right;\n",
       "    }\n",
       "</style>\n",
       "<table border=\"1\" class=\"dataframe\">\n",
       "  <thead>\n",
       "    <tr style=\"text-align: right;\">\n",
       "      <th></th>\n",
       "      <th>0</th>\n",
       "      <th>1</th>\n",
       "      <th>2</th>\n",
       "    </tr>\n",
       "  </thead>\n",
       "  <tbody>\n",
       "    <tr>\n",
       "      <th>n_estimators</th>\n",
       "      <td>100</td>\n",
       "      <td>200</td>\n",
       "      <td>300</td>\n",
       "    </tr>\n",
       "    <tr>\n",
       "      <th>MAE</th>\n",
       "      <td>13.01593</td>\n",
       "      <td>12.493038</td>\n",
       "      <td>12.264342</td>\n",
       "    </tr>\n",
       "    <tr>\n",
       "      <th>RMSE</th>\n",
       "      <td>21.655896</td>\n",
       "      <td>20.888168</td>\n",
       "      <td>20.568519</td>\n",
       "    </tr>\n",
       "    <tr>\n",
       "      <th>R2</th>\n",
       "      <td>0.916758</td>\n",
       "      <td>0.92133</td>\n",
       "      <td>0.923015</td>\n",
       "    </tr>\n",
       "    <tr>\n",
       "      <th>Time spent (min)</th>\n",
       "      <td>0.028142</td>\n",
       "      <td>0.046997</td>\n",
       "      <td>0.062274</td>\n",
       "    </tr>\n",
       "  </tbody>\n",
       "</table>\n",
       "</div>"
      ],
      "text/plain": [
       "                          0          1          2\n",
       "n_estimators            100        200        300\n",
       "MAE                13.01593  12.493038  12.264342\n",
       "RMSE              21.655896  20.888168  20.568519\n",
       "R2                 0.916758    0.92133   0.923015\n",
       "Time spent (min)   0.028142   0.046997   0.062274"
      ]
     },
     "metadata": {},
     "output_type": "display_data"
    }
   ],
   "source": [
    "params = {\n",
    "    'objective': 'reg:squarederror',\n",
    "    'booster': 'gbtree', \n",
    "    'learning_rate': 0.1,          \n",
    "    'n_estimators': [100, 200, 300],\n",
    "    'random_state': RANDOM_SEED,   \n",
    "}\n",
    "\n",
    "xg_boost_results = tune_model(model_class=xgb.XGBRegressor, params=params, x_train=X_train, y_train=y_train, scoring=scoring, patience=2)\n",
    "display(xg_boost_results.T)"
   ]
  },
  {
   "cell_type": "markdown",
   "metadata": {},
   "source": [
    "##### 5. CatBoostRegressor"
   ]
  },
  {
   "cell_type": "code",
   "execution_count": 13,
   "metadata": {
    "execution": {
     "iopub.execute_input": "2025-06-26T17:10:12.454612Z",
     "iopub.status.busy": "2025-06-26T17:10:12.454175Z",
     "iopub.status.idle": "2025-06-26T17:15:39.313461Z",
     "shell.execute_reply": "2025-06-26T17:15:39.311802Z",
     "shell.execute_reply.started": "2025-06-26T17:10:12.454579Z"
    },
    "trusted": true
   },
   "outputs": [
    {
     "name": "stdout",
     "output_type": "stream",
     "text": [
      "Processing n_estimators = 100 ...\n",
      "Processing n_estimators = 200 ...\n",
      "Processing n_estimators = 300 ...\n"
     ]
    },
    {
     "data": {
      "text/html": [
       "<div>\n",
       "<style scoped>\n",
       "    .dataframe tbody tr th:only-of-type {\n",
       "        vertical-align: middle;\n",
       "    }\n",
       "\n",
       "    .dataframe tbody tr th {\n",
       "        vertical-align: top;\n",
       "    }\n",
       "\n",
       "    .dataframe thead th {\n",
       "        text-align: right;\n",
       "    }\n",
       "</style>\n",
       "<table border=\"1\" class=\"dataframe\">\n",
       "  <thead>\n",
       "    <tr style=\"text-align: right;\">\n",
       "      <th></th>\n",
       "      <th>0</th>\n",
       "      <th>1</th>\n",
       "      <th>2</th>\n",
       "    </tr>\n",
       "  </thead>\n",
       "  <tbody>\n",
       "    <tr>\n",
       "      <th>n_estimators</th>\n",
       "      <td>100</td>\n",
       "      <td>200</td>\n",
       "      <td>300</td>\n",
       "    </tr>\n",
       "    <tr>\n",
       "      <th>MAE</th>\n",
       "      <td>13.6953</td>\n",
       "      <td>12.684417</td>\n",
       "      <td>12.226125</td>\n",
       "    </tr>\n",
       "    <tr>\n",
       "      <th>RMSE</th>\n",
       "      <td>23.185322</td>\n",
       "      <td>21.603975</td>\n",
       "      <td>20.956646</td>\n",
       "    </tr>\n",
       "    <tr>\n",
       "      <th>R2</th>\n",
       "      <td>0.914216</td>\n",
       "      <td>0.922587</td>\n",
       "      <td>0.925968</td>\n",
       "    </tr>\n",
       "    <tr>\n",
       "      <th>Time spent (min)</th>\n",
       "      <td>0.312819</td>\n",
       "      <td>0.602267</td>\n",
       "      <td>0.860276</td>\n",
       "    </tr>\n",
       "  </tbody>\n",
       "</table>\n",
       "</div>"
      ],
      "text/plain": [
       "                          0          1          2\n",
       "n_estimators            100        200        300\n",
       "MAE                 13.6953  12.684417  12.226125\n",
       "RMSE              23.185322  21.603975  20.956646\n",
       "R2                 0.914216   0.922587   0.925968\n",
       "Time spent (min)   0.312819   0.602267   0.860276"
      ]
     },
     "metadata": {},
     "output_type": "display_data"
    }
   ],
   "source": [
    "params = {\n",
    "    'loss_function': 'RMSE',\n",
    "    'n_estimators': [100, 200, 300], \n",
    "    'max_depth': 10, \n",
    "    'learning_rate': 0.1,\n",
    "    'random_seed': RANDOM_SEED,\n",
    "    'verbose': 0\n",
    "}\n",
    "\n",
    "\n",
    "cat_results = tune_model(model_class=CatBoostRegressor, params=params, x_train=X_train, y_train=y_train, scoring=scoring, patience=2)\n",
    "display(cat_results.T)"
   ]
  },
  {
   "cell_type": "markdown",
   "metadata": {},
   "source": [
    "### Results comparison"
   ]
  },
  {
   "cell_type": "code",
   "execution_count": 14,
   "metadata": {},
   "outputs": [
    {
     "name": "stdout",
     "output_type": "stream",
     "text": [
      "RandomForestRegressor\t\t\t min MAE: 14.584667973337096\n",
      "RandomForestRegressor\t\t\t min RMSE: 23.225600289281154\n",
      "RandomForestRegressor\t\t\t max R2: 0.9023912547519684\n",
      "---\n",
      "ExtraTreesRegressor\t\t\t min MAE: 16.03346101133991\n",
      "ExtraTreesRegressor\t\t\t min RMSE: 24.702289771677822\n",
      "ExtraTreesRegressor\t\t\t max R2: 0.8917478511675301\n",
      "---\n",
      "LGBMRegressor\t\t\t min MAE: 13.674020811638036\n",
      "LGBMRegressor\t\t\t min RMSE: 22.62492675807318\n",
      "LGBMRegressor\t\t\t max R2: 0.9120948977481766\n",
      "---\n",
      "XGBoostRegressor\t\t\t min MAE: 12.264341535118621\n",
      "XGBoostRegressor\t\t\t min RMSE: 20.568519248772024\n",
      "XGBoostRegressor\t\t\t max R2: 0.9230146582560724\n",
      "---\n",
      "CatBoostRegressor\t\t\t min MAE: 12.226124668596857\n",
      "CatBoostRegressor\t\t\t min RMSE: 20.956646186552383\n",
      "CatBoostRegressor\t\t\t max R2: 0.9259675220924584\n",
      "---\n"
     ]
    }
   ],
   "source": [
    "# Despite that the values might be from different batches, we are assessing models' capabilities.\n",
    "baseline_model_results = {\"RandomForestRegressor\": rf_results, \"ExtraTreesRegressor\": extra_trees_results, \"LGBMRegressor\": lgbm_results, \n",
    "                          \"XGBoostRegressor\": xg_boost_results, \"CatBoostRegressor\": cat_results}\n",
    "for model_name in baseline_model_results:\n",
    "    model_results_df = baseline_model_results[model_name]\n",
    "    print(f\"{model_name}\\t\\t\\t min MAE: {min(model_results_df['MAE'])}\")\n",
    "    print(f\"{model_name}\\t\\t\\t min RMSE: {min(model_results_df['RMSE'])}\")\n",
    "    print(f\"{model_name}\\t\\t\\t max R2: {max(model_results_df['R2'])}\")\n",
    "    print(\"---\")"
   ]
  },
  {
   "cell_type": "markdown",
   "metadata": {},
   "source": [
    "### XGBoostRegressor and CatBoostRegressor clearly outperform others with the latter being superior. \n",
    "## Tuning"
   ]
  },
  {
   "cell_type": "code",
   "execution_count": 42,
   "metadata": {},
   "outputs": [],
   "source": [
    "best_xgbRegressor_params = {\n",
    "    'objective': 'reg:squarederror',\n",
    "    'booster': 'gbtree', \n",
    "    'n_estimators': 0,\n",
    "    'learning_rate': 0,\n",
    "    'random_state': RANDOM_SEED,\n",
    "}\n",
    "\n",
    "best_catBoostRegressor_params = {\n",
    "    'loss_function': 'RMSE',\n",
    "    'n_estimators': 0,\n",
    "    'max_depth': 0,\n",
    "    'learning_rate': 0,\n",
    "    'random_seed': RANDOM_SEED,\n",
    "    'verbose': 0\n",
    "}"
   ]
  },
  {
   "cell_type": "markdown",
   "metadata": {},
   "source": [
    "#### Tuning XGBRegressor's n_estimators:"
   ]
  },
  {
   "cell_type": "code",
   "execution_count": 46,
   "metadata": {
    "execution": {
     "iopub.execute_input": "2025-06-26T17:33:37.832181Z",
     "iopub.status.busy": "2025-06-26T17:33:37.831757Z",
     "iopub.status.idle": "2025-06-26T17:57:02.139110Z",
     "shell.execute_reply": "2025-06-26T17:57:02.137939Z",
     "shell.execute_reply.started": "2025-06-26T17:33:37.832147Z"
    },
    "trusted": true
   },
   "outputs": [
    {
     "name": "stdout",
     "output_type": "stream",
     "text": [
      "Processing n_estimators = 1000 ...\n",
      "Processing n_estimators = 3000 ...\n",
      "Processing n_estimators = 6000 ...\n",
      "Processing n_estimators = 10000 ...\n",
      "Processing n_estimators = 15000 ...\n",
      "Early stopping triggered.\n"
     ]
    },
    {
     "data": {
      "text/html": [
       "<div>\n",
       "<style scoped>\n",
       "    .dataframe tbody tr th:only-of-type {\n",
       "        vertical-align: middle;\n",
       "    }\n",
       "\n",
       "    .dataframe tbody tr th {\n",
       "        vertical-align: top;\n",
       "    }\n",
       "\n",
       "    .dataframe thead th {\n",
       "        text-align: right;\n",
       "    }\n",
       "</style>\n",
       "<table border=\"1\" class=\"dataframe\">\n",
       "  <thead>\n",
       "    <tr style=\"text-align: right;\">\n",
       "      <th></th>\n",
       "      <th>0</th>\n",
       "      <th>1</th>\n",
       "      <th>2</th>\n",
       "      <th>3</th>\n",
       "      <th>4</th>\n",
       "    </tr>\n",
       "  </thead>\n",
       "  <tbody>\n",
       "    <tr>\n",
       "      <th>n_estimators</th>\n",
       "      <td>1000</td>\n",
       "      <td>3000</td>\n",
       "      <td>6000</td>\n",
       "      <td>10000</td>\n",
       "      <td>15000</td>\n",
       "    </tr>\n",
       "    <tr>\n",
       "      <th>MAE</th>\n",
       "      <td>11.763538</td>\n",
       "      <td>11.609176</td>\n",
       "      <td>11.595269</td>\n",
       "      <td>11.595269</td>\n",
       "      <td>11.595269</td>\n",
       "    </tr>\n",
       "    <tr>\n",
       "      <th>RMSE</th>\n",
       "      <td>19.906403</td>\n",
       "      <td>19.744917</td>\n",
       "      <td>19.73731</td>\n",
       "      <td>19.73731</td>\n",
       "      <td>19.73731</td>\n",
       "    </tr>\n",
       "    <tr>\n",
       "      <th>R2</th>\n",
       "      <td>0.925788</td>\n",
       "      <td>0.92621</td>\n",
       "      <td>0.926243</td>\n",
       "      <td>0.926243</td>\n",
       "      <td>0.926243</td>\n",
       "    </tr>\n",
       "    <tr>\n",
       "      <th>Time spent (min)</th>\n",
       "      <td>0.201944</td>\n",
       "      <td>0.592843</td>\n",
       "      <td>1.244655</td>\n",
       "      <td>1.282435</td>\n",
       "      <td>1.526943</td>\n",
       "    </tr>\n",
       "  </tbody>\n",
       "</table>\n",
       "</div>"
      ],
      "text/plain": [
       "                          0          1          2          3          4\n",
       "n_estimators           1000       3000       6000      10000      15000\n",
       "MAE               11.763538  11.609176  11.595269  11.595269  11.595269\n",
       "RMSE              19.906403  19.744917   19.73731   19.73731   19.73731\n",
       "R2                 0.925788    0.92621   0.926243   0.926243   0.926243\n",
       "Time spent (min)   0.201944   0.592843   1.244655   1.282435   1.526943"
      ]
     },
     "metadata": {},
     "output_type": "display_data"
    }
   ],
   "source": [
    "params = {\n",
    "    'objective': 'reg:squarederror',\n",
    "    'booster': 'gbtree', \n",
    "    'learning_rate': 0.1,         \n",
    "    'n_estimators': [1000, 3000, 6000, 10000, 15000, 18000],\n",
    "    'random_state': RANDOM_SEED,   \n",
    "}\n",
    "\n",
    "xg_boost_results2 = tune_model(model_class=xgb.XGBRegressor, params=params, x_train=X_train, y_train=y_train, scoring=scoring, patience=2)\n",
    "display(xg_boost_results2.T)"
   ]
  },
  {
   "cell_type": "markdown",
   "metadata": {},
   "source": [
    "##### While the optimal value appears to lie in n_estimators>=10.000, starting from 6000, we have way more estimators added and time spent for the insignificant trade-off. \n",
    "\n",
    "##### The further interval being researched is [3000;6000):"
   ]
  },
  {
   "cell_type": "code",
   "execution_count": 56,
   "metadata": {
    "execution": {
     "iopub.execute_input": "2025-06-26T19:52:53.561384Z",
     "iopub.status.busy": "2025-06-26T19:52:53.560991Z"
    },
    "trusted": true
   },
   "outputs": [
    {
     "name": "stdout",
     "output_type": "stream",
     "text": [
      "Processing n_estimators = 3000 ...\n",
      "Processing n_estimators = 3500 ...\n",
      "Processing n_estimators = 4000 ...\n",
      "Processing n_estimators = 4500 ...\n",
      "Processing n_estimators = 5000 ...\n",
      "Processing n_estimators = 5500 ...\n"
     ]
    },
    {
     "data": {
      "text/html": [
       "<div>\n",
       "<style scoped>\n",
       "    .dataframe tbody tr th:only-of-type {\n",
       "        vertical-align: middle;\n",
       "    }\n",
       "\n",
       "    .dataframe tbody tr th {\n",
       "        vertical-align: top;\n",
       "    }\n",
       "\n",
       "    .dataframe thead th {\n",
       "        text-align: right;\n",
       "    }\n",
       "</style>\n",
       "<table border=\"1\" class=\"dataframe\">\n",
       "  <thead>\n",
       "    <tr style=\"text-align: right;\">\n",
       "      <th></th>\n",
       "      <th>0</th>\n",
       "      <th>1</th>\n",
       "      <th>2</th>\n",
       "      <th>3</th>\n",
       "      <th>4</th>\n",
       "      <th>5</th>\n",
       "    </tr>\n",
       "  </thead>\n",
       "  <tbody>\n",
       "    <tr>\n",
       "      <th>n_estimators</th>\n",
       "      <td>3000</td>\n",
       "      <td>3500</td>\n",
       "      <td>4000</td>\n",
       "      <td>4500</td>\n",
       "      <td>5000</td>\n",
       "      <td>5500</td>\n",
       "    </tr>\n",
       "    <tr>\n",
       "      <th>MAE</th>\n",
       "      <td>11.609176</td>\n",
       "      <td>11.603061</td>\n",
       "      <td>11.599356</td>\n",
       "      <td>11.594969</td>\n",
       "      <td>11.594964</td>\n",
       "      <td>11.595217</td>\n",
       "    </tr>\n",
       "    <tr>\n",
       "      <th>RMSE</th>\n",
       "      <td>19.744917</td>\n",
       "      <td>19.740791</td>\n",
       "      <td>19.740467</td>\n",
       "      <td>19.735336</td>\n",
       "      <td>19.735844</td>\n",
       "      <td>19.736791</td>\n",
       "    </tr>\n",
       "    <tr>\n",
       "      <th>R2</th>\n",
       "      <td>0.92621</td>\n",
       "      <td>0.926239</td>\n",
       "      <td>0.926242</td>\n",
       "      <td>0.926249</td>\n",
       "      <td>0.926253</td>\n",
       "      <td>0.926248</td>\n",
       "    </tr>\n",
       "    <tr>\n",
       "      <th>Time spent (min)</th>\n",
       "      <td>0.531113</td>\n",
       "      <td>0.602703</td>\n",
       "      <td>0.706599</td>\n",
       "      <td>0.844127</td>\n",
       "      <td>0.874247</td>\n",
       "      <td>0.968214</td>\n",
       "    </tr>\n",
       "  </tbody>\n",
       "</table>\n",
       "</div>"
      ],
      "text/plain": [
       "                          0          1          2          3          4   \n",
       "n_estimators           3000       3500       4000       4500       5000  \\\n",
       "MAE               11.609176  11.603061  11.599356  11.594969  11.594964   \n",
       "RMSE              19.744917  19.740791  19.740467  19.735336  19.735844   \n",
       "R2                  0.92621   0.926239   0.926242   0.926249   0.926253   \n",
       "Time spent (min)   0.531113   0.602703   0.706599   0.844127   0.874247   \n",
       "\n",
       "                          5  \n",
       "n_estimators           5500  \n",
       "MAE               11.595217  \n",
       "RMSE              19.736791  \n",
       "R2                 0.926248  \n",
       "Time spent (min)   0.968214  "
      ]
     },
     "metadata": {},
     "output_type": "display_data"
    }
   ],
   "source": [
    "params = {\n",
    "    'objective': 'reg:squarederror',\n",
    "    'booster': 'gbtree', \n",
    "    'learning_rate': 0.1,        \n",
    "    'n_estimators': [3000, 3500, 4000, 4500, 5000, 5500],\n",
    "    'random_state': RANDOM_SEED,   \n",
    "}\n",
    "\n",
    "xg_boost_results3 = tune_model(model_class=xgb.XGBRegressor, params=params, x_train=X_train, y_train=y_train, scoring=scoring, patience=2)\n",
    "display(xg_boost_results3.T)"
   ]
  },
  {
   "cell_type": "markdown",
   "metadata": {},
   "source": [
    "##### 4500 < n_estimators <= 5000"
   ]
  },
  {
   "cell_type": "code",
   "execution_count": 59,
   "metadata": {},
   "outputs": [
    {
     "name": "stdout",
     "output_type": "stream",
     "text": [
      "Processing n_estimators = 4600 ...\n",
      "Processing n_estimators = 4700 ...\n",
      "Processing n_estimators = 4800 ...\n",
      "Processing n_estimators = 4900 ...\n"
     ]
    },
    {
     "data": {
      "text/html": [
       "<div>\n",
       "<style scoped>\n",
       "    .dataframe tbody tr th:only-of-type {\n",
       "        vertical-align: middle;\n",
       "    }\n",
       "\n",
       "    .dataframe tbody tr th {\n",
       "        vertical-align: top;\n",
       "    }\n",
       "\n",
       "    .dataframe thead th {\n",
       "        text-align: right;\n",
       "    }\n",
       "</style>\n",
       "<table border=\"1\" class=\"dataframe\">\n",
       "  <thead>\n",
       "    <tr style=\"text-align: right;\">\n",
       "      <th></th>\n",
       "      <th>0</th>\n",
       "      <th>1</th>\n",
       "      <th>2</th>\n",
       "      <th>3</th>\n",
       "    </tr>\n",
       "  </thead>\n",
       "  <tbody>\n",
       "    <tr>\n",
       "      <th>n_estimators</th>\n",
       "      <td>4600</td>\n",
       "      <td>4700</td>\n",
       "      <td>4800</td>\n",
       "      <td>4900</td>\n",
       "    </tr>\n",
       "    <tr>\n",
       "      <th>MAE</th>\n",
       "      <td>11.595112</td>\n",
       "      <td>11.595069</td>\n",
       "      <td>11.595116</td>\n",
       "      <td>11.594645</td>\n",
       "    </tr>\n",
       "    <tr>\n",
       "      <th>RMSE</th>\n",
       "      <td>19.735449</td>\n",
       "      <td>19.734836</td>\n",
       "      <td>19.735201</td>\n",
       "      <td>19.735151</td>\n",
       "    </tr>\n",
       "    <tr>\n",
       "      <th>R2</th>\n",
       "      <td>0.92625</td>\n",
       "      <td>0.926251</td>\n",
       "      <td>0.926248</td>\n",
       "      <td>0.926252</td>\n",
       "    </tr>\n",
       "    <tr>\n",
       "      <th>Time spent (min)</th>\n",
       "      <td>0.796671</td>\n",
       "      <td>0.773792</td>\n",
       "      <td>0.783018</td>\n",
       "      <td>0.801356</td>\n",
       "    </tr>\n",
       "  </tbody>\n",
       "</table>\n",
       "</div>"
      ],
      "text/plain": [
       "                          0          1          2          3\n",
       "n_estimators           4600       4700       4800       4900\n",
       "MAE               11.595112  11.595069  11.595116  11.594645\n",
       "RMSE              19.735449  19.734836  19.735201  19.735151\n",
       "R2                  0.92625   0.926251   0.926248   0.926252\n",
       "Time spent (min)   0.796671   0.773792   0.783018   0.801356"
      ]
     },
     "metadata": {},
     "output_type": "display_data"
    }
   ],
   "source": [
    "params = {\n",
    "    'objective': 'reg:squarederror',\n",
    "    'booster': 'gbtree', \n",
    "    'learning_rate': 0.1,        \n",
    "    'n_estimators': [4600, 4700, 4800, 4900],\n",
    "    'random_state': RANDOM_SEED,   \n",
    "}\n",
    "\n",
    "xg_boost_results4 = tune_model(model_class=xgb.XGBRegressor, params=params, x_train=X_train, y_train=y_train, scoring=scoring, patience=2)\n",
    "display(xg_boost_results4.T)"
   ]
  },
  {
   "cell_type": "code",
   "execution_count": 43,
   "metadata": {},
   "outputs": [],
   "source": [
    "best_xgbRegressor_params['n_estimators'] = 4900"
   ]
  },
  {
   "cell_type": "markdown",
   "metadata": {},
   "source": [
    "#### Tuning XGBRegressor's learning rate"
   ]
  },
  {
   "cell_type": "code",
   "execution_count": 63,
   "metadata": {},
   "outputs": [
    {
     "name": "stdout",
     "output_type": "stream",
     "text": [
      "Processing learning_rate = 0.05 ...\n",
      "Processing learning_rate = 0.1 ...\n",
      "Processing learning_rate = 0.15 ...\n",
      "Early stopping triggered.\n"
     ]
    },
    {
     "data": {
      "text/html": [
       "<div>\n",
       "<style scoped>\n",
       "    .dataframe tbody tr th:only-of-type {\n",
       "        vertical-align: middle;\n",
       "    }\n",
       "\n",
       "    .dataframe tbody tr th {\n",
       "        vertical-align: top;\n",
       "    }\n",
       "\n",
       "    .dataframe thead th {\n",
       "        text-align: right;\n",
       "    }\n",
       "</style>\n",
       "<table border=\"1\" class=\"dataframe\">\n",
       "  <thead>\n",
       "    <tr style=\"text-align: right;\">\n",
       "      <th></th>\n",
       "      <th>0</th>\n",
       "      <th>1</th>\n",
       "      <th>2</th>\n",
       "    </tr>\n",
       "  </thead>\n",
       "  <tbody>\n",
       "    <tr>\n",
       "      <th>learning_rate</th>\n",
       "      <td>0.050000</td>\n",
       "      <td>0.100000</td>\n",
       "      <td>0.150000</td>\n",
       "    </tr>\n",
       "    <tr>\n",
       "      <th>MAE</th>\n",
       "      <td>11.540096</td>\n",
       "      <td>11.594645</td>\n",
       "      <td>11.791349</td>\n",
       "    </tr>\n",
       "    <tr>\n",
       "      <th>RMSE</th>\n",
       "      <td>19.555393</td>\n",
       "      <td>19.735151</td>\n",
       "      <td>19.900634</td>\n",
       "    </tr>\n",
       "    <tr>\n",
       "      <th>R2</th>\n",
       "      <td>0.926742</td>\n",
       "      <td>0.926252</td>\n",
       "      <td>0.924380</td>\n",
       "    </tr>\n",
       "    <tr>\n",
       "      <th>Time spent (min)</th>\n",
       "      <td>0.964828</td>\n",
       "      <td>1.033259</td>\n",
       "      <td>0.880278</td>\n",
       "    </tr>\n",
       "  </tbody>\n",
       "</table>\n",
       "</div>"
      ],
      "text/plain": [
       "                          0          1          2\n",
       "learning_rate      0.050000   0.100000   0.150000\n",
       "MAE               11.540096  11.594645  11.791349\n",
       "RMSE              19.555393  19.735151  19.900634\n",
       "R2                 0.926742   0.926252   0.924380\n",
       "Time spent (min)   0.964828   1.033259   0.880278"
      ]
     },
     "metadata": {},
     "output_type": "display_data"
    }
   ],
   "source": [
    "params = {\n",
    "    'objective': 'reg:squarederror',\n",
    "    'booster': 'gbtree', \n",
    "    'learning_rate': [0.05, 0.1, 0.15, 0.2, 0.25],          \n",
    "    'n_estimators': 4900,\n",
    "    'random_state': RANDOM_SEED,   \n",
    "}\n",
    "\n",
    "xg_boost_results5 = tune_model(model_class=xgb.XGBRegressor, params=params, x_train=X_train, y_train=y_train, scoring=scoring, patience=2)\n",
    "display(xg_boost_results5.T)"
   ]
  },
  {
   "cell_type": "markdown",
   "metadata": {},
   "source": [
    "#### The optimum is <= 0.05:"
   ]
  },
  {
   "cell_type": "code",
   "execution_count": 66,
   "metadata": {},
   "outputs": [
    {
     "name": "stdout",
     "output_type": "stream",
     "text": [
      "Processing learning_rate = 0.01 ...\n",
      "Processing learning_rate = 0.02 ...\n",
      "Processing learning_rate = 0.03 ...\n",
      "Processing learning_rate = 0.04 ...\n"
     ]
    },
    {
     "data": {
      "text/html": [
       "<div>\n",
       "<style scoped>\n",
       "    .dataframe tbody tr th:only-of-type {\n",
       "        vertical-align: middle;\n",
       "    }\n",
       "\n",
       "    .dataframe tbody tr th {\n",
       "        vertical-align: top;\n",
       "    }\n",
       "\n",
       "    .dataframe thead th {\n",
       "        text-align: right;\n",
       "    }\n",
       "</style>\n",
       "<table border=\"1\" class=\"dataframe\">\n",
       "  <thead>\n",
       "    <tr style=\"text-align: right;\">\n",
       "      <th></th>\n",
       "      <th>0</th>\n",
       "      <th>1</th>\n",
       "      <th>2</th>\n",
       "      <th>3</th>\n",
       "    </tr>\n",
       "  </thead>\n",
       "  <tbody>\n",
       "    <tr>\n",
       "      <th>learning_rate</th>\n",
       "      <td>0.010000</td>\n",
       "      <td>0.020000</td>\n",
       "      <td>0.030000</td>\n",
       "      <td>0.040000</td>\n",
       "    </tr>\n",
       "    <tr>\n",
       "      <th>MAE</th>\n",
       "      <td>11.986709</td>\n",
       "      <td>11.714756</td>\n",
       "      <td>11.590504</td>\n",
       "      <td>11.572544</td>\n",
       "    </tr>\n",
       "    <tr>\n",
       "      <th>RMSE</th>\n",
       "      <td>20.233754</td>\n",
       "      <td>19.859967</td>\n",
       "      <td>19.676781</td>\n",
       "      <td>19.709994</td>\n",
       "    </tr>\n",
       "    <tr>\n",
       "      <th>R2</th>\n",
       "      <td>0.924693</td>\n",
       "      <td>0.926125</td>\n",
       "      <td>0.926546</td>\n",
       "      <td>0.926775</td>\n",
       "    </tr>\n",
       "    <tr>\n",
       "      <th>Time spent (min)</th>\n",
       "      <td>0.921023</td>\n",
       "      <td>0.903683</td>\n",
       "      <td>0.904956</td>\n",
       "      <td>0.905582</td>\n",
       "    </tr>\n",
       "  </tbody>\n",
       "</table>\n",
       "</div>"
      ],
      "text/plain": [
       "                          0          1          2          3\n",
       "learning_rate      0.010000   0.020000   0.030000   0.040000\n",
       "MAE               11.986709  11.714756  11.590504  11.572544\n",
       "RMSE              20.233754  19.859967  19.676781  19.709994\n",
       "R2                 0.924693   0.926125   0.926546   0.926775\n",
       "Time spent (min)   0.921023   0.903683   0.904956   0.905582"
      ]
     },
     "metadata": {},
     "output_type": "display_data"
    }
   ],
   "source": [
    "params = {\n",
    "    'objective': 'reg:squarederror',\n",
    "    'booster': 'gbtree', \n",
    "    'learning_rate': [0.01, 0.02, 0.03, 0.04],          \n",
    "    'n_estimators': 5000,\n",
    "    'random_state': RANDOM_SEED,   \n",
    "}\n",
    "\n",
    "xg_boost_results6 = tune_model(model_class=xgb.XGBRegressor, params=params, x_train=X_train, y_train=y_train, scoring=scoring, patience=2)\n",
    "display(xg_boost_results6.T)"
   ]
  },
  {
   "cell_type": "markdown",
   "metadata": {},
   "source": [
    "#### 0.05 is the best option here."
   ]
  },
  {
   "cell_type": "code",
   "execution_count": 44,
   "metadata": {},
   "outputs": [],
   "source": [
    "best_xgbRegressor_params['learning_rate'] = 0.05"
   ]
  },
  {
   "cell_type": "markdown",
   "metadata": {},
   "source": [
    "#### Tuning CatBoostRegressor's max_depth"
   ]
  },
  {
   "cell_type": "code",
   "execution_count": 17,
   "metadata": {
    "trusted": true
   },
   "outputs": [
    {
     "name": "stdout",
     "output_type": "stream",
     "text": [
      "Processing max_depth = 10 ...\n",
      "Processing max_depth = 12 ...\n",
      "Processing max_depth = 14 ...\n",
      "Processing max_depth = 16 ...\n"
     ]
    },
    {
     "data": {
      "text/html": [
       "<div>\n",
       "<style scoped>\n",
       "    .dataframe tbody tr th:only-of-type {\n",
       "        vertical-align: middle;\n",
       "    }\n",
       "\n",
       "    .dataframe tbody tr th {\n",
       "        vertical-align: top;\n",
       "    }\n",
       "\n",
       "    .dataframe thead th {\n",
       "        text-align: right;\n",
       "    }\n",
       "</style>\n",
       "<table border=\"1\" class=\"dataframe\">\n",
       "  <thead>\n",
       "    <tr style=\"text-align: right;\">\n",
       "      <th></th>\n",
       "      <th>0</th>\n",
       "      <th>1</th>\n",
       "      <th>2</th>\n",
       "      <th>3</th>\n",
       "    </tr>\n",
       "  </thead>\n",
       "  <tbody>\n",
       "    <tr>\n",
       "      <th>max_depth</th>\n",
       "      <td>10</td>\n",
       "      <td>12</td>\n",
       "      <td>14</td>\n",
       "      <td>16</td>\n",
       "    </tr>\n",
       "    <tr>\n",
       "      <th>MAE</th>\n",
       "      <td>12.684417</td>\n",
       "      <td>12.27463</td>\n",
       "      <td>12.176202</td>\n",
       "      <td>12.677481</td>\n",
       "    </tr>\n",
       "    <tr>\n",
       "      <th>RMSE</th>\n",
       "      <td>21.603975</td>\n",
       "      <td>21.431761</td>\n",
       "      <td>21.835232</td>\n",
       "      <td>23.627023</td>\n",
       "    </tr>\n",
       "    <tr>\n",
       "      <th>R2</th>\n",
       "      <td>0.922587</td>\n",
       "      <td>0.925859</td>\n",
       "      <td>0.926423</td>\n",
       "      <td>0.922599</td>\n",
       "    </tr>\n",
       "    <tr>\n",
       "      <th>Time spent (min)</th>\n",
       "      <td>0.600401</td>\n",
       "      <td>1.792613</td>\n",
       "      <td>6.826253</td>\n",
       "      <td>26.268968</td>\n",
       "    </tr>\n",
       "  </tbody>\n",
       "</table>\n",
       "</div>"
      ],
      "text/plain": [
       "                          0          1          2          3\n",
       "max_depth                10         12         14         16\n",
       "MAE               12.684417   12.27463  12.176202  12.677481\n",
       "RMSE              21.603975  21.431761  21.835232  23.627023\n",
       "R2                 0.922587   0.925859   0.926423   0.922599\n",
       "Time spent (min)   0.600401   1.792613   6.826253  26.268968"
      ]
     },
     "metadata": {},
     "output_type": "display_data"
    }
   ],
   "source": [
    "params = {\n",
    "    'n_estimators': 200,\n",
    "    'max_depth': [10, 12, 14, 16],\n",
    "    'learning_rate': 0.1, \n",
    "    'random_seed': RANDOM_SEED,\n",
    "    'verbose': 0\n",
    "}\n",
    "\n",
    "cat_results2 = tune_model(model_class=CatBoostRegressor, params=params, x_train=X_train, y_train=y_train, scoring=scoring, patience=2)\n",
    "display(cat_results2.T)"
   ]
  },
  {
   "cell_type": "markdown",
   "metadata": {},
   "source": [
    "##### The trade-off between the increasing in score and the spent time is not justified."
   ]
  },
  {
   "cell_type": "code",
   "execution_count": 19,
   "metadata": {},
   "outputs": [
    {
     "name": "stdout",
     "output_type": "stream",
     "text": [
      "Processing max_depth = 13 ...\n"
     ]
    },
    {
     "data": {
      "text/html": [
       "<div>\n",
       "<style scoped>\n",
       "    .dataframe tbody tr th:only-of-type {\n",
       "        vertical-align: middle;\n",
       "    }\n",
       "\n",
       "    .dataframe tbody tr th {\n",
       "        vertical-align: top;\n",
       "    }\n",
       "\n",
       "    .dataframe thead th {\n",
       "        text-align: right;\n",
       "    }\n",
       "</style>\n",
       "<table border=\"1\" class=\"dataframe\">\n",
       "  <thead>\n",
       "    <tr style=\"text-align: right;\">\n",
       "      <th></th>\n",
       "      <th>0</th>\n",
       "    </tr>\n",
       "  </thead>\n",
       "  <tbody>\n",
       "    <tr>\n",
       "      <th>max_depth</th>\n",
       "      <td>13</td>\n",
       "    </tr>\n",
       "    <tr>\n",
       "      <th>MAE</th>\n",
       "      <td>12.156796</td>\n",
       "    </tr>\n",
       "    <tr>\n",
       "      <th>RMSE</th>\n",
       "      <td>21.49262</td>\n",
       "    </tr>\n",
       "    <tr>\n",
       "      <th>R2</th>\n",
       "      <td>0.926846</td>\n",
       "    </tr>\n",
       "    <tr>\n",
       "      <th>Time spent (min)</th>\n",
       "      <td>3.401208</td>\n",
       "    </tr>\n",
       "  </tbody>\n",
       "</table>\n",
       "</div>"
      ],
      "text/plain": [
       "                          0\n",
       "max_depth                13\n",
       "MAE               12.156796\n",
       "RMSE               21.49262\n",
       "R2                 0.926846\n",
       "Time spent (min)   3.401208"
      ]
     },
     "metadata": {},
     "output_type": "display_data"
    }
   ],
   "source": [
    "params = {\n",
    "    'n_estimators': 200,\n",
    "    'max_depth': [13],\n",
    "    'learning_rate': 0.1, \n",
    "    'random_seed': RANDOM_SEED,\n",
    "    'verbose': 0\n",
    "}\n",
    "\n",
    "cat_results3 = tune_model(model_class=CatBoostRegressor, params=params, x_train=X_train, y_train=y_train, scoring=scoring, patience=2)\n",
    "display(cat_results3.T)"
   ]
  },
  {
   "cell_type": "code",
   "execution_count": 45,
   "metadata": {},
   "outputs": [],
   "source": [
    "best_catBoostRegressor_params['max_depth'] = 12"
   ]
  },
  {
   "cell_type": "markdown",
   "metadata": {},
   "source": [
    "#### Tuning CatBoostRegressor's learning_rate"
   ]
  },
  {
   "cell_type": "code",
   "execution_count": null,
   "metadata": {
    "trusted": true
   },
   "outputs": [
    {
     "name": "stdout",
     "output_type": "stream",
     "text": [
      "Processing learning_rate = 0.05 ...\n",
      "Processing learning_rate = 0.1 ...\n",
      "Processing learning_rate = 0.15 ...\n",
      "Processing learning_rate = 0.2 ...\n",
      "Processing learning_rate = 0.25 ...\n"
     ]
    },
    {
     "data": {
      "text/html": [
       "<div>\n",
       "<style scoped>\n",
       "    .dataframe tbody tr th:only-of-type {\n",
       "        vertical-align: middle;\n",
       "    }\n",
       "\n",
       "    .dataframe tbody tr th {\n",
       "        vertical-align: top;\n",
       "    }\n",
       "\n",
       "    .dataframe thead th {\n",
       "        text-align: right;\n",
       "    }\n",
       "</style>\n",
       "<table border=\"1\" class=\"dataframe\">\n",
       "  <thead>\n",
       "    <tr style=\"text-align: right;\">\n",
       "      <th></th>\n",
       "      <th>0</th>\n",
       "      <th>1</th>\n",
       "      <th>2</th>\n",
       "      <th>3</th>\n",
       "      <th>4</th>\n",
       "    </tr>\n",
       "  </thead>\n",
       "  <tbody>\n",
       "    <tr>\n",
       "      <th>learning_rate</th>\n",
       "      <td>0.050000</td>\n",
       "      <td>0.100000</td>\n",
       "      <td>0.150000</td>\n",
       "      <td>0.200000</td>\n",
       "      <td>0.250000</td>\n",
       "    </tr>\n",
       "    <tr>\n",
       "      <th>MAE</th>\n",
       "      <td>13.023230</td>\n",
       "      <td>12.274630</td>\n",
       "      <td>12.077057</td>\n",
       "      <td>12.068629</td>\n",
       "      <td>12.138408</td>\n",
       "    </tr>\n",
       "    <tr>\n",
       "      <th>RMSE</th>\n",
       "      <td>22.474393</td>\n",
       "      <td>21.431761</td>\n",
       "      <td>21.220744</td>\n",
       "      <td>21.124688</td>\n",
       "      <td>21.300223</td>\n",
       "    </tr>\n",
       "    <tr>\n",
       "      <th>R2</th>\n",
       "      <td>0.919775</td>\n",
       "      <td>0.925859</td>\n",
       "      <td>0.927619</td>\n",
       "      <td>0.926898</td>\n",
       "      <td>0.925969</td>\n",
       "    </tr>\n",
       "    <tr>\n",
       "      <th>Time spent (min)</th>\n",
       "      <td>1.762619</td>\n",
       "      <td>1.768854</td>\n",
       "      <td>1.783570</td>\n",
       "      <td>1.732717</td>\n",
       "      <td>1.760451</td>\n",
       "    </tr>\n",
       "  </tbody>\n",
       "</table>\n",
       "</div>"
      ],
      "text/plain": [
       "                          0          1          2          3          4\n",
       "learning_rate      0.050000   0.100000   0.150000   0.200000   0.250000\n",
       "MAE               13.023230  12.274630  12.077057  12.068629  12.138408\n",
       "RMSE              22.474393  21.431761  21.220744  21.124688  21.300223\n",
       "R2                 0.919775   0.925859   0.927619   0.926898   0.925969\n",
       "Time spent (min)   1.762619   1.768854   1.783570   1.732717   1.760451"
      ]
     },
     "metadata": {},
     "output_type": "display_data"
    }
   ],
   "source": [
    "params = {\n",
    "    'n_estimators': 200,\n",
    "    'max_depth': 12,\n",
    "    'learning_rate': [0.05, 0.1, 0.15, 0.2, 0.25],\n",
    "    'random_seed': RANDOM_SEED,\n",
    "    'verbose': 0\n",
    "}\n",
    "\n",
    "cat_results4 = tune_model(model_class=CatBoostRegressor, params=params, x_train=X_train, y_train=y_train, scoring=scoring, patience=2)\n",
    "display(cat_results4.T)"
   ]
  },
  {
   "cell_type": "markdown",
   "metadata": {},
   "source": [
    "#### The optimal value is in [0.15;0.25)"
   ]
  },
  {
   "cell_type": "code",
   "execution_count": null,
   "metadata": {
    "trusted": true
   },
   "outputs": [
    {
     "name": "stdout",
     "output_type": "stream",
     "text": [
      "Processing learning_rate = 0.15 ...\n",
      "Processing learning_rate = 0.17 ...\n",
      "Processing learning_rate = 0.19 ...\n",
      "Processing learning_rate = 0.21 ...\n",
      "Processing learning_rate = 0.23 ...\n"
     ]
    },
    {
     "data": {
      "text/html": [
       "<div>\n",
       "<style scoped>\n",
       "    .dataframe tbody tr th:only-of-type {\n",
       "        vertical-align: middle;\n",
       "    }\n",
       "\n",
       "    .dataframe tbody tr th {\n",
       "        vertical-align: top;\n",
       "    }\n",
       "\n",
       "    .dataframe thead th {\n",
       "        text-align: right;\n",
       "    }\n",
       "</style>\n",
       "<table border=\"1\" class=\"dataframe\">\n",
       "  <thead>\n",
       "    <tr style=\"text-align: right;\">\n",
       "      <th></th>\n",
       "      <th>0</th>\n",
       "      <th>1</th>\n",
       "      <th>2</th>\n",
       "      <th>3</th>\n",
       "      <th>4</th>\n",
       "    </tr>\n",
       "  </thead>\n",
       "  <tbody>\n",
       "    <tr>\n",
       "      <th>learning_rate</th>\n",
       "      <td>0.150000</td>\n",
       "      <td>0.170000</td>\n",
       "      <td>0.190000</td>\n",
       "      <td>0.210000</td>\n",
       "      <td>0.230000</td>\n",
       "    </tr>\n",
       "    <tr>\n",
       "      <th>MAE</th>\n",
       "      <td>12.077057</td>\n",
       "      <td>12.095958</td>\n",
       "      <td>12.040121</td>\n",
       "      <td>12.037169</td>\n",
       "      <td>12.171891</td>\n",
       "    </tr>\n",
       "    <tr>\n",
       "      <th>RMSE</th>\n",
       "      <td>21.220744</td>\n",
       "      <td>21.159923</td>\n",
       "      <td>21.160723</td>\n",
       "      <td>21.124964</td>\n",
       "      <td>21.251899</td>\n",
       "    </tr>\n",
       "    <tr>\n",
       "      <th>R2</th>\n",
       "      <td>0.927619</td>\n",
       "      <td>0.927022</td>\n",
       "      <td>0.927124</td>\n",
       "      <td>0.926577</td>\n",
       "      <td>0.925683</td>\n",
       "    </tr>\n",
       "    <tr>\n",
       "      <th>Time spent (min)</th>\n",
       "      <td>1.715757</td>\n",
       "      <td>1.688673</td>\n",
       "      <td>1.699684</td>\n",
       "      <td>1.728914</td>\n",
       "      <td>1.746747</td>\n",
       "    </tr>\n",
       "  </tbody>\n",
       "</table>\n",
       "</div>"
      ],
      "text/plain": [
       "                          0          1          2          3          4\n",
       "learning_rate      0.150000   0.170000   0.190000   0.210000   0.230000\n",
       "MAE               12.077057  12.095958  12.040121  12.037169  12.171891\n",
       "RMSE              21.220744  21.159923  21.160723  21.124964  21.251899\n",
       "R2                 0.927619   0.927022   0.927124   0.926577   0.925683\n",
       "Time spent (min)   1.715757   1.688673   1.699684   1.728914   1.746747"
      ]
     },
     "metadata": {},
     "output_type": "display_data"
    }
   ],
   "source": [
    "params = {\n",
    "    'n_estimators': 200,\n",
    "    'max_depth': 12,\n",
    "    'learning_rate': [0.15, 0.17, 0.19, 0.21, 0.23],\n",
    "    'random_seed': RANDOM_SEED,\n",
    "    'verbose': 0\n",
    "}\n",
    "\n",
    "cat_results5 = tune_model(model_class=CatBoostRegressor, params=params, x_train=X_train, y_train=y_train, scoring=scoring, patience=2)\n",
    "display(cat_results5.T)"
   ]
  },
  {
   "cell_type": "markdown",
   "metadata": {},
   "source": [
    "#### The optimal value is between [0.21;0.23)"
   ]
  },
  {
   "cell_type": "code",
   "execution_count": null,
   "metadata": {},
   "outputs": [
    {
     "name": "stdout",
     "output_type": "stream",
     "text": [
      "Processing learning_rate = 0.22 ...\n",
      "Processing learning_rate = 0.225 ...\n"
     ]
    },
    {
     "data": {
      "text/html": [
       "<div>\n",
       "<style scoped>\n",
       "    .dataframe tbody tr th:only-of-type {\n",
       "        vertical-align: middle;\n",
       "    }\n",
       "\n",
       "    .dataframe tbody tr th {\n",
       "        vertical-align: top;\n",
       "    }\n",
       "\n",
       "    .dataframe thead th {\n",
       "        text-align: right;\n",
       "    }\n",
       "</style>\n",
       "<table border=\"1\" class=\"dataframe\">\n",
       "  <thead>\n",
       "    <tr style=\"text-align: right;\">\n",
       "      <th></th>\n",
       "      <th>0</th>\n",
       "      <th>1</th>\n",
       "    </tr>\n",
       "  </thead>\n",
       "  <tbody>\n",
       "    <tr>\n",
       "      <th>learning_rate</th>\n",
       "      <td>0.220000</td>\n",
       "      <td>0.225000</td>\n",
       "    </tr>\n",
       "    <tr>\n",
       "      <th>MAE</th>\n",
       "      <td>12.080715</td>\n",
       "      <td>12.165403</td>\n",
       "    </tr>\n",
       "    <tr>\n",
       "      <th>RMSE</th>\n",
       "      <td>21.056659</td>\n",
       "      <td>21.174450</td>\n",
       "    </tr>\n",
       "    <tr>\n",
       "      <th>R2</th>\n",
       "      <td>0.927017</td>\n",
       "      <td>0.926531</td>\n",
       "    </tr>\n",
       "    <tr>\n",
       "      <th>Time spent (min)</th>\n",
       "      <td>1.839822</td>\n",
       "      <td>1.909777</td>\n",
       "    </tr>\n",
       "  </tbody>\n",
       "</table>\n",
       "</div>"
      ],
      "text/plain": [
       "                          0          1\n",
       "learning_rate      0.220000   0.225000\n",
       "MAE               12.080715  12.165403\n",
       "RMSE              21.056659  21.174450\n",
       "R2                 0.927017   0.926531\n",
       "Time spent (min)   1.839822   1.909777"
      ]
     },
     "metadata": {},
     "output_type": "display_data"
    }
   ],
   "source": [
    "params = {\n",
    "    'n_estimators': 200,\n",
    "    'max_depth': 12,\n",
    "    'learning_rate': [0.22, 0.225],\n",
    "    'random_seed': RANDOM_SEED,\n",
    "    'verbose': 0\n",
    "}\n",
    "\n",
    "cat_results6 = tune_model(model_class=CatBoostRegressor, params=params, x_train=X_train, y_train=y_train, scoring=scoring, patience=2)\n",
    "display(cat_results6.T)"
   ]
  },
  {
   "cell_type": "code",
   "execution_count": 46,
   "metadata": {},
   "outputs": [],
   "source": [
    "best_catBoostRegressor_params['learning_rate'] = 0.22"
   ]
  },
  {
   "cell_type": "markdown",
   "metadata": {},
   "source": [
    "#### Tuning CatBoostRegressor's n_estimators:"
   ]
  },
  {
   "cell_type": "code",
   "execution_count": null,
   "metadata": {},
   "outputs": [
    {
     "name": "stdout",
     "output_type": "stream",
     "text": [
      "Processing n_estimators = 100 ...\n",
      "Processing n_estimators = 500 ...\n",
      "Processing n_estimators = 700 ...\n",
      "Processing n_estimators = 1000 ...\n"
     ]
    },
    {
     "data": {
      "text/html": [
       "<div>\n",
       "<style scoped>\n",
       "    .dataframe tbody tr th:only-of-type {\n",
       "        vertical-align: middle;\n",
       "    }\n",
       "\n",
       "    .dataframe tbody tr th {\n",
       "        vertical-align: top;\n",
       "    }\n",
       "\n",
       "    .dataframe thead th {\n",
       "        text-align: right;\n",
       "    }\n",
       "</style>\n",
       "<table border=\"1\" class=\"dataframe\">\n",
       "  <thead>\n",
       "    <tr style=\"text-align: right;\">\n",
       "      <th></th>\n",
       "      <th>0</th>\n",
       "      <th>1</th>\n",
       "      <th>2</th>\n",
       "      <th>3</th>\n",
       "    </tr>\n",
       "  </thead>\n",
       "  <tbody>\n",
       "    <tr>\n",
       "      <th>n_estimators</th>\n",
       "      <td>100</td>\n",
       "      <td>500</td>\n",
       "      <td>700</td>\n",
       "      <td>1000</td>\n",
       "    </tr>\n",
       "    <tr>\n",
       "      <th>MAE</th>\n",
       "      <td>12.726082</td>\n",
       "      <td>11.735717</td>\n",
       "      <td>11.679337</td>\n",
       "      <td>11.652996</td>\n",
       "    </tr>\n",
       "    <tr>\n",
       "      <th>RMSE</th>\n",
       "      <td>22.023805</td>\n",
       "      <td>20.611838</td>\n",
       "      <td>20.547393</td>\n",
       "      <td>20.526896</td>\n",
       "    </tr>\n",
       "    <tr>\n",
       "      <th>R2</th>\n",
       "      <td>0.923031</td>\n",
       "      <td>0.929074</td>\n",
       "      <td>0.929308</td>\n",
       "      <td>0.929381</td>\n",
       "    </tr>\n",
       "    <tr>\n",
       "      <th>Time spent (min)</th>\n",
       "      <td>0.895809</td>\n",
       "      <td>5.170615</td>\n",
       "      <td>7.421228</td>\n",
       "      <td>11.013475</td>\n",
       "    </tr>\n",
       "  </tbody>\n",
       "</table>\n",
       "</div>"
      ],
      "text/plain": [
       "                          0          1          2          3\n",
       "n_estimators            100        500        700       1000\n",
       "MAE               12.726082  11.735717  11.679337  11.652996\n",
       "RMSE              22.023805  20.611838  20.547393  20.526896\n",
       "R2                 0.923031   0.929074   0.929308   0.929381\n",
       "Time spent (min)   0.895809   5.170615   7.421228  11.013475"
      ]
     },
     "metadata": {},
     "output_type": "display_data"
    }
   ],
   "source": [
    "params = {\n",
    "    'n_estimators': [100, 500, 700, 1000],\n",
    "    'max_depth': 12,\n",
    "    'learning_rate': 0.22,\n",
    "    'random_seed': RANDOM_SEED,\n",
    "    'verbose': 0\n",
    "}\n",
    "\n",
    "cat_results7 = tune_model(model_class=CatBoostRegressor, params=params, x_train=X_train, y_train=y_train, scoring=scoring, patience=2)\n",
    "display(cat_results7.T)"
   ]
  },
  {
   "cell_type": "markdown",
   "metadata": {},
   "source": [
    "##### We may try a couple more:"
   ]
  },
  {
   "cell_type": "code",
   "execution_count": 67,
   "metadata": {},
   "outputs": [
    {
     "name": "stdout",
     "output_type": "stream",
     "text": [
      "Processing n_estimators = 1500 ...\n",
      "Processing n_estimators = 2000 ...\n"
     ]
    },
    {
     "data": {
      "text/html": [
       "<div>\n",
       "<style scoped>\n",
       "    .dataframe tbody tr th:only-of-type {\n",
       "        vertical-align: middle;\n",
       "    }\n",
       "\n",
       "    .dataframe tbody tr th {\n",
       "        vertical-align: top;\n",
       "    }\n",
       "\n",
       "    .dataframe thead th {\n",
       "        text-align: right;\n",
       "    }\n",
       "</style>\n",
       "<table border=\"1\" class=\"dataframe\">\n",
       "  <thead>\n",
       "    <tr style=\"text-align: right;\">\n",
       "      <th></th>\n",
       "      <th>0</th>\n",
       "      <th>1</th>\n",
       "    </tr>\n",
       "  </thead>\n",
       "  <tbody>\n",
       "    <tr>\n",
       "      <th>n_estimators</th>\n",
       "      <td>1500</td>\n",
       "      <td>2000</td>\n",
       "    </tr>\n",
       "    <tr>\n",
       "      <th>MAE</th>\n",
       "      <td>11.643128</td>\n",
       "      <td>11.641903</td>\n",
       "    </tr>\n",
       "    <tr>\n",
       "      <th>RMSE</th>\n",
       "      <td>20.516787</td>\n",
       "      <td>20.515921</td>\n",
       "    </tr>\n",
       "    <tr>\n",
       "      <th>R2</th>\n",
       "      <td>0.929427</td>\n",
       "      <td>0.929433</td>\n",
       "    </tr>\n",
       "    <tr>\n",
       "      <th>Time spent (min)</th>\n",
       "      <td>14.84108</td>\n",
       "      <td>19.577585</td>\n",
       "    </tr>\n",
       "  </tbody>\n",
       "</table>\n",
       "</div>"
      ],
      "text/plain": [
       "                          0          1\n",
       "n_estimators           1500       2000\n",
       "MAE               11.643128  11.641903\n",
       "RMSE              20.516787  20.515921\n",
       "R2                 0.929427   0.929433\n",
       "Time spent (min)   14.84108  19.577585"
      ]
     },
     "metadata": {},
     "output_type": "display_data"
    }
   ],
   "source": [
    "params = {\n",
    "    'n_estimators': [1500, 2000],\n",
    "    'max_depth': 12,\n",
    "    'learning_rate': 0.22,\n",
    "    'random_seed': RANDOM_SEED,\n",
    "    'verbose': 0\n",
    "}\n",
    "\n",
    "cat_results7 = tune_model(model_class=CatBoostRegressor, params=params, x_train=X_train, y_train=y_train, scoring=scoring, patience=2)\n",
    "display(cat_results7.T)"
   ]
  },
  {
   "cell_type": "markdown",
   "metadata": {},
   "source": [
    "##### The trade-off between the increasing in score and the spent time is not justified."
   ]
  },
  {
   "cell_type": "code",
   "execution_count": 47,
   "metadata": {},
   "outputs": [],
   "source": [
    "best_catBoostRegressor_params['n_estimators'] = 1500"
   ]
  },
  {
   "cell_type": "markdown",
   "metadata": {},
   "source": [
    "## Permutation importance"
   ]
  },
  {
   "cell_type": "code",
   "execution_count": null,
   "metadata": {},
   "outputs": [
    {
     "data": {
      "text/plain": [
       "{'loss_function': 'RMSE',\n",
       " 'n_estimators': 1500,\n",
       " 'max_depth': 12,\n",
       " 'learning_rate': 0.22,\n",
       " 'random_seed': 42,\n",
       " 'verbose': 0}"
      ]
     },
     "execution_count": 48,
     "metadata": {},
     "output_type": "execute_result"
    }
   ],
   "source": [
    "best_catBoostRegressor_params\n",
    "# {'loss_function': 'RMSE',\n",
    "#  'n_estimators': 1500,\n",
    "#  'max_depth': 12,\n",
    "#  'learning_rate': 0.22,\n",
    "#  'random_seed': 42,\n",
    "#  'verbose': 0}"
   ]
  },
  {
   "cell_type": "markdown",
   "metadata": {},
   "source": [
    "##### Training the best model to assess features (CatBoost)"
   ]
  },
  {
   "cell_type": "code",
   "execution_count": 30,
   "metadata": {},
   "outputs": [
    {
     "name": "stdout",
     "output_type": "stream",
     "text": [
      "Test \tMAE: 11.003020145651883\n",
      "Test \tRMSE: 19.45317906086391\n",
      "Test \tR2: 0.9355511696359798\n"
     ]
    }
   ],
   "source": [
    "best_cat_model = CatBoostRegressor(**best_catBoostRegressor_params)\n",
    "best_cat_model.fit(X_train, y_train)\n",
    "best_cat_model_predictions = best_cat_model.predict(X_test)\n",
    "    \n",
    "mae = mae_exp(y_test, best_cat_model_predictions)\n",
    "rmse = rmse_exp(y_test, best_cat_model_predictions)\n",
    "r2 = r2_score(y_test, best_cat_model_predictions)\n",
    "\n",
    "print(f\"Test \\tMAE: {mae}\")\n",
    "print(f\"Test \\tRMSE: {rmse}\")\n",
    "print(f\"Test \\tR2: {r2}\")"
   ]
  },
  {
   "cell_type": "markdown",
   "metadata": {},
   "source": [
    "##### Render the importance"
   ]
  },
  {
   "cell_type": "code",
   "execution_count": null,
   "metadata": {},
   "outputs": [
    {
     "data": {
      "text/plain": [
       "PM10             0.762121\n",
       "CO               0.189496\n",
       "TEMP_x_CO        0.051373\n",
       "NO2              0.043758\n",
       "year             0.029855\n",
       "O3               0.027466\n",
       "month_sin        0.026365\n",
       "TEMP             0.024195\n",
       "PM10_diff1       0.014114\n",
       "SO2              0.014091\n",
       "sin_hour         0.012171\n",
       "dayofweek_sin    0.008523\n",
       "dayofweek_cos    0.008173\n",
       "WSPM_X_SO2       0.006007\n",
       "WSPM             0.005896\n",
       "cos_hour         0.005288\n",
       "TEMP_diff1       0.003836\n",
       "NO2_x_RAIN       0.000973\n",
       "is_weekend       0.000649\n",
       "wd_SW            0.000254\n",
       "wd_ENE           0.000163\n",
       "wd_N             0.000147\n",
       "wd_NW            0.000129\n",
       "wd_WSW           0.000125\n",
       "RAIN             0.000118\n",
       "wd_SSW           0.000108\n",
       "wd_NE            0.000093\n",
       "wd_NNW           0.000062\n",
       "wd_WNW           0.000060\n",
       "wd_S             0.000049\n",
       "wd_W             0.000048\n",
       "wd_SE            0.000041\n",
       "wd_ESE           0.000019\n",
       "wd_SSE           0.000011\n",
       "wd_NNE          -0.000023\n",
       "dtype: float64"
      ]
     },
     "execution_count": 31,
     "metadata": {},
     "output_type": "execute_result"
    }
   ],
   "source": [
    "r = permutation_importance(best_cat_model, X_test, y_test, n_repeats=10, random_state=RANDOM_SEED)\n",
    "imp_cat = pd.Series(r.importances_mean, index=X_test.columns)\n",
    "imp_cat.sort_values(ascending=False)"
   ]
  },
  {
   "cell_type": "markdown",
   "metadata": {},
   "source": [
    "##### Features with importance < 0.001 will be considered redundant"
   ]
  },
  {
   "cell_type": "code",
   "execution_count": null,
   "metadata": {},
   "outputs": [
    {
     "data": {
      "text/plain": [
       "Index(['RAIN', 'wd_ENE', 'wd_ESE', 'wd_N', 'wd_NE', 'wd_NNE', 'wd_NNW',\n",
       "       'wd_NW', 'wd_S', 'wd_SE', 'wd_SSE', 'wd_SSW', 'wd_SW', 'wd_W', 'wd_WNW',\n",
       "       'wd_WSW', 'is_weekend', 'NO2_x_RAIN'],\n",
       "      dtype='object')"
      ]
     },
     "execution_count": 32,
     "metadata": {},
     "output_type": "execute_result"
    }
   ],
   "source": [
    "imp_cat[imp_cat<0.001].index"
   ]
  },
  {
   "cell_type": "markdown",
   "metadata": {},
   "source": [
    "##### Training the best model without features of lesser importance"
   ]
  },
  {
   "cell_type": "code",
   "execution_count": 33,
   "metadata": {},
   "outputs": [
    {
     "name": "stdout",
     "output_type": "stream",
     "text": [
      "Test \tMAE: 11.099635130487696\n",
      "Test \tRMSE: 19.78876667465162\n",
      "Test \tR2: 0.9336405620991561\n"
     ]
    }
   ],
   "source": [
    "best_cat_model = CatBoostRegressor(**best_catBoostRegressor_params)\n",
    "best_cat_model.fit(X_train.drop(columns=['RAIN', 'wd_ENE', 'wd_ESE', 'wd_N', 'wd_NE', 'wd_NNE', 'wd_NNW',\n",
    "       'wd_NW', 'wd_S', 'wd_SE', 'wd_SSE', 'wd_SSW', 'wd_SW', 'wd_W', 'wd_WNW',\n",
    "       'wd_WSW', 'is_weekend', 'NO2_x_RAIN']), y_train)\n",
    "best_cat_model_predictions = best_cat_model.predict(X_test.drop(columns=['RAIN', 'wd_ENE', 'wd_ESE', 'wd_N', 'wd_NE', 'wd_NNE', 'wd_NNW',\n",
    "       'wd_NW', 'wd_S', 'wd_SE', 'wd_SSE', 'wd_SSW', 'wd_SW', 'wd_W', 'wd_WNW',\n",
    "       'wd_WSW', 'is_weekend', 'NO2_x_RAIN']))\n",
    "    \n",
    "mae = mae_exp(y_test, best_cat_model_predictions)\n",
    "rmse = rmse_exp(y_test, best_cat_model_predictions)\n",
    "r2 = r2_score(y_test, best_cat_model_predictions)\n",
    "\n",
    "print(f\"Test \\tMAE: {mae}\")\n",
    "print(f\"Test \\tRMSE: {rmse}\")\n",
    "print(f\"Test \\tR2: {r2}\")"
   ]
  },
  {
   "cell_type": "markdown",
   "metadata": {},
   "source": [
    "#### The model lost an insignificant increase in performance. Considering having lost 18! features, it is worth it."
   ]
  },
  {
   "cell_type": "markdown",
   "metadata": {},
   "source": [
    "##### Training the best model to assess features (XGBoost)"
   ]
  },
  {
   "cell_type": "code",
   "execution_count": 34,
   "metadata": {},
   "outputs": [
    {
     "name": "stdout",
     "output_type": "stream",
     "text": [
      "Test \tMAE: 11.078423628669963\n",
      "Test \tRMSE: 19.38635733956982\n",
      "Test \tR2: 0.9313857506510903\n"
     ]
    }
   ],
   "source": [
    "best_xgboost_model = xgb.XGBRegressor(**best_xgbRegressor_params)\n",
    "best_xgboost_model.fit(X_train, y_train)\n",
    "best_xgboost_model_predictions = best_xgboost_model.predict(X_test)\n",
    "    \n",
    "mae = mae_exp(y_test, best_xgboost_model_predictions)\n",
    "rmse = rmse_exp(y_test, best_xgboost_model_predictions)\n",
    "r2 = r2_score(y_test, best_xgboost_model_predictions)\n",
    "\n",
    "print(f\"Test \\tMAE: {mae}\")\n",
    "print(f\"Test \\tRMSE: {rmse}\")\n",
    "print(f\"Test \\tR2: {r2}\")"
   ]
  },
  {
   "cell_type": "markdown",
   "metadata": {},
   "source": [
    "##### Render the importance"
   ]
  },
  {
   "cell_type": "code",
   "execution_count": 35,
   "metadata": {},
   "outputs": [
    {
     "data": {
      "text/plain": [
       "PM10             0.827865\n",
       "CO               0.156571\n",
       "TEMP_x_CO        0.042840\n",
       "O3               0.035931\n",
       "NO2              0.031316\n",
       "TEMP             0.027807\n",
       "month_sin        0.024867\n",
       "year             0.022182\n",
       "PM10_diff1       0.016717\n",
       "SO2              0.010945\n",
       "sin_hour         0.007114\n",
       "WSPM_X_SO2       0.005585\n",
       "WSPM             0.005310\n",
       "TEMP_diff1       0.004192\n",
       "cos_hour         0.003620\n",
       "dayofweek_sin    0.003188\n",
       "dayofweek_cos    0.002480\n",
       "NO2_x_RAIN       0.000874\n",
       "wd_NW            0.000663\n",
       "wd_SW            0.000434\n",
       "is_weekend       0.000386\n",
       "RAIN             0.000305\n",
       "wd_ENE           0.000244\n",
       "wd_SSW           0.000209\n",
       "wd_NNW           0.000187\n",
       "wd_WNW           0.000164\n",
       "wd_WSW           0.000154\n",
       "wd_S             0.000147\n",
       "wd_NE            0.000099\n",
       "wd_W             0.000067\n",
       "wd_SE            0.000058\n",
       "wd_NNE           0.000040\n",
       "wd_SSE          -0.000003\n",
       "wd_ESE          -0.000021\n",
       "wd_N            -0.000075\n",
       "dtype: float64"
      ]
     },
     "execution_count": 35,
     "metadata": {},
     "output_type": "execute_result"
    }
   ],
   "source": [
    "r2 = permutation_importance(best_xgboost_model, X_test, y_test, n_repeats=10, random_state=RANDOM_SEED)\n",
    "imp_xgboost = pd.Series(r2.importances_mean, index=X_test.columns)\n",
    "imp_xgboost.sort_values(ascending=False)"
   ]
  },
  {
   "cell_type": "markdown",
   "metadata": {},
   "source": [
    "##### Features with importance < 0.001 will be considered redundant"
   ]
  },
  {
   "cell_type": "code",
   "execution_count": null,
   "metadata": {},
   "outputs": [
    {
     "data": {
      "text/plain": [
       "Index(['RAIN', 'wd_ENE', 'wd_ESE', 'wd_N', 'wd_NE', 'wd_NNE', 'wd_NNW',\n",
       "       'wd_NW', 'wd_S', 'wd_SE', 'wd_SSE', 'wd_SSW', 'wd_SW', 'wd_W', 'wd_WNW',\n",
       "       'wd_WSW', 'is_weekend', 'NO2_x_RAIN'],\n",
       "      dtype='object')"
      ]
     },
     "execution_count": 37,
     "metadata": {},
     "output_type": "execute_result"
    }
   ],
   "source": [
    "imp_xgboost[imp_xgboost<0.001].index"
   ]
  },
  {
   "cell_type": "markdown",
   "metadata": {},
   "source": [
    "##### Training the best model without features of lesser importance"
   ]
  },
  {
   "cell_type": "code",
   "execution_count": 38,
   "metadata": {},
   "outputs": [
    {
     "name": "stdout",
     "output_type": "stream",
     "text": [
      "Test \tMAE: 11.09226449675994\n",
      "Test \tRMSE: 19.33808260230857\n",
      "Test \tR2: 0.9313029029765009\n"
     ]
    }
   ],
   "source": [
    "best_xgboost_model = xgb.XGBRegressor(**best_xgbRegressor_params)\n",
    "best_xgboost_model.fit(X_train.drop(columns=['RAIN', 'wd_ENE', 'wd_ESE', 'wd_N', 'wd_NE', 'wd_NNE', 'wd_NNW',\n",
    "       'wd_NW', 'wd_S', 'wd_SE', 'wd_SSE', 'wd_SSW', 'wd_SW', 'wd_W', 'wd_WNW',\n",
    "       'wd_WSW', 'is_weekend', 'NO2_x_RAIN']), y_train)\n",
    "best_xgboost_model_predictions = best_xgboost_model.predict(X_test.drop(columns=['RAIN', 'wd_ENE', 'wd_ESE', 'wd_N', 'wd_NE', 'wd_NNE', 'wd_NNW',\n",
    "       'wd_NW', 'wd_S', 'wd_SE', 'wd_SSE', 'wd_SSW', 'wd_SW', 'wd_W', 'wd_WNW',\n",
    "       'wd_WSW', 'is_weekend', 'NO2_x_RAIN']))\n",
    "    \n",
    "mae = mae_exp(y_test, best_xgboost_model_predictions)\n",
    "rmse = rmse_exp(y_test, best_xgboost_model_predictions)\n",
    "r2 = r2_score(y_test, best_xgboost_model_predictions)\n",
    "\n",
    "print(f\"Test \\tMAE: {mae}\")\n",
    "print(f\"Test \\tRMSE: {rmse}\")\n",
    "print(f\"Test \\tR2: {r2}\")"
   ]
  },
  {
   "cell_type": "markdown",
   "metadata": {},
   "source": [
    "#### The model lost an insignificant increase in performance. Considering having lost 18! features, it is worth it!"
   ]
  },
  {
   "cell_type": "markdown",
   "metadata": {},
   "source": [
    "##### Both models have considered the same set of features redundant"
   ]
  },
  {
   "cell_type": "code",
   "execution_count": null,
   "metadata": {},
   "outputs": [
    {
     "data": {
      "text/plain": [
       "True"
      ]
     },
     "execution_count": 41,
     "metadata": {},
     "output_type": "execute_result"
    }
   ],
   "source": [
    "(imp_cat[imp_cat<0.001].index == imp_xgboost[imp_xgboost<0.001].index).all()"
   ]
  },
  {
   "cell_type": "markdown",
   "metadata": {},
   "source": [
    "#### Getting rid of the extra:"
   ]
  },
  {
   "cell_type": "code",
   "execution_count": 49,
   "metadata": {},
   "outputs": [],
   "source": [
    "df = df.drop(columns=['RAIN', 'wd_ENE', 'wd_ESE', 'wd_N', 'wd_NE', 'wd_NNE', 'wd_NNW',\n",
    "       'wd_NW', 'wd_S', 'wd_SE', 'wd_SSE', 'wd_SSW', 'wd_SW', 'wd_W', 'wd_WNW',\n",
    "       'wd_WSW', 'is_weekend', 'NO2_x_RAIN'])"
   ]
  },
  {
   "cell_type": "markdown",
   "metadata": {},
   "source": [
    "## Re-tuning"
   ]
  },
  {
   "cell_type": "code",
   "execution_count": 50,
   "metadata": {},
   "outputs": [],
   "source": [
    "best_xgbRegressor_params = {\n",
    "    'objective': 'reg:squarederror',\n",
    "    'booster': 'gbtree', \n",
    "    'n_estimators': 0,\n",
    "    'learning_rate': 0,\n",
    "    'random_state': RANDOM_SEED,\n",
    "}\n",
    "\n",
    "best_catBoostRegressor_params = {\n",
    "    'loss_function': 'RMSE',\n",
    "    'n_estimators': 0,\n",
    "    'max_depth': 0,\n",
    "    'learning_rate': 0,\n",
    "    'random_seed': RANDOM_SEED,\n",
    "    'verbose': 0\n",
    "}"
   ]
  },
  {
   "cell_type": "markdown",
   "metadata": {},
   "source": [
    "##### CatBoost"
   ]
  },
  {
   "cell_type": "code",
   "execution_count": 51,
   "metadata": {},
   "outputs": [
    {
     "name": "stdout",
     "output_type": "stream",
     "text": [
      "Train shape: (28045, 17)\n",
      "Test shape: (7012, 17)\n"
     ]
    }
   ],
   "source": [
    "# split again, without redundant features\n",
    "X_train, X_test, y_train, y_test = train_test_split(df.drop(TARGET, axis=1), df[TARGET], test_size=0.2, random_state=RANDOM_SEED)\n",
    "print(f\"Train shape: {X_train.shape}\")\n",
    "print(f\"Test shape: {X_test.shape}\")"
   ]
  },
  {
   "cell_type": "code",
   "execution_count": 45,
   "metadata": {},
   "outputs": [
    {
     "name": "stdout",
     "output_type": "stream",
     "text": [
      "Processing max_depth = 10 ...\n",
      "Processing max_depth = 12 ...\n",
      "Processing max_depth = 14 ...\n"
     ]
    },
    {
     "data": {
      "text/html": [
       "<div>\n",
       "<style scoped>\n",
       "    .dataframe tbody tr th:only-of-type {\n",
       "        vertical-align: middle;\n",
       "    }\n",
       "\n",
       "    .dataframe tbody tr th {\n",
       "        vertical-align: top;\n",
       "    }\n",
       "\n",
       "    .dataframe thead th {\n",
       "        text-align: right;\n",
       "    }\n",
       "</style>\n",
       "<table border=\"1\" class=\"dataframe\">\n",
       "  <thead>\n",
       "    <tr style=\"text-align: right;\">\n",
       "      <th></th>\n",
       "      <th>0</th>\n",
       "      <th>1</th>\n",
       "      <th>2</th>\n",
       "    </tr>\n",
       "  </thead>\n",
       "  <tbody>\n",
       "    <tr>\n",
       "      <th>max_depth</th>\n",
       "      <td>10</td>\n",
       "      <td>12</td>\n",
       "      <td>14</td>\n",
       "    </tr>\n",
       "    <tr>\n",
       "      <th>MAE</th>\n",
       "      <td>12.572216</td>\n",
       "      <td>12.166508</td>\n",
       "      <td>12.047562</td>\n",
       "    </tr>\n",
       "    <tr>\n",
       "      <th>RMSE</th>\n",
       "      <td>21.461607</td>\n",
       "      <td>21.255204</td>\n",
       "      <td>21.830781</td>\n",
       "    </tr>\n",
       "    <tr>\n",
       "      <th>R2</th>\n",
       "      <td>0.923379</td>\n",
       "      <td>0.927062</td>\n",
       "      <td>0.927522</td>\n",
       "    </tr>\n",
       "    <tr>\n",
       "      <th>Time spent (min)</th>\n",
       "      <td>0.478952</td>\n",
       "      <td>1.565609</td>\n",
       "      <td>5.910487</td>\n",
       "    </tr>\n",
       "  </tbody>\n",
       "</table>\n",
       "</div>"
      ],
      "text/plain": [
       "                          0          1          2\n",
       "max_depth                10         12         14\n",
       "MAE               12.572216  12.166508  12.047562\n",
       "RMSE              21.461607  21.255204  21.830781\n",
       "R2                 0.923379   0.927062   0.927522\n",
       "Time spent (min)   0.478952   1.565609   5.910487"
      ]
     },
     "metadata": {},
     "output_type": "display_data"
    }
   ],
   "source": [
    "params = {\n",
    "    'n_estimators': 200,\n",
    "    'max_depth': [10, 12, 14],\n",
    "    'learning_rate': 0.1, \n",
    "    'random_seed': RANDOM_SEED,\n",
    "    'verbose': 0\n",
    "}\n",
    "\n",
    "cat_results = tune_model(model_class=CatBoostRegressor, params=params, x_train=X_train, y_train=y_train, scoring=scoring, patience=2)\n",
    "display(cat_results.T)"
   ]
  },
  {
   "cell_type": "code",
   "execution_count": 46,
   "metadata": {},
   "outputs": [
    {
     "name": "stdout",
     "output_type": "stream",
     "text": [
      "Processing max_depth = 13 ...\n"
     ]
    },
    {
     "data": {
      "text/html": [
       "<div>\n",
       "<style scoped>\n",
       "    .dataframe tbody tr th:only-of-type {\n",
       "        vertical-align: middle;\n",
       "    }\n",
       "\n",
       "    .dataframe tbody tr th {\n",
       "        vertical-align: top;\n",
       "    }\n",
       "\n",
       "    .dataframe thead th {\n",
       "        text-align: right;\n",
       "    }\n",
       "</style>\n",
       "<table border=\"1\" class=\"dataframe\">\n",
       "  <thead>\n",
       "    <tr style=\"text-align: right;\">\n",
       "      <th></th>\n",
       "      <th>0</th>\n",
       "    </tr>\n",
       "  </thead>\n",
       "  <tbody>\n",
       "    <tr>\n",
       "      <th>max_depth</th>\n",
       "      <td>13</td>\n",
       "    </tr>\n",
       "    <tr>\n",
       "      <th>MAE</th>\n",
       "      <td>11.938038</td>\n",
       "    </tr>\n",
       "    <tr>\n",
       "      <th>RMSE</th>\n",
       "      <td>21.092758</td>\n",
       "    </tr>\n",
       "    <tr>\n",
       "      <th>R2</th>\n",
       "      <td>0.927945</td>\n",
       "    </tr>\n",
       "    <tr>\n",
       "      <th>Time spent (min)</th>\n",
       "      <td>3.324507</td>\n",
       "    </tr>\n",
       "  </tbody>\n",
       "</table>\n",
       "</div>"
      ],
      "text/plain": [
       "                          0\n",
       "max_depth                13\n",
       "MAE               11.938038\n",
       "RMSE              21.092758\n",
       "R2                 0.927945\n",
       "Time spent (min)   3.324507"
      ]
     },
     "metadata": {},
     "output_type": "display_data"
    }
   ],
   "source": [
    "params = {\n",
    "    'n_estimators': 200,\n",
    "    'max_depth': [13],\n",
    "    'learning_rate': 0.1, \n",
    "    'random_seed': RANDOM_SEED,\n",
    "    'verbose': 0\n",
    "}\n",
    "\n",
    "cat_results2 = tune_model(model_class=CatBoostRegressor, params=params, x_train=X_train, y_train=y_train, scoring=scoring, patience=2)\n",
    "display(cat_results2.T)"
   ]
  },
  {
   "cell_type": "code",
   "execution_count": 52,
   "metadata": {},
   "outputs": [],
   "source": [
    "best_catBoostRegressor_params['max_depth'] = 13"
   ]
  },
  {
   "cell_type": "code",
   "execution_count": 50,
   "metadata": {},
   "outputs": [
    {
     "name": "stdout",
     "output_type": "stream",
     "text": [
      "Processing n_estimators = 100 ...\n",
      "Processing n_estimators = 500 ...\n",
      "Processing n_estimators = 700 ...\n",
      "Processing n_estimators = 1000 ...\n",
      "Processing n_estimators = 1500 ...\n",
      "Processing n_estimators = 2000 ...\n"
     ]
    },
    {
     "data": {
      "text/html": [
       "<div>\n",
       "<style scoped>\n",
       "    .dataframe tbody tr th:only-of-type {\n",
       "        vertical-align: middle;\n",
       "    }\n",
       "\n",
       "    .dataframe tbody tr th {\n",
       "        vertical-align: top;\n",
       "    }\n",
       "\n",
       "    .dataframe thead th {\n",
       "        text-align: right;\n",
       "    }\n",
       "</style>\n",
       "<table border=\"1\" class=\"dataframe\">\n",
       "  <thead>\n",
       "    <tr style=\"text-align: right;\">\n",
       "      <th></th>\n",
       "      <th>0</th>\n",
       "      <th>1</th>\n",
       "      <th>2</th>\n",
       "      <th>3</th>\n",
       "      <th>4</th>\n",
       "      <th>5</th>\n",
       "    </tr>\n",
       "  </thead>\n",
       "  <tbody>\n",
       "    <tr>\n",
       "      <th>n_estimators</th>\n",
       "      <td>100</td>\n",
       "      <td>500</td>\n",
       "      <td>700</td>\n",
       "      <td>1000</td>\n",
       "      <td>1500</td>\n",
       "      <td>2000</td>\n",
       "    </tr>\n",
       "    <tr>\n",
       "      <th>MAE</th>\n",
       "      <td>12.874932</td>\n",
       "      <td>11.213166</td>\n",
       "      <td>11.088104</td>\n",
       "      <td>11.01432</td>\n",
       "      <td>10.976348</td>\n",
       "      <td>10.967643</td>\n",
       "    </tr>\n",
       "    <tr>\n",
       "      <th>RMSE</th>\n",
       "      <td>22.475201</td>\n",
       "      <td>20.163631</td>\n",
       "      <td>20.015586</td>\n",
       "      <td>19.935436</td>\n",
       "      <td>19.897741</td>\n",
       "      <td>19.888679</td>\n",
       "    </tr>\n",
       "    <tr>\n",
       "      <th>R2</th>\n",
       "      <td>0.920916</td>\n",
       "      <td>0.932255</td>\n",
       "      <td>0.932871</td>\n",
       "      <td>0.933197</td>\n",
       "      <td>0.93338</td>\n",
       "      <td>0.933427</td>\n",
       "    </tr>\n",
       "    <tr>\n",
       "      <th>Time spent (min)</th>\n",
       "      <td>1.681361</td>\n",
       "      <td>8.238492</td>\n",
       "      <td>11.337154</td>\n",
       "      <td>16.675551</td>\n",
       "      <td>25.389059</td>\n",
       "      <td>32.680137</td>\n",
       "    </tr>\n",
       "  </tbody>\n",
       "</table>\n",
       "</div>"
      ],
      "text/plain": [
       "                          0          1          2          3          4   \n",
       "n_estimators            100        500        700       1000       1500  \\\n",
       "MAE               12.874932  11.213166  11.088104   11.01432  10.976348   \n",
       "RMSE              22.475201  20.163631  20.015586  19.935436  19.897741   \n",
       "R2                 0.920916   0.932255   0.932871   0.933197    0.93338   \n",
       "Time spent (min)   1.681361   8.238492  11.337154  16.675551  25.389059   \n",
       "\n",
       "                          5  \n",
       "n_estimators           2000  \n",
       "MAE               10.967643  \n",
       "RMSE              19.888679  \n",
       "R2                 0.933427  \n",
       "Time spent (min)  32.680137  "
      ]
     },
     "metadata": {},
     "output_type": "display_data"
    }
   ],
   "source": [
    "params = {\n",
    "    'n_estimators': [100, 500, 700, 1000, 1500, 2000],\n",
    "    'max_depth': 13,\n",
    "    'learning_rate': 0.1,\n",
    "    'random_seed': RANDOM_SEED,\n",
    "    'verbose': 0\n",
    "}\n",
    "\n",
    "cat_results3 = tune_model(model_class=CatBoostRegressor, params=params, x_train=X_train, y_train=y_train, scoring=scoring, patience=2)\n",
    "display(cat_results3.T)"
   ]
  },
  {
   "cell_type": "code",
   "execution_count": 53,
   "metadata": {},
   "outputs": [],
   "source": [
    "best_catBoostRegressor_params['n_estimators'] = 1500"
   ]
  },
  {
   "cell_type": "code",
   "execution_count": 55,
   "metadata": {},
   "outputs": [
    {
     "name": "stdout",
     "output_type": "stream",
     "text": [
      "Processing learning_rate = 0.07 ...\n",
      "Processing learning_rate = 0.08 ...\n",
      "Processing learning_rate = 0.09 ...\n",
      "Processing learning_rate = 0.1 ...\n",
      "Processing learning_rate = 0.11 ...\n",
      "Processing learning_rate = 0.12 ...\n",
      "Processing learning_rate = 0.13 ...\n",
      "Processing learning_rate = 0.14 ...\n",
      "Processing learning_rate = 0.15 ...\n"
     ]
    },
    {
     "data": {
      "text/html": [
       "<div>\n",
       "<style scoped>\n",
       "    .dataframe tbody tr th:only-of-type {\n",
       "        vertical-align: middle;\n",
       "    }\n",
       "\n",
       "    .dataframe tbody tr th {\n",
       "        vertical-align: top;\n",
       "    }\n",
       "\n",
       "    .dataframe thead th {\n",
       "        text-align: right;\n",
       "    }\n",
       "</style>\n",
       "<table border=\"1\" class=\"dataframe\">\n",
       "  <thead>\n",
       "    <tr style=\"text-align: right;\">\n",
       "      <th></th>\n",
       "      <th>0</th>\n",
       "      <th>1</th>\n",
       "      <th>2</th>\n",
       "      <th>3</th>\n",
       "      <th>4</th>\n",
       "      <th>5</th>\n",
       "      <th>6</th>\n",
       "      <th>7</th>\n",
       "      <th>8</th>\n",
       "    </tr>\n",
       "  </thead>\n",
       "  <tbody>\n",
       "    <tr>\n",
       "      <th>learning_rate</th>\n",
       "      <td>0.070000</td>\n",
       "      <td>0.080000</td>\n",
       "      <td>0.090000</td>\n",
       "      <td>0.100000</td>\n",
       "      <td>0.110000</td>\n",
       "      <td>0.120000</td>\n",
       "      <td>0.130000</td>\n",
       "      <td>0.140000</td>\n",
       "      <td>0.150000</td>\n",
       "    </tr>\n",
       "    <tr>\n",
       "      <th>MAE</th>\n",
       "      <td>11.807718</td>\n",
       "      <td>11.669452</td>\n",
       "      <td>11.570173</td>\n",
       "      <td>11.494292</td>\n",
       "      <td>11.490475</td>\n",
       "      <td>11.456630</td>\n",
       "      <td>11.373972</td>\n",
       "      <td>11.416777</td>\n",
       "      <td>11.344599</td>\n",
       "    </tr>\n",
       "    <tr>\n",
       "      <th>RMSE</th>\n",
       "      <td>20.364312</td>\n",
       "      <td>20.081482</td>\n",
       "      <td>19.988410</td>\n",
       "      <td>19.931034</td>\n",
       "      <td>19.929155</td>\n",
       "      <td>19.834426</td>\n",
       "      <td>19.672140</td>\n",
       "      <td>19.696151</td>\n",
       "      <td>19.692222</td>\n",
       "    </tr>\n",
       "    <tr>\n",
       "      <th>R2</th>\n",
       "      <td>0.928805</td>\n",
       "      <td>0.929518</td>\n",
       "      <td>0.930318</td>\n",
       "      <td>0.930469</td>\n",
       "      <td>0.930527</td>\n",
       "      <td>0.931046</td>\n",
       "      <td>0.930664</td>\n",
       "      <td>0.930487</td>\n",
       "      <td>0.931061</td>\n",
       "    </tr>\n",
       "    <tr>\n",
       "      <th>Time spent (min)</th>\n",
       "      <td>1.323637</td>\n",
       "      <td>1.504341</td>\n",
       "      <td>1.300071</td>\n",
       "      <td>1.294926</td>\n",
       "      <td>1.325146</td>\n",
       "      <td>1.296197</td>\n",
       "      <td>1.322684</td>\n",
       "      <td>1.311191</td>\n",
       "      <td>1.292299</td>\n",
       "    </tr>\n",
       "  </tbody>\n",
       "</table>\n",
       "</div>"
      ],
      "text/plain": [
       "                          0          1          2          3          4   \n",
       "learning_rate      0.070000   0.080000   0.090000   0.100000   0.110000  \\\n",
       "MAE               11.807718  11.669452  11.570173  11.494292  11.490475   \n",
       "RMSE              20.364312  20.081482  19.988410  19.931034  19.929155   \n",
       "R2                 0.928805   0.929518   0.930318   0.930469   0.930527   \n",
       "Time spent (min)   1.323637   1.504341   1.300071   1.294926   1.325146   \n",
       "\n",
       "                          5          6          7          8  \n",
       "learning_rate      0.120000   0.130000   0.140000   0.150000  \n",
       "MAE               11.456630  11.373972  11.416777  11.344599  \n",
       "RMSE              19.834426  19.672140  19.696151  19.692222  \n",
       "R2                 0.931046   0.930664   0.930487   0.931061  \n",
       "Time spent (min)   1.296197   1.322684   1.311191   1.292299  "
      ]
     },
     "metadata": {},
     "output_type": "display_data"
    }
   ],
   "source": [
    "params = {\n",
    "    'n_estimators': 500,\n",
    "    'max_depth': 10,\n",
    "    'learning_rate': [0.07, 0.08, 0.09, 0.1, 0.11, 0.12, 0.13, 0.14, 0.15],\n",
    "    'random_seed': RANDOM_SEED,\n",
    "    'verbose': 0\n",
    "}\n",
    "\n",
    "cat_results4 = tune_model(model_class=CatBoostRegressor, params=params, x_train=X_train, y_train=y_train, scoring=scoring, patience=2)\n",
    "display(cat_results4.T)"
   ]
  },
  {
   "cell_type": "code",
   "execution_count": 56,
   "metadata": {},
   "outputs": [
    {
     "name": "stdout",
     "output_type": "stream",
     "text": [
      "Processing learning_rate = 0.16 ...\n",
      "Processing learning_rate = 0.17 ...\n",
      "Processing learning_rate = 0.18 ...\n",
      "Early stopping triggered.\n"
     ]
    },
    {
     "data": {
      "text/html": [
       "<div>\n",
       "<style scoped>\n",
       "    .dataframe tbody tr th:only-of-type {\n",
       "        vertical-align: middle;\n",
       "    }\n",
       "\n",
       "    .dataframe tbody tr th {\n",
       "        vertical-align: top;\n",
       "    }\n",
       "\n",
       "    .dataframe thead th {\n",
       "        text-align: right;\n",
       "    }\n",
       "</style>\n",
       "<table border=\"1\" class=\"dataframe\">\n",
       "  <thead>\n",
       "    <tr style=\"text-align: right;\">\n",
       "      <th></th>\n",
       "      <th>0</th>\n",
       "      <th>1</th>\n",
       "      <th>2</th>\n",
       "    </tr>\n",
       "  </thead>\n",
       "  <tbody>\n",
       "    <tr>\n",
       "      <th>learning_rate</th>\n",
       "      <td>0.160000</td>\n",
       "      <td>0.170000</td>\n",
       "      <td>0.180000</td>\n",
       "    </tr>\n",
       "    <tr>\n",
       "      <th>MAE</th>\n",
       "      <td>11.334862</td>\n",
       "      <td>11.311529</td>\n",
       "      <td>11.361641</td>\n",
       "    </tr>\n",
       "    <tr>\n",
       "      <th>RMSE</th>\n",
       "      <td>19.527207</td>\n",
       "      <td>19.591527</td>\n",
       "      <td>19.631864</td>\n",
       "    </tr>\n",
       "    <tr>\n",
       "      <th>R2</th>\n",
       "      <td>0.931074</td>\n",
       "      <td>0.931561</td>\n",
       "      <td>0.930732</td>\n",
       "    </tr>\n",
       "    <tr>\n",
       "      <th>Time spent (min)</th>\n",
       "      <td>1.323237</td>\n",
       "      <td>1.345226</td>\n",
       "      <td>1.392526</td>\n",
       "    </tr>\n",
       "  </tbody>\n",
       "</table>\n",
       "</div>"
      ],
      "text/plain": [
       "                          0          1          2\n",
       "learning_rate      0.160000   0.170000   0.180000\n",
       "MAE               11.334862  11.311529  11.361641\n",
       "RMSE              19.527207  19.591527  19.631864\n",
       "R2                 0.931074   0.931561   0.930732\n",
       "Time spent (min)   1.323237   1.345226   1.392526"
      ]
     },
     "metadata": {},
     "output_type": "display_data"
    }
   ],
   "source": [
    "params = {\n",
    "    'n_estimators': 500,\n",
    "    'max_depth': 10,\n",
    "    'learning_rate': [0.16, 0.17, 0.18, 0.19],\n",
    "    'random_seed': RANDOM_SEED,\n",
    "    'verbose': 0\n",
    "}\n",
    "\n",
    "cat_results5 = tune_model(model_class=CatBoostRegressor, params=params, x_train=X_train, y_train=y_train, scoring=scoring, patience=2)\n",
    "display(cat_results5.T)"
   ]
  },
  {
   "cell_type": "code",
   "execution_count": 54,
   "metadata": {},
   "outputs": [],
   "source": [
    "best_catBoostRegressor_params['learning_rate'] = 0.16"
   ]
  },
  {
   "cell_type": "markdown",
   "metadata": {},
   "source": [
    "##### XGBoost"
   ]
  },
  {
   "cell_type": "code",
   "execution_count": 61,
   "metadata": {},
   "outputs": [
    {
     "name": "stdout",
     "output_type": "stream",
     "text": [
      "Processing n_estimators = 3000 ...\n",
      "Processing n_estimators = 3500 ...\n",
      "Processing n_estimators = 4000 ...\n",
      "Processing n_estimators = 4500 ...\n",
      "Processing n_estimators = 4600 ...\n",
      "Processing n_estimators = 4700 ...\n",
      "Processing n_estimators = 4800 ...\n",
      "Processing n_estimators = 4900 ...\n",
      "Processing n_estimators = 5000 ...\n",
      "Processing n_estimators = 5500 ...\n"
     ]
    },
    {
     "data": {
      "text/html": [
       "<div>\n",
       "<style scoped>\n",
       "    .dataframe tbody tr th:only-of-type {\n",
       "        vertical-align: middle;\n",
       "    }\n",
       "\n",
       "    .dataframe tbody tr th {\n",
       "        vertical-align: top;\n",
       "    }\n",
       "\n",
       "    .dataframe thead th {\n",
       "        text-align: right;\n",
       "    }\n",
       "</style>\n",
       "<table border=\"1\" class=\"dataframe\">\n",
       "  <thead>\n",
       "    <tr style=\"text-align: right;\">\n",
       "      <th></th>\n",
       "      <th>0</th>\n",
       "      <th>1</th>\n",
       "      <th>2</th>\n",
       "      <th>3</th>\n",
       "      <th>4</th>\n",
       "      <th>5</th>\n",
       "      <th>6</th>\n",
       "      <th>7</th>\n",
       "      <th>8</th>\n",
       "      <th>9</th>\n",
       "    </tr>\n",
       "  </thead>\n",
       "  <tbody>\n",
       "    <tr>\n",
       "      <th>n_estimators</th>\n",
       "      <td>3000</td>\n",
       "      <td>3500</td>\n",
       "      <td>4000</td>\n",
       "      <td>4500</td>\n",
       "      <td>4600</td>\n",
       "      <td>4700</td>\n",
       "      <td>4800</td>\n",
       "      <td>4900</td>\n",
       "      <td>5000</td>\n",
       "      <td>5500</td>\n",
       "    </tr>\n",
       "    <tr>\n",
       "      <th>MAE</th>\n",
       "      <td>11.58236</td>\n",
       "      <td>11.579768</td>\n",
       "      <td>11.578365</td>\n",
       "      <td>11.578606</td>\n",
       "      <td>11.578906</td>\n",
       "      <td>11.578176</td>\n",
       "      <td>11.578031</td>\n",
       "      <td>11.577531</td>\n",
       "      <td>11.577376</td>\n",
       "      <td>11.576877</td>\n",
       "    </tr>\n",
       "    <tr>\n",
       "      <th>RMSE</th>\n",
       "      <td>19.745054</td>\n",
       "      <td>19.738695</td>\n",
       "      <td>19.734841</td>\n",
       "      <td>19.734653</td>\n",
       "      <td>19.734461</td>\n",
       "      <td>19.733468</td>\n",
       "      <td>19.733131</td>\n",
       "      <td>19.733042</td>\n",
       "      <td>19.73344</td>\n",
       "      <td>19.733483</td>\n",
       "    </tr>\n",
       "    <tr>\n",
       "      <th>R2</th>\n",
       "      <td>0.926227</td>\n",
       "      <td>0.926228</td>\n",
       "      <td>0.926213</td>\n",
       "      <td>0.926198</td>\n",
       "      <td>0.926195</td>\n",
       "      <td>0.9262</td>\n",
       "      <td>0.926201</td>\n",
       "      <td>0.9262</td>\n",
       "      <td>0.926196</td>\n",
       "      <td>0.926192</td>\n",
       "    </tr>\n",
       "    <tr>\n",
       "      <th>Time spent (min)</th>\n",
       "      <td>0.537185</td>\n",
       "      <td>0.575466</td>\n",
       "      <td>0.676089</td>\n",
       "      <td>0.80837</td>\n",
       "      <td>0.75636</td>\n",
       "      <td>0.828911</td>\n",
       "      <td>0.782684</td>\n",
       "      <td>0.850666</td>\n",
       "      <td>0.815738</td>\n",
       "      <td>0.932182</td>\n",
       "    </tr>\n",
       "  </tbody>\n",
       "</table>\n",
       "</div>"
      ],
      "text/plain": [
       "                          0          1          2          3          4   \n",
       "n_estimators           3000       3500       4000       4500       4600  \\\n",
       "MAE                11.58236  11.579768  11.578365  11.578606  11.578906   \n",
       "RMSE              19.745054  19.738695  19.734841  19.734653  19.734461   \n",
       "R2                 0.926227   0.926228   0.926213   0.926198   0.926195   \n",
       "Time spent (min)   0.537185   0.575466   0.676089    0.80837    0.75636   \n",
       "\n",
       "                          5          6          7          8          9  \n",
       "n_estimators           4700       4800       4900       5000       5500  \n",
       "MAE               11.578176  11.578031  11.577531  11.577376  11.576877  \n",
       "RMSE              19.733468  19.733131  19.733042   19.73344  19.733483  \n",
       "R2                   0.9262   0.926201     0.9262   0.926196   0.926192  \n",
       "Time spent (min)   0.828911   0.782684   0.850666   0.815738   0.932182  "
      ]
     },
     "metadata": {},
     "output_type": "display_data"
    }
   ],
   "source": [
    "params = {\n",
    "    'objective': 'reg:squarederror',\n",
    "    'booster': 'gbtree', \n",
    "    'learning_rate': 0.1,        \n",
    "    'n_estimators': [3000, 3500, 4000, 4500, 4600, 4700, 4800, 4900, 5000, 5500],\n",
    "    'random_state': RANDOM_SEED,   \n",
    "}\n",
    "\n",
    "xg_boost_results = tune_model(model_class=xgb.XGBRegressor, params=params, x_train=X_train, y_train=y_train, scoring=scoring, patience=2)\n",
    "display(xg_boost_results.T)"
   ]
  },
  {
   "cell_type": "code",
   "execution_count": 55,
   "metadata": {},
   "outputs": [],
   "source": [
    "best_xgbRegressor_params['n_estimators'] = 4900"
   ]
  },
  {
   "cell_type": "code",
   "execution_count": 63,
   "metadata": {},
   "outputs": [
    {
     "name": "stdout",
     "output_type": "stream",
     "text": [
      "Processing learning_rate = 0.01 ...\n",
      "Processing learning_rate = 0.02 ...\n",
      "Processing learning_rate = 0.03 ...\n",
      "Processing learning_rate = 0.04 ...\n",
      "Processing learning_rate = 0.05 ...\n",
      "Processing learning_rate = 0.06 ...\n",
      "Processing learning_rate = 0.07 ...\n",
      "Processing learning_rate = 0.08 ...\n",
      "Processing learning_rate = 0.09 ...\n",
      "Processing learning_rate = 0.1 ...\n"
     ]
    },
    {
     "data": {
      "text/html": [
       "<div>\n",
       "<style scoped>\n",
       "    .dataframe tbody tr th:only-of-type {\n",
       "        vertical-align: middle;\n",
       "    }\n",
       "\n",
       "    .dataframe tbody tr th {\n",
       "        vertical-align: top;\n",
       "    }\n",
       "\n",
       "    .dataframe thead th {\n",
       "        text-align: right;\n",
       "    }\n",
       "</style>\n",
       "<table border=\"1\" class=\"dataframe\">\n",
       "  <thead>\n",
       "    <tr style=\"text-align: right;\">\n",
       "      <th></th>\n",
       "      <th>0</th>\n",
       "      <th>1</th>\n",
       "      <th>2</th>\n",
       "      <th>3</th>\n",
       "      <th>4</th>\n",
       "      <th>5</th>\n",
       "      <th>6</th>\n",
       "      <th>7</th>\n",
       "      <th>8</th>\n",
       "      <th>9</th>\n",
       "    </tr>\n",
       "  </thead>\n",
       "  <tbody>\n",
       "    <tr>\n",
       "      <th>learning_rate</th>\n",
       "      <td>0.010000</td>\n",
       "      <td>0.020000</td>\n",
       "      <td>0.030000</td>\n",
       "      <td>0.040000</td>\n",
       "      <td>0.050000</td>\n",
       "      <td>0.060000</td>\n",
       "      <td>0.070000</td>\n",
       "      <td>0.080000</td>\n",
       "      <td>0.090000</td>\n",
       "      <td>0.100000</td>\n",
       "    </tr>\n",
       "    <tr>\n",
       "      <th>MAE</th>\n",
       "      <td>11.896595</td>\n",
       "      <td>11.631557</td>\n",
       "      <td>11.482933</td>\n",
       "      <td>11.469156</td>\n",
       "      <td>11.456118</td>\n",
       "      <td>11.470255</td>\n",
       "      <td>11.516405</td>\n",
       "      <td>11.469268</td>\n",
       "      <td>11.547550</td>\n",
       "      <td>11.577531</td>\n",
       "    </tr>\n",
       "    <tr>\n",
       "      <th>RMSE</th>\n",
       "      <td>20.070511</td>\n",
       "      <td>19.726474</td>\n",
       "      <td>19.514353</td>\n",
       "      <td>19.522651</td>\n",
       "      <td>19.511546</td>\n",
       "      <td>19.480516</td>\n",
       "      <td>19.516605</td>\n",
       "      <td>19.455028</td>\n",
       "      <td>19.664659</td>\n",
       "      <td>19.733042</td>\n",
       "    </tr>\n",
       "    <tr>\n",
       "      <th>R2</th>\n",
       "      <td>0.924740</td>\n",
       "      <td>0.926294</td>\n",
       "      <td>0.926761</td>\n",
       "      <td>0.926937</td>\n",
       "      <td>0.927210</td>\n",
       "      <td>0.926664</td>\n",
       "      <td>0.926268</td>\n",
       "      <td>0.926715</td>\n",
       "      <td>0.926000</td>\n",
       "      <td>0.926200</td>\n",
       "    </tr>\n",
       "    <tr>\n",
       "      <th>Time spent (min)</th>\n",
       "      <td>0.825480</td>\n",
       "      <td>0.754294</td>\n",
       "      <td>0.750820</td>\n",
       "      <td>0.751416</td>\n",
       "      <td>0.820717</td>\n",
       "      <td>0.857982</td>\n",
       "      <td>0.819611</td>\n",
       "      <td>0.835509</td>\n",
       "      <td>0.810395</td>\n",
       "      <td>0.837172</td>\n",
       "    </tr>\n",
       "  </tbody>\n",
       "</table>\n",
       "</div>"
      ],
      "text/plain": [
       "                          0          1          2          3          4   \n",
       "learning_rate      0.010000   0.020000   0.030000   0.040000   0.050000  \\\n",
       "MAE               11.896595  11.631557  11.482933  11.469156  11.456118   \n",
       "RMSE              20.070511  19.726474  19.514353  19.522651  19.511546   \n",
       "R2                 0.924740   0.926294   0.926761   0.926937   0.927210   \n",
       "Time spent (min)   0.825480   0.754294   0.750820   0.751416   0.820717   \n",
       "\n",
       "                          5          6          7          8          9  \n",
       "learning_rate      0.060000   0.070000   0.080000   0.090000   0.100000  \n",
       "MAE               11.470255  11.516405  11.469268  11.547550  11.577531  \n",
       "RMSE              19.480516  19.516605  19.455028  19.664659  19.733042  \n",
       "R2                 0.926664   0.926268   0.926715   0.926000   0.926200  \n",
       "Time spent (min)   0.857982   0.819611   0.835509   0.810395   0.837172  "
      ]
     },
     "metadata": {},
     "output_type": "display_data"
    }
   ],
   "source": [
    "params = {\n",
    "    'objective': 'reg:squarederror',\n",
    "    'booster': 'gbtree', \n",
    "    'learning_rate': [0.01, 0.02, 0.03, 0.04, 0.05, 0.06, 0.07, 0.08, 0.09, 0.1],          \n",
    "    'n_estimators': 4900,\n",
    "    'random_state': RANDOM_SEED,   \n",
    "}\n",
    "\n",
    "xg_boost_results2 = tune_model(model_class=xgb.XGBRegressor, params=params, x_train=X_train, y_train=y_train, scoring=scoring, patience=2)\n",
    "display(xg_boost_results2.T)"
   ]
  },
  {
   "cell_type": "code",
   "execution_count": 64,
   "metadata": {},
   "outputs": [
    {
     "name": "stdout",
     "output_type": "stream",
     "text": [
      "Processing learning_rate = 0.11 ...\n",
      "Processing learning_rate = 0.12 ...\n",
      "Processing learning_rate = 0.13 ...\n",
      "Processing learning_rate = 0.14 ...\n",
      "Early stopping triggered.\n"
     ]
    },
    {
     "data": {
      "text/html": [
       "<div>\n",
       "<style scoped>\n",
       "    .dataframe tbody tr th:only-of-type {\n",
       "        vertical-align: middle;\n",
       "    }\n",
       "\n",
       "    .dataframe tbody tr th {\n",
       "        vertical-align: top;\n",
       "    }\n",
       "\n",
       "    .dataframe thead th {\n",
       "        text-align: right;\n",
       "    }\n",
       "</style>\n",
       "<table border=\"1\" class=\"dataframe\">\n",
       "  <thead>\n",
       "    <tr style=\"text-align: right;\">\n",
       "      <th></th>\n",
       "      <th>0</th>\n",
       "      <th>1</th>\n",
       "      <th>2</th>\n",
       "      <th>3</th>\n",
       "    </tr>\n",
       "  </thead>\n",
       "  <tbody>\n",
       "    <tr>\n",
       "      <th>learning_rate</th>\n",
       "      <td>0.110000</td>\n",
       "      <td>0.120000</td>\n",
       "      <td>0.130000</td>\n",
       "      <td>0.140000</td>\n",
       "    </tr>\n",
       "    <tr>\n",
       "      <th>MAE</th>\n",
       "      <td>11.613744</td>\n",
       "      <td>11.593008</td>\n",
       "      <td>11.600758</td>\n",
       "      <td>11.695751</td>\n",
       "    </tr>\n",
       "    <tr>\n",
       "      <th>RMSE</th>\n",
       "      <td>19.730344</td>\n",
       "      <td>19.715524</td>\n",
       "      <td>19.755823</td>\n",
       "      <td>19.822971</td>\n",
       "    </tr>\n",
       "    <tr>\n",
       "      <th>R2</th>\n",
       "      <td>0.925685</td>\n",
       "      <td>0.926204</td>\n",
       "      <td>0.925349</td>\n",
       "      <td>0.925307</td>\n",
       "    </tr>\n",
       "    <tr>\n",
       "      <th>Time spent (min)</th>\n",
       "      <td>0.793989</td>\n",
       "      <td>0.854893</td>\n",
       "      <td>0.756301</td>\n",
       "      <td>0.724691</td>\n",
       "    </tr>\n",
       "  </tbody>\n",
       "</table>\n",
       "</div>"
      ],
      "text/plain": [
       "                          0          1          2          3\n",
       "learning_rate      0.110000   0.120000   0.130000   0.140000\n",
       "MAE               11.613744  11.593008  11.600758  11.695751\n",
       "RMSE              19.730344  19.715524  19.755823  19.822971\n",
       "R2                 0.925685   0.926204   0.925349   0.925307\n",
       "Time spent (min)   0.793989   0.854893   0.756301   0.724691"
      ]
     },
     "metadata": {},
     "output_type": "display_data"
    }
   ],
   "source": [
    "params = {\n",
    "    'objective': 'reg:squarederror',\n",
    "    'booster': 'gbtree', \n",
    "    'learning_rate': [0.11, 0.12, 0.13, 0.14, 0.15],          \n",
    "    'n_estimators': 4900,\n",
    "    'random_state': RANDOM_SEED,   \n",
    "}\n",
    "\n",
    "xg_boost_results3 = tune_model(model_class=xgb.XGBRegressor, params=params, x_train=X_train, y_train=y_train, scoring=scoring, patience=2)\n",
    "display(xg_boost_results3.T)"
   ]
  },
  {
   "cell_type": "code",
   "execution_count": 56,
   "metadata": {},
   "outputs": [],
   "source": [
    "best_xgbRegressor_params['learning_rate'] = 0.08"
   ]
  },
  {
   "cell_type": "markdown",
   "metadata": {},
   "source": [
    "## Training and saving the best models, ensembling"
   ]
  },
  {
   "cell_type": "markdown",
   "metadata": {},
   "source": [
    "##### CatBoost"
   ]
  },
  {
   "cell_type": "code",
   "execution_count": null,
   "metadata": {},
   "outputs": [
    {
     "data": {
      "text/plain": [
       "{'loss_function': 'RMSE',\n",
       " 'n_estimators': 1500,\n",
       " 'max_depth': 13,\n",
       " 'learning_rate': 0.16,\n",
       " 'random_seed': 42,\n",
       " 'verbose': 0}"
      ]
     },
     "execution_count": 57,
     "metadata": {},
     "output_type": "execute_result"
    }
   ],
   "source": [
    "best_catBoostRegressor_params\n",
    "# {'loss_function': 'RMSE',\n",
    "#  'n_estimators': 1500,\n",
    "#  'max_depth': 13,\n",
    "#  'learning_rate': 0.16,\n",
    "#  'random_seed': 42,\n",
    "#  'verbose': 0}"
   ]
  },
  {
   "cell_type": "code",
   "execution_count": 58,
   "metadata": {},
   "outputs": [
    {
     "name": "stdout",
     "output_type": "stream",
     "text": [
      "Test \tMAE: 10.862746452611132\n",
      "Test \tRMSE: 19.45308512713964\n",
      "Test \tR2: 0.9341716360111135\n"
     ]
    }
   ],
   "source": [
    "best_cat_model = CatBoostRegressor(**best_catBoostRegressor_params)\n",
    "best_cat_model.fit(X_train, y_train)\n",
    "best_cat_model_predictions = best_cat_model.predict(X_test)\n",
    "    \n",
    "mae = mae_exp(y_test, best_cat_model_predictions)\n",
    "rmse = rmse_exp(y_test, best_cat_model_predictions)\n",
    "r2 = r2_score(y_test, best_cat_model_predictions)\n",
    "\n",
    "print(f\"Test \\tMAE: {mae}\")\n",
    "print(f\"Test \\tRMSE: {rmse}\")\n",
    "print(f\"Test \\tR2: {r2}\")"
   ]
  },
  {
   "cell_type": "code",
   "execution_count": 60,
   "metadata": {},
   "outputs": [],
   "source": [
    "best_cat_model.save_model('best_cat_model.cbm')"
   ]
  },
  {
   "cell_type": "code",
   "execution_count": 10,
   "metadata": {
    "trusted": true
   },
   "outputs": [
    {
     "data": {
      "text/plain": [
       "<catboost.core.CatBoostRegressor at 0x1d9fa935f50>"
      ]
     },
     "execution_count": 10,
     "metadata": {},
     "output_type": "execute_result"
    }
   ],
   "source": [
    "best_cat_model = CatBoostRegressor()\n",
    "best_cat_model.load_model('C:\\\\Users\\\\Yur4ik\\\\Desktop\\\\tmp\\\\best_cat_model.cbm')\n",
    "best_cat_model"
   ]
  },
  {
   "cell_type": "markdown",
   "metadata": {},
   "source": [
    "##### XGBoost"
   ]
  },
  {
   "cell_type": "code",
   "execution_count": 59,
   "metadata": {},
   "outputs": [
    {
     "data": {
      "text/plain": [
       "{'objective': 'reg:squarederror',\n",
       " 'booster': 'gbtree',\n",
       " 'n_estimators': 4900,\n",
       " 'learning_rate': 0.08,\n",
       " 'random_state': 42}"
      ]
     },
     "execution_count": 59,
     "metadata": {},
     "output_type": "execute_result"
    }
   ],
   "source": [
    "best_xgbRegressor_params\n",
    "# {'objective': 'reg:squarederror',\n",
    "#  'booster': 'gbtree',\n",
    "#  'n_estimators': 4900,\n",
    "#  'learning_rate': 0.08,\n",
    "#  'random_state': 42}"
   ]
  },
  {
   "cell_type": "code",
   "execution_count": 66,
   "metadata": {},
   "outputs": [
    {
     "name": "stdout",
     "output_type": "stream",
     "text": [
      "Test \tMAE: 11.09474244288745\n",
      "Test \tRMSE: 19.534940863525865\n",
      "Test \tR2: 0.9311891649917389\n"
     ]
    }
   ],
   "source": [
    "best_xgboost_model = xgb.XGBRegressor(**best_xgbRegressor_params)\n",
    "best_xgboost_model.fit(X_train, y_train)\n",
    "best_xgboost_model_predictions = best_xgboost_model.predict(X_test)\n",
    "    \n",
    "mae = mae_exp(y_test, best_xgboost_model_predictions)\n",
    "rmse = rmse_exp(y_test, best_xgboost_model_predictions)\n",
    "r2 = r2_score(y_test, best_xgboost_model_predictions)\n",
    "\n",
    "print(f\"Test \\tMAE: {mae}\")\n",
    "print(f\"Test \\tRMSE: {rmse}\")\n",
    "print(f\"Test \\tR2: {r2}\")"
   ]
  },
  {
   "cell_type": "code",
   "execution_count": 68,
   "metadata": {},
   "outputs": [],
   "source": [
    "best_xgboost_model.save_model('best_xgb_model.json')"
   ]
  },
  {
   "cell_type": "code",
   "execution_count": 11,
   "metadata": {},
   "outputs": [
    {
     "data": {
      "text/html": [
       "<style>#sk-container-id-1 {color: black;}#sk-container-id-1 pre{padding: 0;}#sk-container-id-1 div.sk-toggleable {background-color: white;}#sk-container-id-1 label.sk-toggleable__label {cursor: pointer;display: block;width: 100%;margin-bottom: 0;padding: 0.3em;box-sizing: border-box;text-align: center;}#sk-container-id-1 label.sk-toggleable__label-arrow:before {content: \"▸\";float: left;margin-right: 0.25em;color: #696969;}#sk-container-id-1 label.sk-toggleable__label-arrow:hover:before {color: black;}#sk-container-id-1 div.sk-estimator:hover label.sk-toggleable__label-arrow:before {color: black;}#sk-container-id-1 div.sk-toggleable__content {max-height: 0;max-width: 0;overflow: hidden;text-align: left;background-color: #f0f8ff;}#sk-container-id-1 div.sk-toggleable__content pre {margin: 0.2em;color: black;border-radius: 0.25em;background-color: #f0f8ff;}#sk-container-id-1 input.sk-toggleable__control:checked~div.sk-toggleable__content {max-height: 200px;max-width: 100%;overflow: auto;}#sk-container-id-1 input.sk-toggleable__control:checked~label.sk-toggleable__label-arrow:before {content: \"▾\";}#sk-container-id-1 div.sk-estimator input.sk-toggleable__control:checked~label.sk-toggleable__label {background-color: #d4ebff;}#sk-container-id-1 div.sk-label input.sk-toggleable__control:checked~label.sk-toggleable__label {background-color: #d4ebff;}#sk-container-id-1 input.sk-hidden--visually {border: 0;clip: rect(1px 1px 1px 1px);clip: rect(1px, 1px, 1px, 1px);height: 1px;margin: -1px;overflow: hidden;padding: 0;position: absolute;width: 1px;}#sk-container-id-1 div.sk-estimator {font-family: monospace;background-color: #f0f8ff;border: 1px dotted black;border-radius: 0.25em;box-sizing: border-box;margin-bottom: 0.5em;}#sk-container-id-1 div.sk-estimator:hover {background-color: #d4ebff;}#sk-container-id-1 div.sk-parallel-item::after {content: \"\";width: 100%;border-bottom: 1px solid gray;flex-grow: 1;}#sk-container-id-1 div.sk-label:hover label.sk-toggleable__label {background-color: #d4ebff;}#sk-container-id-1 div.sk-serial::before {content: \"\";position: absolute;border-left: 1px solid gray;box-sizing: border-box;top: 0;bottom: 0;left: 50%;z-index: 0;}#sk-container-id-1 div.sk-serial {display: flex;flex-direction: column;align-items: center;background-color: white;padding-right: 0.2em;padding-left: 0.2em;position: relative;}#sk-container-id-1 div.sk-item {position: relative;z-index: 1;}#sk-container-id-1 div.sk-parallel {display: flex;align-items: stretch;justify-content: center;background-color: white;position: relative;}#sk-container-id-1 div.sk-item::before, #sk-container-id-1 div.sk-parallel-item::before {content: \"\";position: absolute;border-left: 1px solid gray;box-sizing: border-box;top: 0;bottom: 0;left: 50%;z-index: -1;}#sk-container-id-1 div.sk-parallel-item {display: flex;flex-direction: column;z-index: 1;position: relative;background-color: white;}#sk-container-id-1 div.sk-parallel-item:first-child::after {align-self: flex-end;width: 50%;}#sk-container-id-1 div.sk-parallel-item:last-child::after {align-self: flex-start;width: 50%;}#sk-container-id-1 div.sk-parallel-item:only-child::after {width: 0;}#sk-container-id-1 div.sk-dashed-wrapped {border: 1px dashed gray;margin: 0 0.4em 0.5em 0.4em;box-sizing: border-box;padding-bottom: 0.4em;background-color: white;}#sk-container-id-1 div.sk-label label {font-family: monospace;font-weight: bold;display: inline-block;line-height: 1.2em;}#sk-container-id-1 div.sk-label-container {text-align: center;}#sk-container-id-1 div.sk-container {/* jupyter's `normalize.less` sets `[hidden] { display: none; }` but bootstrap.min.css set `[hidden] { display: none !important; }` so we also need the `!important` here to be able to override the default hidden behavior on the sphinx rendered scikit-learn.org. See: https://github.com/scikit-learn/scikit-learn/issues/21755 */display: inline-block !important;position: relative;}#sk-container-id-1 div.sk-text-repr-fallback {display: none;}</style><div id=\"sk-container-id-1\" class=\"sk-top-container\"><div class=\"sk-text-repr-fallback\"><pre>XGBRegressor(base_score=&#x27;3.9236805E0&#x27;, booster=&#x27;gbtree&#x27;, callbacks=None,\n",
       "             colsample_bylevel=None, colsample_bynode=None,\n",
       "             colsample_bytree=None, device=None, early_stopping_rounds=None,\n",
       "             enable_categorical=False, eval_metric=None,\n",
       "             feature_types=[&#x27;float&#x27;, &#x27;float&#x27;, &#x27;float&#x27;, &#x27;float&#x27;, &#x27;float&#x27;,\n",
       "                            &#x27;float&#x27;, &#x27;float&#x27;, &#x27;float&#x27;, &#x27;float&#x27;, &#x27;float&#x27;,\n",
       "                            &#x27;float&#x27;, &#x27;float&#x27;, &#x27;float&#x27;, &#x27;float&#x27;, &#x27;floa...\n",
       "             feature_weights=None, gamma=None, grow_policy=None,\n",
       "             importance_type=None, interaction_constraints=None,\n",
       "             learning_rate=None, max_bin=None, max_cat_threshold=None,\n",
       "             max_cat_to_onehot=None, max_delta_step=None, max_depth=None,\n",
       "             max_leaves=None, min_child_weight=None, missing=nan,\n",
       "             monotone_constraints=None, multi_strategy=None, n_estimators=None,\n",
       "             n_jobs=None, num_parallel_tree=None, ...)</pre><b>In a Jupyter environment, please rerun this cell to show the HTML representation or trust the notebook. <br />On GitHub, the HTML representation is unable to render, please try loading this page with nbviewer.org.</b></div><div class=\"sk-container\" hidden><div class=\"sk-item\"><div class=\"sk-estimator sk-toggleable\"><input class=\"sk-toggleable__control sk-hidden--visually\" id=\"sk-estimator-id-1\" type=\"checkbox\" checked><label for=\"sk-estimator-id-1\" class=\"sk-toggleable__label sk-toggleable__label-arrow\">XGBRegressor</label><div class=\"sk-toggleable__content\"><pre>XGBRegressor(base_score=&#x27;3.9236805E0&#x27;, booster=&#x27;gbtree&#x27;, callbacks=None,\n",
       "             colsample_bylevel=None, colsample_bynode=None,\n",
       "             colsample_bytree=None, device=None, early_stopping_rounds=None,\n",
       "             enable_categorical=False, eval_metric=None,\n",
       "             feature_types=[&#x27;float&#x27;, &#x27;float&#x27;, &#x27;float&#x27;, &#x27;float&#x27;, &#x27;float&#x27;,\n",
       "                            &#x27;float&#x27;, &#x27;float&#x27;, &#x27;float&#x27;, &#x27;float&#x27;, &#x27;float&#x27;,\n",
       "                            &#x27;float&#x27;, &#x27;float&#x27;, &#x27;float&#x27;, &#x27;float&#x27;, &#x27;floa...\n",
       "             feature_weights=None, gamma=None, grow_policy=None,\n",
       "             importance_type=None, interaction_constraints=None,\n",
       "             learning_rate=None, max_bin=None, max_cat_threshold=None,\n",
       "             max_cat_to_onehot=None, max_delta_step=None, max_depth=None,\n",
       "             max_leaves=None, min_child_weight=None, missing=nan,\n",
       "             monotone_constraints=None, multi_strategy=None, n_estimators=None,\n",
       "             n_jobs=None, num_parallel_tree=None, ...)</pre></div></div></div></div></div>"
      ],
      "text/plain": [
       "XGBRegressor(base_score='3.9236805E0', booster='gbtree', callbacks=None,\n",
       "             colsample_bylevel=None, colsample_bynode=None,\n",
       "             colsample_bytree=None, device=None, early_stopping_rounds=None,\n",
       "             enable_categorical=False, eval_metric=None,\n",
       "             feature_types=['float', 'float', 'float', 'float', 'float',\n",
       "                            'float', 'float', 'float', 'float', 'float',\n",
       "                            'float', 'float', 'float', 'float', 'floa...\n",
       "             feature_weights=None, gamma=None, grow_policy=None,\n",
       "             importance_type=None, interaction_constraints=None,\n",
       "             learning_rate=None, max_bin=None, max_cat_threshold=None,\n",
       "             max_cat_to_onehot=None, max_delta_step=None, max_depth=None,\n",
       "             max_leaves=None, min_child_weight=None, missing=nan,\n",
       "             monotone_constraints=None, multi_strategy=None, n_estimators=None,\n",
       "             n_jobs=None, num_parallel_tree=None, ...)"
      ]
     },
     "execution_count": 11,
     "metadata": {},
     "output_type": "execute_result"
    }
   ],
   "source": [
    "best_xgboost_model = xgb.XGBRegressor()\n",
    "best_xgboost_model.load_model('C:\\\\Users\\\\Yur4ik\\\\Desktop\\\\tmp\\\\best_xgb_model.json')\n",
    "best_xgboost_model"
   ]
  },
  {
   "cell_type": "code",
   "execution_count": 71,
   "metadata": {
    "trusted": true
   },
   "outputs": [
    {
     "name": "stdout",
     "output_type": "stream",
     "text": [
      "\n",
      "Ensemble \t\tMAE: 10.9394093302393\n",
      "Ensemble \t\tRMSE: 19.029058719744526\n",
      "Ensemble \t\tR2: 0.9327531910096875\n"
     ]
    }
   ],
   "source": [
    "# models needs to be untrained before going into ensemble training\n",
    "best_cat_model.load_model('C:\\\\Users\\\\Yur4ik\\\\Desktop\\\\tmp\\\\best_cat_model.cbm')\n",
    "best_xgboost_model.load_model('C:\\\\Users\\\\Yur4ik\\\\Desktop\\\\tmp\\\\best_xgb_model.json')\n",
    "\n",
    "estimators = [(\"XGBoost\", best_xgboost_model), (\"CatBoost\", best_cat_model)] \n",
    "\n",
    "ensemble = VotingRegressor(estimators) \n",
    "\n",
    "ensemble.fit(X_train, y_train)\n",
    "ensemble_predictions = ensemble.predict(X_test)\n",
    "\n",
    "mae = mae_exp(y_test, ensemble_predictions)\n",
    "rmse = rmse_exp(y_test, ensemble_predictions)\n",
    "r2 = r2_score(y_test, ensemble_predictions)\n",
    "\n",
    "print()\n",
    "print(f\"Ensemble \\t\\tMAE: {mae}\")\n",
    "print(f\"Ensemble \\t\\tRMSE: {rmse}\")\n",
    "print(f\"Ensemble \\t\\tR2: {r2}\")"
   ]
  },
  {
   "cell_type": "markdown",
   "metadata": {},
   "source": [
    "#### The ensemble is better than either of the best tuned models"
   ]
  },
  {
   "cell_type": "code",
   "execution_count": 72,
   "metadata": {},
   "outputs": [
    {
     "data": {
      "text/plain": [
       "['best_model_ensemble_cat_xgboost.joblib']"
      ]
     },
     "execution_count": 72,
     "metadata": {},
     "output_type": "execute_result"
    }
   ],
   "source": [
    "joblib.dump(ensemble, \"best_model_ensemble_cat_xgboost.joblib\")"
   ]
  },
  {
   "cell_type": "code",
   "execution_count": 12,
   "metadata": {},
   "outputs": [
    {
     "data": {
      "text/html": [
       "<style>#sk-container-id-2 {color: black;}#sk-container-id-2 pre{padding: 0;}#sk-container-id-2 div.sk-toggleable {background-color: white;}#sk-container-id-2 label.sk-toggleable__label {cursor: pointer;display: block;width: 100%;margin-bottom: 0;padding: 0.3em;box-sizing: border-box;text-align: center;}#sk-container-id-2 label.sk-toggleable__label-arrow:before {content: \"▸\";float: left;margin-right: 0.25em;color: #696969;}#sk-container-id-2 label.sk-toggleable__label-arrow:hover:before {color: black;}#sk-container-id-2 div.sk-estimator:hover label.sk-toggleable__label-arrow:before {color: black;}#sk-container-id-2 div.sk-toggleable__content {max-height: 0;max-width: 0;overflow: hidden;text-align: left;background-color: #f0f8ff;}#sk-container-id-2 div.sk-toggleable__content pre {margin: 0.2em;color: black;border-radius: 0.25em;background-color: #f0f8ff;}#sk-container-id-2 input.sk-toggleable__control:checked~div.sk-toggleable__content {max-height: 200px;max-width: 100%;overflow: auto;}#sk-container-id-2 input.sk-toggleable__control:checked~label.sk-toggleable__label-arrow:before {content: \"▾\";}#sk-container-id-2 div.sk-estimator input.sk-toggleable__control:checked~label.sk-toggleable__label {background-color: #d4ebff;}#sk-container-id-2 div.sk-label input.sk-toggleable__control:checked~label.sk-toggleable__label {background-color: #d4ebff;}#sk-container-id-2 input.sk-hidden--visually {border: 0;clip: rect(1px 1px 1px 1px);clip: rect(1px, 1px, 1px, 1px);height: 1px;margin: -1px;overflow: hidden;padding: 0;position: absolute;width: 1px;}#sk-container-id-2 div.sk-estimator {font-family: monospace;background-color: #f0f8ff;border: 1px dotted black;border-radius: 0.25em;box-sizing: border-box;margin-bottom: 0.5em;}#sk-container-id-2 div.sk-estimator:hover {background-color: #d4ebff;}#sk-container-id-2 div.sk-parallel-item::after {content: \"\";width: 100%;border-bottom: 1px solid gray;flex-grow: 1;}#sk-container-id-2 div.sk-label:hover label.sk-toggleable__label {background-color: #d4ebff;}#sk-container-id-2 div.sk-serial::before {content: \"\";position: absolute;border-left: 1px solid gray;box-sizing: border-box;top: 0;bottom: 0;left: 50%;z-index: 0;}#sk-container-id-2 div.sk-serial {display: flex;flex-direction: column;align-items: center;background-color: white;padding-right: 0.2em;padding-left: 0.2em;position: relative;}#sk-container-id-2 div.sk-item {position: relative;z-index: 1;}#sk-container-id-2 div.sk-parallel {display: flex;align-items: stretch;justify-content: center;background-color: white;position: relative;}#sk-container-id-2 div.sk-item::before, #sk-container-id-2 div.sk-parallel-item::before {content: \"\";position: absolute;border-left: 1px solid gray;box-sizing: border-box;top: 0;bottom: 0;left: 50%;z-index: -1;}#sk-container-id-2 div.sk-parallel-item {display: flex;flex-direction: column;z-index: 1;position: relative;background-color: white;}#sk-container-id-2 div.sk-parallel-item:first-child::after {align-self: flex-end;width: 50%;}#sk-container-id-2 div.sk-parallel-item:last-child::after {align-self: flex-start;width: 50%;}#sk-container-id-2 div.sk-parallel-item:only-child::after {width: 0;}#sk-container-id-2 div.sk-dashed-wrapped {border: 1px dashed gray;margin: 0 0.4em 0.5em 0.4em;box-sizing: border-box;padding-bottom: 0.4em;background-color: white;}#sk-container-id-2 div.sk-label label {font-family: monospace;font-weight: bold;display: inline-block;line-height: 1.2em;}#sk-container-id-2 div.sk-label-container {text-align: center;}#sk-container-id-2 div.sk-container {/* jupyter's `normalize.less` sets `[hidden] { display: none; }` but bootstrap.min.css set `[hidden] { display: none !important; }` so we also need the `!important` here to be able to override the default hidden behavior on the sphinx rendered scikit-learn.org. See: https://github.com/scikit-learn/scikit-learn/issues/21755 */display: inline-block !important;position: relative;}#sk-container-id-2 div.sk-text-repr-fallback {display: none;}</style><div id=\"sk-container-id-2\" class=\"sk-top-container\"><div class=\"sk-text-repr-fallback\"><pre>VotingRegressor(estimators=[(&#x27;XGBoost&#x27;,\n",
       "                             XGBRegressor(base_score=&#x27;3.9236805E0&#x27;,\n",
       "                                          booster=&#x27;gbtree&#x27;, callbacks=None,\n",
       "                                          colsample_bylevel=None,\n",
       "                                          colsample_bynode=None,\n",
       "                                          colsample_bytree=None, device=None,\n",
       "                                          early_stopping_rounds=None,\n",
       "                                          enable_categorical=False,\n",
       "                                          eval_metric=None,\n",
       "                                          feature_types=[&#x27;float&#x27;, &#x27;float&#x27;,\n",
       "                                                         &#x27;float&#x27;, &#x27;float&#x27;,\n",
       "                                                         &#x27;float&#x27;, &#x27;float&#x27;,\n",
       "                                                         &#x27;float&#x27;, &#x27;float&#x27;,\n",
       "                                                         &#x27;float&#x27;, &#x27;float...\n",
       "                                          interaction_constraints=None,\n",
       "                                          learning_rate=None, max_bin=None,\n",
       "                                          max_cat_threshold=None,\n",
       "                                          max_cat_to_onehot=None,\n",
       "                                          max_delta_step=None, max_depth=None,\n",
       "                                          max_leaves=None,\n",
       "                                          min_child_weight=None, missing=nan,\n",
       "                                          monotone_constraints=None,\n",
       "                                          multi_strategy=None,\n",
       "                                          n_estimators=None, n_jobs=None,\n",
       "                                          num_parallel_tree=None, ...)),\n",
       "                            (&#x27;CatBoost&#x27;,\n",
       "                             &lt;catboost.core.CatBoostRegressor object at 0x000001D9B248FCD0&gt;)])</pre><b>In a Jupyter environment, please rerun this cell to show the HTML representation or trust the notebook. <br />On GitHub, the HTML representation is unable to render, please try loading this page with nbviewer.org.</b></div><div class=\"sk-container\" hidden><div class=\"sk-item sk-dashed-wrapped\"><div class=\"sk-label-container\"><div class=\"sk-label sk-toggleable\"><input class=\"sk-toggleable__control sk-hidden--visually\" id=\"sk-estimator-id-2\" type=\"checkbox\" ><label for=\"sk-estimator-id-2\" class=\"sk-toggleable__label sk-toggleable__label-arrow\">VotingRegressor</label><div class=\"sk-toggleable__content\"><pre>VotingRegressor(estimators=[(&#x27;XGBoost&#x27;,\n",
       "                             XGBRegressor(base_score=&#x27;3.9236805E0&#x27;,\n",
       "                                          booster=&#x27;gbtree&#x27;, callbacks=None,\n",
       "                                          colsample_bylevel=None,\n",
       "                                          colsample_bynode=None,\n",
       "                                          colsample_bytree=None, device=None,\n",
       "                                          early_stopping_rounds=None,\n",
       "                                          enable_categorical=False,\n",
       "                                          eval_metric=None,\n",
       "                                          feature_types=[&#x27;float&#x27;, &#x27;float&#x27;,\n",
       "                                                         &#x27;float&#x27;, &#x27;float&#x27;,\n",
       "                                                         &#x27;float&#x27;, &#x27;float&#x27;,\n",
       "                                                         &#x27;float&#x27;, &#x27;float&#x27;,\n",
       "                                                         &#x27;float&#x27;, &#x27;float...\n",
       "                                          interaction_constraints=None,\n",
       "                                          learning_rate=None, max_bin=None,\n",
       "                                          max_cat_threshold=None,\n",
       "                                          max_cat_to_onehot=None,\n",
       "                                          max_delta_step=None, max_depth=None,\n",
       "                                          max_leaves=None,\n",
       "                                          min_child_weight=None, missing=nan,\n",
       "                                          monotone_constraints=None,\n",
       "                                          multi_strategy=None,\n",
       "                                          n_estimators=None, n_jobs=None,\n",
       "                                          num_parallel_tree=None, ...)),\n",
       "                            (&#x27;CatBoost&#x27;,\n",
       "                             &lt;catboost.core.CatBoostRegressor object at 0x000001D9B248FCD0&gt;)])</pre></div></div></div><div class=\"sk-parallel\"><div class=\"sk-parallel-item\"><div class=\"sk-item\"><div class=\"sk-label-container\"><div class=\"sk-label sk-toggleable\"><label>XGBoost</label></div></div><div class=\"sk-serial\"><div class=\"sk-item\"><div class=\"sk-estimator sk-toggleable\"><input class=\"sk-toggleable__control sk-hidden--visually\" id=\"sk-estimator-id-3\" type=\"checkbox\" ><label for=\"sk-estimator-id-3\" class=\"sk-toggleable__label sk-toggleable__label-arrow\">XGBRegressor</label><div class=\"sk-toggleable__content\"><pre>XGBRegressor(base_score=&#x27;3.9236805E0&#x27;, booster=&#x27;gbtree&#x27;, callbacks=None,\n",
       "             colsample_bylevel=None, colsample_bynode=None,\n",
       "             colsample_bytree=None, device=None, early_stopping_rounds=None,\n",
       "             enable_categorical=False, eval_metric=None,\n",
       "             feature_types=[&#x27;float&#x27;, &#x27;float&#x27;, &#x27;float&#x27;, &#x27;float&#x27;, &#x27;float&#x27;,\n",
       "                            &#x27;float&#x27;, &#x27;float&#x27;, &#x27;float&#x27;, &#x27;float&#x27;, &#x27;float&#x27;,\n",
       "                            &#x27;float&#x27;, &#x27;float&#x27;, &#x27;float&#x27;, &#x27;float&#x27;, &#x27;floa...\n",
       "             feature_weights=None, gamma=None, grow_policy=None,\n",
       "             importance_type=None, interaction_constraints=None,\n",
       "             learning_rate=None, max_bin=None, max_cat_threshold=None,\n",
       "             max_cat_to_onehot=None, max_delta_step=None, max_depth=None,\n",
       "             max_leaves=None, min_child_weight=None, missing=nan,\n",
       "             monotone_constraints=None, multi_strategy=None, n_estimators=None,\n",
       "             n_jobs=None, num_parallel_tree=None, ...)</pre></div></div></div></div></div></div><div class=\"sk-parallel-item\"><div class=\"sk-item\"><div class=\"sk-label-container\"><div class=\"sk-label sk-toggleable\"><label>CatBoost</label></div></div><div class=\"sk-serial\"><div class=\"sk-item\"><div class=\"sk-estimator sk-toggleable\"><input class=\"sk-toggleable__control sk-hidden--visually\" id=\"sk-estimator-id-4\" type=\"checkbox\" ><label for=\"sk-estimator-id-4\" class=\"sk-toggleable__label sk-toggleable__label-arrow\">CatBoostRegressor</label><div class=\"sk-toggleable__content\"><pre>&lt;catboost.core.CatBoostRegressor object at 0x000001D9B248FCD0&gt;</pre></div></div></div></div></div></div></div></div></div></div>"
      ],
      "text/plain": [
       "VotingRegressor(estimators=[('XGBoost',\n",
       "                             XGBRegressor(base_score='3.9236805E0',\n",
       "                                          booster='gbtree', callbacks=None,\n",
       "                                          colsample_bylevel=None,\n",
       "                                          colsample_bynode=None,\n",
       "                                          colsample_bytree=None, device=None,\n",
       "                                          early_stopping_rounds=None,\n",
       "                                          enable_categorical=False,\n",
       "                                          eval_metric=None,\n",
       "                                          feature_types=['float', 'float',\n",
       "                                                         'float', 'float',\n",
       "                                                         'float', 'float',\n",
       "                                                         'float', 'float',\n",
       "                                                         'float', 'float...\n",
       "                                          interaction_constraints=None,\n",
       "                                          learning_rate=None, max_bin=None,\n",
       "                                          max_cat_threshold=None,\n",
       "                                          max_cat_to_onehot=None,\n",
       "                                          max_delta_step=None, max_depth=None,\n",
       "                                          max_leaves=None,\n",
       "                                          min_child_weight=None, missing=nan,\n",
       "                                          monotone_constraints=None,\n",
       "                                          multi_strategy=None,\n",
       "                                          n_estimators=None, n_jobs=None,\n",
       "                                          num_parallel_tree=None, ...)),\n",
       "                            ('CatBoost',\n",
       "                             <catboost.core.CatBoostRegressor object at 0x000001D9B248FCD0>)])"
      ]
     },
     "execution_count": 12,
     "metadata": {},
     "output_type": "execute_result"
    }
   ],
   "source": [
    "best_ensemble = joblib.load(\"C:\\\\Users\\\\Yur4ik\\\\Desktop\\\\tmp\\\\best_model_ensemble_cat_xgboost.joblib\")\n",
    "best_ensemble"
   ]
  },
  {
   "cell_type": "markdown",
   "metadata": {},
   "source": [
    "## Feature importances"
   ]
  },
  {
   "cell_type": "markdown",
   "metadata": {},
   "source": [
    "### Prediction-based"
   ]
  },
  {
   "cell_type": "code",
   "execution_count": 33,
   "metadata": {
    "trusted": true
   },
   "outputs": [
    {
     "data": {
      "text/plain": [
       "PM10             28.371562\n",
       "CO               12.164665\n",
       "year              6.398174\n",
       "TEMP_x_CO         5.788443\n",
       "month_sin         5.693101\n",
       "PM10_diff1        4.729217\n",
       "NO2               4.534136\n",
       "TEMP              4.301287\n",
       "dayofweek_sin     4.096504\n",
       "O3                3.829348\n",
       "dtype: float64"
      ]
     },
     "execution_count": 74,
     "metadata": {},
     "output_type": "execute_result"
    }
   ],
   "source": [
    "train_pool = Pool(X_train, y_train) # not possible for ensembles, only for separate models\n",
    "importances = pd.Series(best_cat_model.get_feature_importance(train_pool, type='PredictionValuesChange'), index=X_train.columns)\n",
    "importances.sort_values(ascending=False).head(10)"
   ]
  },
  {
   "cell_type": "markdown",
   "metadata": {},
   "source": [
    "##### “PM10 → 28.37” means that when CatBoost uses PM10 in its trees, it changes the prediction by ~28 on average."
   ]
  },
  {
   "cell_type": "markdown",
   "metadata": {},
   "source": [
    "### Permutation Importance\n",
    "##### Measures how much shuffling each feature hurts performance."
   ]
  },
  {
   "cell_type": "code",
   "execution_count": 75,
   "metadata": {},
   "outputs": [
    {
     "data": {
      "text/plain": [
       "PM10          0.781955\n",
       "CO            0.179571\n",
       "TEMP_x_CO     0.039114\n",
       "NO2           0.031548\n",
       "year          0.024381\n",
       "O3            0.023831\n",
       "month_sin     0.020573\n",
       "TEMP          0.018511\n",
       "PM10_diff1    0.013580\n",
       "SO2           0.009617\n",
       "dtype: float64"
      ]
     },
     "execution_count": 75,
     "metadata": {},
     "output_type": "execute_result"
    }
   ],
   "source": [
    "r = permutation_importance(best_ensemble, X_test, y_test, n_repeats=10, random_state=RANDOM_SEED)\n",
    "imp_ens = pd.Series(r.importances_mean, index=X_test.columns)\n",
    "imp_ens.sort_values(ascending=False).head(10)"
   ]
  },
  {
   "cell_type": "markdown",
   "metadata": {},
   "source": [
    "##### PM10 → 0.78” means “shuffling PM10 raises RMSE by 0.89 units on average\"."
   ]
  },
  {
   "cell_type": "markdown",
   "metadata": {},
   "source": [
    "### Short summary\n",
    "\n",
    "##### The way the ensemble performs and prioritizes is closely related to the way the features actually impact it. It is more likely consistent and reliable.\n",
    "##### The scores have also gotten better after the second fine-tuning (except in XGBoost)."
   ]
  },
  {
   "cell_type": "markdown",
   "metadata": {},
   "source": [
    "## Model's performance"
   ]
  },
  {
   "cell_type": "code",
   "execution_count": null,
   "metadata": {},
   "outputs": [
    {
     "data": {
      "image/png": "[encoded data removed]",
      "text/plain": [
       "<Figure size 800x830 with 1 Axes>"
      ]
     },
     "metadata": {},
     "output_type": "display_data"
    },
    {
     "data": {
      "image/png": "[encoded data removed]",
      "text/plain": [
       "<Figure size 800x830 with 2 Axes>"
      ]
     },
     "metadata": {},
     "output_type": "display_data"
    },
    {
     "data": {
      "image/png": "[encoded data removed]",
      "text/plain": [
       "<Figure size 750x500 with 2 Axes>"
      ]
     },
     "metadata": {},
     "output_type": "display_data"
    },
    {
     "data": {
      "image/png": "[encoded data removed]",
      "text/plain": [
       "<Figure size 2000x300 with 1 Axes>"
      ]
     },
     "metadata": {},
     "output_type": "display_data"
    }
   ],
   "source": [
    "# shap doesn't work with ensembles directly, that's why we are computing the separately and then averaging (since it's what an ensemble is)\n",
    "explainer_cat = shap.TreeExplainer(best_cat_model) \n",
    "shap_values_cat = explainer_cat.shap_values(X_test)\n",
    "\n",
    "explainer_xgboost = shap.TreeExplainer(best_xgboost_model)\n",
    "shap_values_xgboost = explainer_xgboost.shap_values(X_test)\n",
    "\n",
    "shap_values_ensemble = (shap_values_cat + shap_values_xgboost) / 2\n",
    "explainer_ensemble = (explainer_cat.expected_value + explainer_xgboost.expected_value) / 2\n",
    "\n",
    "# Mean absolute SHAP value bar plot → Shows average feature importance across the dataset\n",
    "shap.summary_plot(shap_values_ensemble, X_test, plot_type=\"bar\", show=True, rng=RANDOM_SEED)\n",
    "\n",
    "# Summary plot (beeswarm plot) → Shows distribution of SHAP values per feature, with colour showing feature magnitude.\n",
    "shap.summary_plot(shap_values_ensemble, X_test, show=True, rng=RANDOM_SEED)\n",
    "\n",
    "# SHAP dependence plot with interaction → Shows how the SHAP value of one feature changes with its value and highlights interaction with another feature.\n",
    "most_important_feature = X_test.columns[abs(shap_values_ensemble).mean(axis=0).argmax()]\n",
    "shap.dependence_plot(most_important_feature, shap_values_ensemble, X_test, show=True)\n",
    "\n",
    "# SHAP force plot (individual prediction) → Shows how each feature pushes predictions up or down for one sample.\n",
    "resid = y_test - ensemble_predictions\n",
    "big_errors = np.argsort(np.abs(resid))[-1]  # Index of worst prediction\n",
    "\n",
    "shap.force_plot(explainer_ensemble, shap_values_ensemble[big_errors], np.around(X_test.iloc[big_errors, :], 2), matplotlib=True)"
   ]
  },
  {
   "cell_type": "code",
   "execution_count": null,
   "metadata": {},
   "outputs": [
    {
     "name": "stdout",
     "output_type": "stream",
     "text": [
      "Input features for the outlier:\n",
      "year               3.114442\n",
      "PM10               2.425254\n",
      "SO2                0.603729\n",
      "NO2                1.274631\n",
      "CO                 0.801782\n",
      "O3                 0.498756\n",
      "TEMP               0.388130\n",
      "WSPM               0.603158\n",
      "sin_hour           0.255109\n",
      "cos_hour           0.693491\n",
      "month_sin          1.007012\n",
      "dayofweek_sin      3.025526\n",
      "dayofweek_cos      2.412046\n",
      "TEMP_x_CO          0.528921\n",
      "WSPM_X_SO2         0.594730\n",
      "PM10_diff1       171.374734\n",
      "TEMP_diff1         0.434259\n",
      "Name: 2016-12-13 17:00:00, dtype: float64\n",
      "\n",
      "Predicted value (original scale): 91.4052050357972\n",
      "Ground truth (original scale): 3.0000000000000004\n",
      "Prediction error (original scale): 88.4052050357972\n"
     ]
    }
   ],
   "source": [
    "# Get the input features for the outlier\n",
    "outlier_input = X_test.iloc[big_errors, :]\n",
    "\n",
    "# Get the predicted value for the outlier\n",
    "outlier_pred = ensemble_predictions[big_errors]\n",
    "\n",
    "# Get the ground truth for the outlier\n",
    "outlier_true = y_test.iloc[big_errors]\n",
    "\n",
    "# Calculate the prediction error\n",
    "outlier_error = outlier_pred - outlier_true\n",
    "\n",
    "# Display the results\n",
    "print(\"Input features for the outlier (original scale):\")\n",
    "print(np.exp(outlier_input))\n",
    "\n",
    "print(f\"\\nPredicted value (original scale): {np.exp(outlier_pred)}\")\n",
    "print(f\"Ground truth (original scale): {np.exp(outlier_true)}\")\n",
    "print(f\"Prediction error (original scale): {np.exp(outlier_pred) - np.exp(outlier_true)}\")\n"
   ]
  },
  {
   "cell_type": "markdown",
   "metadata": {},
   "source": [
    "##### Predicted value significantly different from true value. The model expected high PM2.5 mainly because of high PM10 and CO. The error is likely because of high PM10_diff1. The feature reduces variance and gets us a better score, but trade-offs like this exist."
   ]
  },
  {
   "cell_type": "markdown",
   "metadata": {},
   "source": [
    "##### The model’s understanding is physically reasonable: higher pollutants → higher PM2.5. No critical model flaws detected."
   ]
  },
  {
   "cell_type": "markdown",
   "metadata": {},
   "source": [
    "### Saving and loading shap values"
   ]
  },
  {
   "cell_type": "code",
   "execution_count": 77,
   "metadata": {},
   "outputs": [],
   "source": [
    "np.save('shap_values_cat.npy', shap_values_cat) \n",
    "np.save('shap_values_xgboost.npy', shap_values_xgboost)"
   ]
  },
  {
   "cell_type": "code",
   "execution_count": 33,
   "metadata": {},
   "outputs": [],
   "source": [
    "shap_values_cat = np.load('shap_values_cat.npy')\n",
    "shap_values_xgboost = np.load('shap_values_xgboost.npy')"
   ]
  },
  {
   "cell_type": "markdown",
   "metadata": {},
   "source": [
    "## Residual Plot"
   ]
  },
  {
   "cell_type": "code",
   "execution_count": 78,
   "metadata": {},
   "outputs": [
    {
     "data": {
      "image/png": "[encoded data removed]",
      "text/plain": [
       "<Figure size 640x480 with 1 Axes>"
      ]
     },
     "metadata": {},
     "output_type": "display_data"
    }
   ],
   "source": [
    "pred = best_ensemble.predict(X_test)\n",
    "resid = y_test - pred\n",
    "\n",
    "plt.scatter(pred, resid, s=10)\n",
    "plt.axhline(0, color='red')\n",
    "plt.xlabel(f'Predicted {TARGET}')\n",
    "plt.ylabel('Residuals')\n",
    "plt.title('Residuals vs Predictions')\n",
    "plt.show()"
   ]
  },
  {
   "cell_type": "markdown",
   "metadata": {},
   "source": [
    "- Residuals scatter around zero but increase in spread for very high predicted values. These plots exhibit “heteroscedasticity”, as being established before. \n",
    "- Model struggles more at extreme predicted values. Some systematic error is present at the tails.\n",
    "- The middle range is acceptable."
   ]
  },
  {
   "cell_type": "markdown",
   "metadata": {},
   "source": [
    "## Q-Q Plot\n",
    "##### Check whether residuals behave as expected (normal distribution)"
   ]
  },
  {
   "cell_type": "code",
   "execution_count": 79,
   "metadata": {},
   "outputs": [
    {
     "data": {
      "image/png": "[encoded data removed]",
      "text/plain": [
       "<Figure size 640x480 with 1 Axes>"
      ]
     },
     "metadata": {},
     "output_type": "display_data"
    }
   ],
   "source": [
    "stats.probplot(resid, dist=\"norm\", plot=plt)\n",
    "plt.title('Normal Q-Q Plot of Residuals')\n",
    "plt.show()"
   ]
  },
  {
   "cell_type": "markdown",
   "metadata": {},
   "source": [
    "#### Residuals follow the diagonal in the middle but deviate significantly in both tails."
   ]
  },
  {
   "cell_type": "markdown",
   "metadata": {},
   "source": [
    "## Addressing heavy tails"
   ]
  },
  {
   "cell_type": "markdown",
   "metadata": {},
   "source": [
    "### Instead of predicting the mean (usual regression), predicting a quantile"
   ]
  },
  {
   "cell_type": "markdown",
   "metadata": {},
   "source": [
    "##### It helps when errors are not uniform across the target range, especially for heteroscedasticity. It allows the model to predict the conditional median (less sensitive to outliers) or other quantiles (for tail focus)."
   ]
  },
  {
   "cell_type": "code",
   "execution_count": 67,
   "metadata": {},
   "outputs": [
    {
     "data": {
      "text/plain": [
       "{'loss_function': 'RMSE',\n",
       " 'n_estimators': 1500,\n",
       " 'max_depth': 13,\n",
       " 'learning_rate': 0.16,\n",
       " 'random_seed': 42,\n",
       " 'verbose': 0}"
      ]
     },
     "execution_count": 67,
     "metadata": {},
     "output_type": "execute_result"
    }
   ],
   "source": [
    "best_catBoostRegressor_params"
   ]
  },
  {
   "cell_type": "code",
   "execution_count": 68,
   "metadata": {},
   "outputs": [
    {
     "name": "stdout",
     "output_type": "stream",
     "text": [
      "Test \tMAE: 11.963597548792793\n",
      "Test \tRMSE: 21.457060080505894\n",
      "Test \tR2: 0.9238158678068538\n",
      "Test \tMAE: 11.739501861149778\n",
      "Test \tRMSE: 20.811898331679515\n",
      "Test \tR2: 0.9215257965647884\n",
      "Test \tMAE: 11.901170084220704\n",
      "Test \tRMSE: 20.865104765595596\n",
      "Test \tR2: 0.9210460506159057\n",
      "Test \tMAE: 11.885616035321634\n",
      "Test \tRMSE: 21.160224367464842\n",
      "Test \tR2: 0.9221039608905139\n",
      "Test \tMAE: 11.96345927497609\n",
      "Test \tRMSE: 21.015433751208136\n",
      "Test \tR2: 0.9179637163737173\n",
      "Test \tMAE: 12.055981265381476\n",
      "Test \tRMSE: 21.32887639108784\n",
      "Test \tR2: 0.9173409237279174\n"
     ]
    }
   ],
   "source": [
    "df_results = pd.DataFrame({\n",
    "        'quantile': pd.Series(dtype='float'),\n",
    "        'MAE': pd.Series(dtype='float'),\n",
    "        'RMSE': pd.Series(dtype='float'),\n",
    "        'R2': pd.Series(dtype='float'),\n",
    "    })\n",
    "\n",
    "for quantile in (0.5, 0.55, 0.6, 0.65, 0.7, 0.75):\n",
    "\n",
    "    model = CatBoostRegressor(\n",
    "        loss_function=f'Quantile:alpha={quantile}',\n",
    "        n_estimators=1500,\n",
    "        max_depth=13,\n",
    "        learning_rate=0.16,\n",
    "        random_seed=RANDOM_SEED,\n",
    "        verbose=0\n",
    "    )\n",
    "\n",
    "    model.fit(X_train, y_train)\n",
    "    predictions = model.predict(X_test)\n",
    "\n",
    "    mae = mae_exp(y_test, predictions)\n",
    "    rmse = rmse_exp(y_test, predictions)\n",
    "    r2 = r2_score(y_test, predictions)\n",
    "\n",
    "    print(f\"Test \\tMAE: {mae}\")\n",
    "    print(f\"Test \\tRMSE: {rmse}\")\n",
    "    print(f\"Test \\tR2: {r2}\")\n",
    "\n",
    "    new_row_df = pd.DataFrame({'quantile': [quantile],\n",
    "                            'MAE': [mae],\n",
    "                            'RMSE': [rmse],\n",
    "                            'R2': [r2],\n",
    "                            })\n",
    "\n",
    "    df_results = pd.concat([df_results, new_row_df], ignore_index=True)"
   ]
  },
  {
   "cell_type": "code",
   "execution_count": 69,
   "metadata": {},
   "outputs": [
    {
     "data": {
      "text/html": [
       "<div>\n",
       "<style scoped>\n",
       "    .dataframe tbody tr th:only-of-type {\n",
       "        vertical-align: middle;\n",
       "    }\n",
       "\n",
       "    .dataframe tbody tr th {\n",
       "        vertical-align: top;\n",
       "    }\n",
       "\n",
       "    .dataframe thead th {\n",
       "        text-align: right;\n",
       "    }\n",
       "</style>\n",
       "<table border=\"1\" class=\"dataframe\">\n",
       "  <thead>\n",
       "    <tr style=\"text-align: right;\">\n",
       "      <th></th>\n",
       "      <th>quantile</th>\n",
       "      <th>MAE</th>\n",
       "      <th>RMSE</th>\n",
       "      <th>R2</th>\n",
       "    </tr>\n",
       "  </thead>\n",
       "  <tbody>\n",
       "    <tr>\n",
       "      <th>0</th>\n",
       "      <td>0.50</td>\n",
       "      <td>11.963598</td>\n",
       "      <td>21.457060</td>\n",
       "      <td>0.923816</td>\n",
       "    </tr>\n",
       "    <tr>\n",
       "      <th>1</th>\n",
       "      <td>0.55</td>\n",
       "      <td>11.739502</td>\n",
       "      <td>20.811898</td>\n",
       "      <td>0.921526</td>\n",
       "    </tr>\n",
       "    <tr>\n",
       "      <th>2</th>\n",
       "      <td>0.60</td>\n",
       "      <td>11.901170</td>\n",
       "      <td>20.865105</td>\n",
       "      <td>0.921046</td>\n",
       "    </tr>\n",
       "    <tr>\n",
       "      <th>3</th>\n",
       "      <td>0.65</td>\n",
       "      <td>11.885616</td>\n",
       "      <td>21.160224</td>\n",
       "      <td>0.922104</td>\n",
       "    </tr>\n",
       "    <tr>\n",
       "      <th>4</th>\n",
       "      <td>0.70</td>\n",
       "      <td>11.963459</td>\n",
       "      <td>21.015434</td>\n",
       "      <td>0.917964</td>\n",
       "    </tr>\n",
       "    <tr>\n",
       "      <th>5</th>\n",
       "      <td>0.75</td>\n",
       "      <td>12.055981</td>\n",
       "      <td>21.328876</td>\n",
       "      <td>0.917341</td>\n",
       "    </tr>\n",
       "  </tbody>\n",
       "</table>\n",
       "</div>"
      ],
      "text/plain": [
       "   quantile        MAE       RMSE        R2\n",
       "0      0.50  11.963598  21.457060  0.923816\n",
       "1      0.55  11.739502  20.811898  0.921526\n",
       "2      0.60  11.901170  20.865105  0.921046\n",
       "3      0.65  11.885616  21.160224  0.922104\n",
       "4      0.70  11.963459  21.015434  0.917964\n",
       "5      0.75  12.055981  21.328876  0.917341"
      ]
     },
     "execution_count": 69,
     "metadata": {},
     "output_type": "execute_result"
    }
   ],
   "source": [
    "df_results"
   ]
  },
  {
   "cell_type": "markdown",
   "metadata": {},
   "source": [
    "##### The best is 0.55. Its metrics aren't superior to already existent models."
   ]
  },
  {
   "cell_type": "markdown",
   "metadata": {},
   "source": [
    "### Instance Weighing\n",
    "##### To Give higher weight to rare or large target values during training."
   ]
  },
  {
   "cell_type": "code",
   "execution_count": 14,
   "metadata": {},
   "outputs": [
    {
     "name": "stdout",
     "output_type": "stream",
     "text": [
      "Test \tMAE: 10.337702458665612\n",
      "Test \tRMSE: 18.19036744878149\n",
      "Test \tR2: 0.9361049961153276\n",
      "Test \tMAE: 10.384606617123438\n",
      "Test \tRMSE: 18.43386775181794\n",
      "Test \tR2: 0.9356995850332037\n",
      "Test \tMAE: 10.447152001261326\n",
      "Test \tRMSE: 18.694060351909556\n",
      "Test \tR2: 0.9354178694009313\n",
      "Test \tMAE: 10.343698493230576\n",
      "Test \tRMSE: 18.278910709990296\n",
      "Test \tR2: 0.9372359172422946\n",
      "Test \tMAE: 10.513135714982852\n",
      "Test \tRMSE: 18.632862927776397\n",
      "Test \tR2: 0.9362056515895143\n",
      "Test \tMAE: 10.723944385084296\n",
      "Test \tRMSE: 18.956449233680495\n",
      "Test \tR2: 0.9347728573709627\n"
     ]
    }
   ],
   "source": [
    "df_results = pd.DataFrame({\n",
    "        'quantile': pd.Series(dtype='float'),\n",
    "        'MAE': pd.Series(dtype='float'),\n",
    "        'RMSE': pd.Series(dtype='float'),\n",
    "        'R2': pd.Series(dtype='float'),\n",
    "    })\n",
    "\n",
    "for quantile in (0.7, 0.75, 0.8, 0.85, 0.9, 0.95):\n",
    "    weights = np.where(y_train > y_train.quantile(quantile), 3, 1)  # Give 3x weight to large targets\n",
    "\n",
    "    model = CatBoostRegressor(\n",
    "    n_estimators=1500,\n",
    "    max_depth=13,\n",
    "    learning_rate=0.16,\n",
    "    random_seed=RANDOM_SEED,\n",
    "    verbose=0\n",
    "    )\n",
    "\n",
    "    model.fit(X_train, y_train, sample_weight=weights)\n",
    "    predictions = model.predict(X_test)\n",
    "\n",
    "    mae = mae_exp(y_test, predictions)\n",
    "    rmse = rmse_exp(y_test, predictions)\n",
    "    r2 = r2_score(y_test, predictions)\n",
    "\n",
    "    print(f\"Test \\tMAE: {mae}\")\n",
    "    print(f\"Test \\tRMSE: {rmse}\")\n",
    "    print(f\"Test \\tR2: {r2}\")\n",
    "\n",
    "    new_row_df = pd.DataFrame({'quantile': [quantile],\n",
    "                            'MAE': [mae],\n",
    "                            'RMSE': [rmse],\n",
    "                            'R2': [r2],\n",
    "                            })\n",
    "\n",
    "    df_results = pd.concat([df_results, new_row_df], ignore_index=True)"
   ]
  },
  {
   "cell_type": "code",
   "execution_count": 17,
   "metadata": {},
   "outputs": [
    {
     "data": {
      "text/html": [
       "<div>\n",
       "<style scoped>\n",
       "    .dataframe tbody tr th:only-of-type {\n",
       "        vertical-align: middle;\n",
       "    }\n",
       "\n",
       "    .dataframe tbody tr th {\n",
       "        vertical-align: top;\n",
       "    }\n",
       "\n",
       "    .dataframe thead th {\n",
       "        text-align: right;\n",
       "    }\n",
       "</style>\n",
       "<table border=\"1\" class=\"dataframe\">\n",
       "  <thead>\n",
       "    <tr style=\"text-align: right;\">\n",
       "      <th></th>\n",
       "      <th>quantile</th>\n",
       "      <th>MAE</th>\n",
       "      <th>RMSE</th>\n",
       "      <th>R2</th>\n",
       "    </tr>\n",
       "  </thead>\n",
       "  <tbody>\n",
       "    <tr>\n",
       "      <th>0</th>\n",
       "      <td>0.70</td>\n",
       "      <td>10.337702</td>\n",
       "      <td>18.190367</td>\n",
       "      <td>0.936105</td>\n",
       "    </tr>\n",
       "    <tr>\n",
       "      <th>1</th>\n",
       "      <td>0.75</td>\n",
       "      <td>10.384607</td>\n",
       "      <td>18.433868</td>\n",
       "      <td>0.935700</td>\n",
       "    </tr>\n",
       "    <tr>\n",
       "      <th>2</th>\n",
       "      <td>0.80</td>\n",
       "      <td>10.447152</td>\n",
       "      <td>18.694060</td>\n",
       "      <td>0.935418</td>\n",
       "    </tr>\n",
       "    <tr>\n",
       "      <th>3</th>\n",
       "      <td>0.85</td>\n",
       "      <td>10.343698</td>\n",
       "      <td>18.278911</td>\n",
       "      <td>0.937236</td>\n",
       "    </tr>\n",
       "    <tr>\n",
       "      <th>4</th>\n",
       "      <td>0.90</td>\n",
       "      <td>10.513136</td>\n",
       "      <td>18.632863</td>\n",
       "      <td>0.936206</td>\n",
       "    </tr>\n",
       "    <tr>\n",
       "      <th>5</th>\n",
       "      <td>0.95</td>\n",
       "      <td>10.723944</td>\n",
       "      <td>18.956449</td>\n",
       "      <td>0.934773</td>\n",
       "    </tr>\n",
       "  </tbody>\n",
       "</table>\n",
       "</div>"
      ],
      "text/plain": [
       "   quantile        MAE       RMSE        R2\n",
       "0      0.70  10.337702  18.190367  0.936105\n",
       "1      0.75  10.384607  18.433868  0.935700\n",
       "2      0.80  10.447152  18.694060  0.935418\n",
       "3      0.85  10.343698  18.278911  0.937236\n",
       "4      0.90  10.513136  18.632863  0.936206\n",
       "5      0.95  10.723944  18.956449  0.934773"
      ]
     },
     "execution_count": 17,
     "metadata": {},
     "output_type": "execute_result"
    }
   ],
   "source": [
    "df_results"
   ]
  },
  {
   "cell_type": "code",
   "execution_count": null,
   "metadata": {},
   "outputs": [],
   "source": []
  },
  {
   "cell_type": "code",
   "execution_count": null,
   "metadata": {},
   "outputs": [],
   "source": []
  },
  {
   "cell_type": "code",
   "execution_count": null,
   "metadata": {},
   "outputs": [
    {
     "name": "stdout",
     "output_type": "stream",
     "text": [
      "Test \tMAE: 10.649970765917113\n",
      "Test \tRMSE: 19.004142983717646\n",
      "Test \tR2: 0.9360001116121881\n",
      "Test \tMAE: 10.58216786182098\n",
      "Test \tRMSE: 18.95333745392217\n",
      "Test \tR2: 0.9348375225724864\n",
      "Test \tMAE: 10.49593423352504\n",
      "Test \tRMSE: 18.680665322640596\n",
      "Test \tR2: 0.9352924318140188\n",
      "Test \tMAE: 10.337702458665612\n",
      "Test \tRMSE: 18.19036744878149\n",
      "Test \tR2: 0.9361049961153276\n",
      "Test \tMAE: 10.371510892906793\n",
      "Test \tRMSE: 18.28863730319183\n",
      "Test \tR2: 0.9363151285286967\n",
      "Test \tMAE: 10.320959792531415\n",
      "Test \tRMSE: 18.267060020099294\n",
      "Test \tR2: 0.9356355911197947\n",
      "Test \tMAE: 10.204658958985505\n",
      "Test \tRMSE: 17.927377240535304\n",
      "Test \tR2: 0.9363716178083245\n",
      "Test \tMAE: 10.289145327688114\n",
      "Test \tRMSE: 18.38768045641848\n",
      "Test \tR2: 0.9368871302415155\n"
     ]
    }
   ],
   "source": [
    "df_results2 = pd.DataFrame({\n",
    "        'weight': pd.Series(dtype='float'),\n",
    "        'MAE': pd.Series(dtype='float'),\n",
    "        'RMSE': pd.Series(dtype='float'),\n",
    "        'R2': pd.Series(dtype='float'),\n",
    "    })\n",
    "\n",
    "for weight in (1.5, 2, 2.5, 3, 3.5, 4, 4.5, 5):\n",
    "    weights = np.where(y_train > y_train.quantile(0.7), weight, 1)\n",
    "\n",
    "    model = CatBoostRegressor(\n",
    "    n_estimators=1500,\n",
    "    max_depth=13,\n",
    "    learning_rate=0.16,\n",
    "    random_seed=RANDOM_SEED,\n",
    "    verbose=0\n",
    "    )\n",
    "\n",
    "    model.fit(X_train, y_train, sample_weight=weights)\n",
    "    predictions = model.predict(X_test)\n",
    "\n",
    "    mae = mae_exp(y_test, predictions)\n",
    "    rmse = rmse_exp(y_test, predictions)\n",
    "    r2 = r2_score(y_test, predictions)\n",
    "\n",
    "    print(f\"Test \\tMAE: {mae}\")\n",
    "    print(f\"Test \\tRMSE: {rmse}\")\n",
    "    print(f\"Test \\tR2: {r2}\")\n",
    "\n",
    "    new_row_df = pd.DataFrame({'weight': [weight],\n",
    "                            'MAE': [mae],\n",
    "                            'RMSE': [rmse],\n",
    "                            'R2': [r2],\n",
    "                            })\n",
    "\n",
    "    df_results2 = pd.concat([df_results2, new_row_df], ignore_index=True)"
   ]
  },
  {
   "cell_type": "code",
   "execution_count": 19,
   "metadata": {},
   "outputs": [
    {
     "data": {
      "text/html": [
       "<div>\n",
       "<style scoped>\n",
       "    .dataframe tbody tr th:only-of-type {\n",
       "        vertical-align: middle;\n",
       "    }\n",
       "\n",
       "    .dataframe tbody tr th {\n",
       "        vertical-align: top;\n",
       "    }\n",
       "\n",
       "    .dataframe thead th {\n",
       "        text-align: right;\n",
       "    }\n",
       "</style>\n",
       "<table border=\"1\" class=\"dataframe\">\n",
       "  <thead>\n",
       "    <tr style=\"text-align: right;\">\n",
       "      <th></th>\n",
       "      <th>weight</th>\n",
       "      <th>MAE</th>\n",
       "      <th>RMSE</th>\n",
       "      <th>R2</th>\n",
       "    </tr>\n",
       "  </thead>\n",
       "  <tbody>\n",
       "    <tr>\n",
       "      <th>0</th>\n",
       "      <td>1.5</td>\n",
       "      <td>10.649971</td>\n",
       "      <td>19.004143</td>\n",
       "      <td>0.936000</td>\n",
       "    </tr>\n",
       "    <tr>\n",
       "      <th>1</th>\n",
       "      <td>2.0</td>\n",
       "      <td>10.582168</td>\n",
       "      <td>18.953337</td>\n",
       "      <td>0.934838</td>\n",
       "    </tr>\n",
       "    <tr>\n",
       "      <th>2</th>\n",
       "      <td>2.5</td>\n",
       "      <td>10.495934</td>\n",
       "      <td>18.680665</td>\n",
       "      <td>0.935292</td>\n",
       "    </tr>\n",
       "    <tr>\n",
       "      <th>3</th>\n",
       "      <td>3.0</td>\n",
       "      <td>10.337702</td>\n",
       "      <td>18.190367</td>\n",
       "      <td>0.936105</td>\n",
       "    </tr>\n",
       "    <tr>\n",
       "      <th>4</th>\n",
       "      <td>3.5</td>\n",
       "      <td>10.371511</td>\n",
       "      <td>18.288637</td>\n",
       "      <td>0.936315</td>\n",
       "    </tr>\n",
       "    <tr>\n",
       "      <th>5</th>\n",
       "      <td>4.0</td>\n",
       "      <td>10.320960</td>\n",
       "      <td>18.267060</td>\n",
       "      <td>0.935636</td>\n",
       "    </tr>\n",
       "    <tr>\n",
       "      <th>6</th>\n",
       "      <td>4.5</td>\n",
       "      <td>10.204659</td>\n",
       "      <td>17.927377</td>\n",
       "      <td>0.936372</td>\n",
       "    </tr>\n",
       "    <tr>\n",
       "      <th>7</th>\n",
       "      <td>5.0</td>\n",
       "      <td>10.289145</td>\n",
       "      <td>18.387680</td>\n",
       "      <td>0.936887</td>\n",
       "    </tr>\n",
       "  </tbody>\n",
       "</table>\n",
       "</div>"
      ],
      "text/plain": [
       "   weight        MAE       RMSE        R2\n",
       "0     1.5  10.649971  19.004143  0.936000\n",
       "1     2.0  10.582168  18.953337  0.934838\n",
       "2     2.5  10.495934  18.680665  0.935292\n",
       "3     3.0  10.337702  18.190367  0.936105\n",
       "4     3.5  10.371511  18.288637  0.936315\n",
       "5     4.0  10.320960  18.267060  0.935636\n",
       "6     4.5  10.204659  17.927377  0.936372\n",
       "7     5.0  10.289145  18.387680  0.936887"
      ]
     },
     "execution_count": 19,
     "metadata": {},
     "output_type": "execute_result"
    }
   ],
   "source": [
    "df_results2"
   ]
  },
  {
   "cell_type": "markdown",
   "metadata": {},
   "source": [
    "##### The best weight is `4.5`. The metrics are better than the best ensemble so far."
   ]
  },
  {
   "cell_type": "code",
   "execution_count": 70,
   "metadata": {},
   "outputs": [
    {
     "name": "stdout",
     "output_type": "stream",
     "text": [
      "Test \tMAE: 10.204658958985505\n",
      "Test \tRMSE: 17.927377240535304\n",
      "Test \tR2: 0.9363716178083245\n"
     ]
    }
   ],
   "source": [
    "weights = np.where(y_train > y_train.quantile(0.7), 4.5, 1)  # Give 4.5x weight to large targets\n",
    "\n",
    "best_cat_model = CatBoostRegressor(\n",
    "    n_estimators=1500,\n",
    "    max_depth=13,\n",
    "    learning_rate=0.16,\n",
    "    random_seed=RANDOM_SEED,\n",
    "    verbose=0\n",
    ")\n",
    "\n",
    "best_cat_model.fit(X_train, y_train, sample_weight=weights)\n",
    "predictions = best_cat_model.predict(X_test)\n",
    "\n",
    "mae = mae_exp(y_test, predictions)\n",
    "rmse = rmse_exp(y_test, predictions)\n",
    "r2 = r2_score(y_test, predictions)\n",
    "\n",
    "print(f\"Test \\tMAE: {mae}\")\n",
    "print(f\"Test \\tRMSE: {rmse}\")\n",
    "print(f\"Test \\tR2: {r2}\")"
   ]
  },
  {
   "cell_type": "code",
   "execution_count": 71,
   "metadata": {},
   "outputs": [
    {
     "data": {
      "image/png": "[encoded data removed]",
      "text/plain": [
       "<Figure size 640x480 with 1 Axes>"
      ]
     },
     "metadata": {},
     "output_type": "display_data"
    }
   ],
   "source": [
    "resid = y_test - predictions\n",
    "\n",
    "plt.scatter(predictions, resid, s=10)\n",
    "plt.axhline(0, color='red')\n",
    "plt.xlabel('Predicted PM2.5')\n",
    "plt.ylabel('Residuals')\n",
    "plt.title('Residuals vs Predictions')\n",
    "plt.show()"
   ]
  },
  {
   "cell_type": "code",
   "execution_count": 72,
   "metadata": {},
   "outputs": [
    {
     "data": {
      "image/png": "[encoded data removed]",
      "text/plain": [
       "<Figure size 640x480 with 1 Axes>"
      ]
     },
     "metadata": {},
     "output_type": "display_data"
    }
   ],
   "source": [
    "stats.probplot(resid, dist=\"norm\", plot=plt)\n",
    "plt.title('Normal Q-Q Plot of Residuals')\n",
    "plt.show()"
   ]
  },
  {
   "cell_type": "markdown",
   "metadata": {},
   "source": [
    "##### Saving the best model"
   ]
  },
  {
   "cell_type": "code",
   "execution_count": 73,
   "metadata": {},
   "outputs": [],
   "source": [
    "best_cat_model.save_model('best_cat_model.cbm')"
   ]
  },
  {
   "cell_type": "markdown",
   "metadata": {},
   "source": [
    "### XGBoost weighing"
   ]
  },
  {
   "cell_type": "code",
   "execution_count": 26,
   "metadata": {},
   "outputs": [
    {
     "name": "stdout",
     "output_type": "stream",
     "text": [
      "Test \tMAE: 10.91745342961208\n",
      "Test \tRMSE: 19.161427003811266\n",
      "Test \tR2: 0.930361151380778\n",
      "Test \tMAE: 10.9101485898488\n",
      "Test \tRMSE: 18.725564412964687\n",
      "Test \tR2: 0.9306536569866379\n",
      "Test \tMAE: 10.932181391148664\n",
      "Test \tRMSE: 18.547059922194926\n",
      "Test \tR2: 0.9316282640747722\n",
      "Test \tMAE: 10.96514239041696\n",
      "Test \tRMSE: 18.738386242017643\n",
      "Test \tR2: 0.9315949674233837\n",
      "Test \tMAE: 10.94516892004388\n",
      "Test \tRMSE: 18.671714937102326\n",
      "Test \tR2: 0.9321325198570923\n",
      "Test \tMAE: 10.982505610359144\n",
      "Test \tRMSE: 18.701468700387604\n",
      "Test \tR2: 0.9317467236871477\n"
     ]
    }
   ],
   "source": [
    "df_results = pd.DataFrame({\n",
    "        'quantile': pd.Series(dtype='float'),\n",
    "        'MAE': pd.Series(dtype='float'),\n",
    "        'RMSE': pd.Series(dtype='float'),\n",
    "        'R2': pd.Series(dtype='float'),\n",
    "    })\n",
    "\n",
    "for quantile in (0.7, 0.75, 0.8, 0.85, 0.9, 0.95):\n",
    "    weights = np.where(y_train > y_train.quantile(quantile), 3, 1)\n",
    "\n",
    "    model = xgb.XGBRegressor(\n",
    "    objective= 'reg:squarederror',\n",
    "    booster= 'gbtree',\n",
    "    n_estimators= 4900,\n",
    "    learning_rate= 0.08,\n",
    "    random_state= 42\n",
    "    )\n",
    "\n",
    "    model.fit(X_train, y_train, sample_weight=weights)\n",
    "    predictions = model.predict(X_test)\n",
    "\n",
    "    mae = mae_exp(y_test, predictions)\n",
    "    rmse = rmse_exp(y_test, predictions)\n",
    "    r2 = r2_score(y_test, predictions)\n",
    "\n",
    "    print(f\"Test \\tMAE: {mae}\")\n",
    "    print(f\"Test \\tRMSE: {rmse}\")\n",
    "    print(f\"Test \\tR2: {r2}\")\n",
    "\n",
    "    new_row_df = pd.DataFrame({'quantile': [quantile],\n",
    "                            'MAE': [mae],\n",
    "                            'RMSE': [rmse],\n",
    "                            'R2': [r2],\n",
    "                            })\n",
    "\n",
    "    df_results = pd.concat([df_results, new_row_df], ignore_index=True)"
   ]
  },
  {
   "cell_type": "code",
   "execution_count": 27,
   "metadata": {},
   "outputs": [
    {
     "data": {
      "text/html": [
       "<div>\n",
       "<style scoped>\n",
       "    .dataframe tbody tr th:only-of-type {\n",
       "        vertical-align: middle;\n",
       "    }\n",
       "\n",
       "    .dataframe tbody tr th {\n",
       "        vertical-align: top;\n",
       "    }\n",
       "\n",
       "    .dataframe thead th {\n",
       "        text-align: right;\n",
       "    }\n",
       "</style>\n",
       "<table border=\"1\" class=\"dataframe\">\n",
       "  <thead>\n",
       "    <tr style=\"text-align: right;\">\n",
       "      <th></th>\n",
       "      <th>quantile</th>\n",
       "      <th>MAE</th>\n",
       "      <th>RMSE</th>\n",
       "      <th>R2</th>\n",
       "    </tr>\n",
       "  </thead>\n",
       "  <tbody>\n",
       "    <tr>\n",
       "      <th>0</th>\n",
       "      <td>0.70</td>\n",
       "      <td>10.917453</td>\n",
       "      <td>19.161427</td>\n",
       "      <td>0.930361</td>\n",
       "    </tr>\n",
       "    <tr>\n",
       "      <th>1</th>\n",
       "      <td>0.75</td>\n",
       "      <td>10.910149</td>\n",
       "      <td>18.725564</td>\n",
       "      <td>0.930654</td>\n",
       "    </tr>\n",
       "    <tr>\n",
       "      <th>2</th>\n",
       "      <td>0.80</td>\n",
       "      <td>10.932181</td>\n",
       "      <td>18.547060</td>\n",
       "      <td>0.931628</td>\n",
       "    </tr>\n",
       "    <tr>\n",
       "      <th>3</th>\n",
       "      <td>0.85</td>\n",
       "      <td>10.965142</td>\n",
       "      <td>18.738386</td>\n",
       "      <td>0.931595</td>\n",
       "    </tr>\n",
       "    <tr>\n",
       "      <th>4</th>\n",
       "      <td>0.90</td>\n",
       "      <td>10.945169</td>\n",
       "      <td>18.671715</td>\n",
       "      <td>0.932133</td>\n",
       "    </tr>\n",
       "    <tr>\n",
       "      <th>5</th>\n",
       "      <td>0.95</td>\n",
       "      <td>10.982506</td>\n",
       "      <td>18.701469</td>\n",
       "      <td>0.931747</td>\n",
       "    </tr>\n",
       "  </tbody>\n",
       "</table>\n",
       "</div>"
      ],
      "text/plain": [
       "   quantile        MAE       RMSE        R2\n",
       "0      0.70  10.917453  19.161427  0.930361\n",
       "1      0.75  10.910149  18.725564  0.930654\n",
       "2      0.80  10.932181  18.547060  0.931628\n",
       "3      0.85  10.965142  18.738386  0.931595\n",
       "4      0.90  10.945169  18.671715  0.932133\n",
       "5      0.95  10.982506  18.701469  0.931747"
      ]
     },
     "execution_count": 27,
     "metadata": {},
     "output_type": "execute_result"
    }
   ],
   "source": [
    "df_results"
   ]
  },
  {
   "cell_type": "code",
   "execution_count": 28,
   "metadata": {},
   "outputs": [
    {
     "name": "stdout",
     "output_type": "stream",
     "text": [
      "Test \tMAE: 11.060010859067305\n",
      "Test \tRMSE: 19.31691591361796\n",
      "Test \tR2: 0.9305086708852052\n",
      "Test \tMAE: 10.947619683219537\n",
      "Test \tRMSE: 18.776819693407305\n",
      "Test \tR2: 0.9314341688812273\n",
      "Test \tMAE: 10.919788028962847\n",
      "Test \tRMSE: 18.792537580274153\n",
      "Test \tR2: 0.9314025932127739\n",
      "Test \tMAE: 10.932181391148664\n",
      "Test \tRMSE: 18.547059922194926\n",
      "Test \tR2: 0.9316282640747722\n",
      "Test \tMAE: 10.945789812619687\n",
      "Test \tRMSE: 18.677794685611275\n",
      "Test \tR2: 0.9309509912485159\n",
      "Test \tMAE: 10.891727663421259\n",
      "Test \tRMSE: 18.362199722450324\n",
      "Test \tR2: 0.9310174938251943\n",
      "Test \tMAE: 10.910623103802392\n",
      "Test \tRMSE: 18.630354608450695\n",
      "Test \tR2: 0.9300908908387875\n",
      "Test \tMAE: 10.92406921397345\n",
      "Test \tRMSE: 18.892749367551417\n",
      "Test \tR2: 0.9306386171565519\n"
     ]
    }
   ],
   "source": [
    "df_results2 = pd.DataFrame({\n",
    "        'weight': pd.Series(dtype='float'),\n",
    "        'MAE': pd.Series(dtype='float'),\n",
    "        'RMSE': pd.Series(dtype='float'),\n",
    "        'R2': pd.Series(dtype='float'),\n",
    "    })\n",
    "\n",
    "for weight in (1.5, 2, 2.5, 3, 3.5, 4, 4.5, 5):\n",
    "    weights = np.where(y_train > y_train.quantile(0.8), weight, 1)\n",
    "\n",
    "    model = xgb.XGBRegressor(\n",
    "    objective= 'reg:squarederror',\n",
    "    booster= 'gbtree',\n",
    "    n_estimators= 4900,\n",
    "    learning_rate= 0.08,\n",
    "    random_state= 42\n",
    "    )\n",
    "\n",
    "    model.fit(X_train, y_train, sample_weight=weights)\n",
    "    predictions = model.predict(X_test)\n",
    "\n",
    "    mae = mae_exp(y_test, predictions)\n",
    "    rmse = rmse_exp(y_test, predictions)\n",
    "    r2 = r2_score(y_test, predictions)\n",
    "\n",
    "    print(f\"Test \\tMAE: {mae}\")\n",
    "    print(f\"Test \\tRMSE: {rmse}\")\n",
    "    print(f\"Test \\tR2: {r2}\")\n",
    "\n",
    "    new_row_df = pd.DataFrame({'weight': [weight],\n",
    "                            'MAE': [mae],\n",
    "                            'RMSE': [rmse],\n",
    "                            'R2': [r2],\n",
    "                            })\n",
    "\n",
    "    df_results2 = pd.concat([df_results2, new_row_df], ignore_index=True)"
   ]
  },
  {
   "cell_type": "code",
   "execution_count": 29,
   "metadata": {},
   "outputs": [
    {
     "data": {
      "text/html": [
       "<div>\n",
       "<style scoped>\n",
       "    .dataframe tbody tr th:only-of-type {\n",
       "        vertical-align: middle;\n",
       "    }\n",
       "\n",
       "    .dataframe tbody tr th {\n",
       "        vertical-align: top;\n",
       "    }\n",
       "\n",
       "    .dataframe thead th {\n",
       "        text-align: right;\n",
       "    }\n",
       "</style>\n",
       "<table border=\"1\" class=\"dataframe\">\n",
       "  <thead>\n",
       "    <tr style=\"text-align: right;\">\n",
       "      <th></th>\n",
       "      <th>weight</th>\n",
       "      <th>MAE</th>\n",
       "      <th>RMSE</th>\n",
       "      <th>R2</th>\n",
       "    </tr>\n",
       "  </thead>\n",
       "  <tbody>\n",
       "    <tr>\n",
       "      <th>0</th>\n",
       "      <td>1.5</td>\n",
       "      <td>11.060011</td>\n",
       "      <td>19.316916</td>\n",
       "      <td>0.930509</td>\n",
       "    </tr>\n",
       "    <tr>\n",
       "      <th>1</th>\n",
       "      <td>2.0</td>\n",
       "      <td>10.947620</td>\n",
       "      <td>18.776820</td>\n",
       "      <td>0.931434</td>\n",
       "    </tr>\n",
       "    <tr>\n",
       "      <th>2</th>\n",
       "      <td>2.5</td>\n",
       "      <td>10.919788</td>\n",
       "      <td>18.792538</td>\n",
       "      <td>0.931403</td>\n",
       "    </tr>\n",
       "    <tr>\n",
       "      <th>3</th>\n",
       "      <td>3.0</td>\n",
       "      <td>10.932181</td>\n",
       "      <td>18.547060</td>\n",
       "      <td>0.931628</td>\n",
       "    </tr>\n",
       "    <tr>\n",
       "      <th>4</th>\n",
       "      <td>3.5</td>\n",
       "      <td>10.945790</td>\n",
       "      <td>18.677795</td>\n",
       "      <td>0.930951</td>\n",
       "    </tr>\n",
       "    <tr>\n",
       "      <th>5</th>\n",
       "      <td>4.0</td>\n",
       "      <td>10.891728</td>\n",
       "      <td>18.362200</td>\n",
       "      <td>0.931017</td>\n",
       "    </tr>\n",
       "    <tr>\n",
       "      <th>6</th>\n",
       "      <td>4.5</td>\n",
       "      <td>10.910623</td>\n",
       "      <td>18.630355</td>\n",
       "      <td>0.930091</td>\n",
       "    </tr>\n",
       "    <tr>\n",
       "      <th>7</th>\n",
       "      <td>5.0</td>\n",
       "      <td>10.924069</td>\n",
       "      <td>18.892749</td>\n",
       "      <td>0.930639</td>\n",
       "    </tr>\n",
       "  </tbody>\n",
       "</table>\n",
       "</div>"
      ],
      "text/plain": [
       "   weight        MAE       RMSE        R2\n",
       "0     1.5  11.060011  19.316916  0.930509\n",
       "1     2.0  10.947620  18.776820  0.931434\n",
       "2     2.5  10.919788  18.792538  0.931403\n",
       "3     3.0  10.932181  18.547060  0.931628\n",
       "4     3.5  10.945790  18.677795  0.930951\n",
       "5     4.0  10.891728  18.362200  0.931017\n",
       "6     4.5  10.910623  18.630355  0.930091\n",
       "7     5.0  10.924069  18.892749  0.930639"
      ]
     },
     "execution_count": 29,
     "metadata": {},
     "output_type": "execute_result"
    }
   ],
   "source": [
    "df_results2"
   ]
  },
  {
   "cell_type": "code",
   "execution_count": 30,
   "metadata": {},
   "outputs": [
    {
     "name": "stdout",
     "output_type": "stream",
     "text": [
      "Test \tMAE: 10.891727663421259\n",
      "Test \tRMSE: 18.362199722450324\n",
      "Test \tR2: 0.9310174938251943\n"
     ]
    }
   ],
   "source": [
    "weights = np.where(y_train > y_train.quantile(0.8), 4, 1)  # Give 4.0x weight to large targets\n",
    "\n",
    "model = xgb.XGBRegressor(\n",
    "    objective= 'reg:squarederror',\n",
    "    booster= 'gbtree',\n",
    "    n_estimators= 4900,\n",
    "    learning_rate= 0.08,\n",
    "    random_state= 42\n",
    ")\n",
    "\n",
    "model.fit(X_train, y_train, sample_weight=weights)\n",
    "predictions = model.predict(X_test)\n",
    "\n",
    "mae = mae_exp(y_test, predictions)\n",
    "rmse = rmse_exp(y_test, predictions)\n",
    "r2 = r2_score(y_test, predictions)\n",
    "\n",
    "print(f\"Test \\tMAE: {mae}\")\n",
    "print(f\"Test \\tRMSE: {rmse}\")\n",
    "print(f\"Test \\tR2: {r2}\")"
   ]
  },
  {
   "cell_type": "code",
   "execution_count": 31,
   "metadata": {},
   "outputs": [
    {
     "data": {
      "image/png": "[encoded data removed]",
      "text/plain": [
       "<Figure size 640x480 with 1 Axes>"
      ]
     },
     "metadata": {},
     "output_type": "display_data"
    }
   ],
   "source": [
    "resid = y_test - predictions\n",
    "\n",
    "plt.scatter(predictions, resid, s=10)\n",
    "plt.axhline(0, color='red')\n",
    "plt.xlabel('Predicted PM2.5')\n",
    "plt.ylabel('Residuals')\n",
    "plt.title('Residuals vs Predictions')\n",
    "plt.show()"
   ]
  },
  {
   "cell_type": "code",
   "execution_count": 32,
   "metadata": {},
   "outputs": [
    {
     "data": {
      "image/png": "[encoded data removed]",
      "text/plain": [
       "<Figure size 640x480 with 1 Axes>"
      ]
     },
     "metadata": {},
     "output_type": "display_data"
    }
   ],
   "source": [
    "stats.probplot(resid, dist=\"norm\", plot=plt)\n",
    "plt.title('Normal Q-Q Plot of Residuals')\n",
    "plt.show()"
   ]
  },
  {
   "cell_type": "markdown",
   "metadata": {},
   "source": [
    "## Conclusion"
   ]
  },
  {
   "cell_type": "markdown",
   "metadata": {},
   "source": [
    "##### The residual distribution, while improved, does not fully satisfy the assumption of homoscedasticity. The remaining \"striped\" patterns suggest that the model systematically over- or under-predicts for specific data segments, which a tree-based model inherently struggles to resolve due to its stepwise approximation nature.\n",
    "\n",
    "#### Throughout this project, key challenges included:\n",
    "- managing an imbalanced and heteroscedastic target variable\n",
    "- feature engineering that occasionally degraded performance despite theoretical justification.\n",
    "- the trade-off between predictive accuracy (RMSE) and residual distribution improvement (MAE and tail behavior)\n",
    "\n",
    "\n",
    "#### The final model follows `CatBoostRegression` algorithm and the best scores and parameters exhibit:\n",
    "\n",
    "|Best model | n_estimators | max_depth | learning_rate | sample_weight | MAE | RMSE | R2 |\n",
    "|-----|-----|-----|-----|-----|-----|-----|-----|\n",
    "| CatBoost | 1500 | 13 | 0.16 | > quantile(0.7), x4.5 | 10.205 | 17.927 | 0.936 |\n",
    "\n",
    "##### This work demonstrates that, for this problem, additional model complexity is not warranted. Instead, data enrichment or further exploration of the underlying data generation process is likely more beneficial than pursuing algorithmic sophistication."
   ]
  }
 ],
 "metadata": {
  "kaggle": {
   "accelerator": "none",
   "dataSources": [
    {
     "datasetId": 7748366,
     "sourceId": 12293727,
     "sourceType": "datasetVersion"
    }
   ],
   "dockerImageVersionId": 30839,
   "isGpuEnabled": false,
   "isInternetEnabled": true,
   "language": "python",
   "sourceType": "notebook"
  },
  "kernelspec": {
   "display_name": "Python 3",
   "language": "python",
   "name": "python3"
  },
  "language_info": {
   "codemirror_mode": {
    "name": "ipython",
    "version": 3
   },
   "file_extension": ".py",
   "mimetype": "text/x-python",
   "name": "python",
   "nbconvert_exporter": "python",
   "pygments_lexer": "ipython3",
   "version": "3.11.2"
  }
 },
 "nbformat": 4,
 "nbformat_minor": 4
}
