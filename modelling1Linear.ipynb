{
 "cells": [
  {
   "cell_type": "code",
   "execution_count": null,
   "id": "2cc2f60c",
   "metadata": {},
   "outputs": [],
   "source": [
    "import os\n",
    "import pandas as pd\n",
    "import numpy as np\n",
    "from sklearn.model_selection import train_test_split\n",
    "import statsmodels.api as sm\n",
    "from statsmodels.stats.diagnostic import het_breuschpagan"
   ]
  },
  {
   "cell_type": "code",
   "execution_count": 14,
   "id": "a1143bcc",
   "metadata": {},
   "outputs": [],
   "source": [
    "def seed_everything(seed=42):\n",
    "    # Setting random seed for various libraries\n",
    "    os.environ['PYTHONHASHSEED'] = str(seed)\n",
    "    #random.seed(seed)\n",
    "    np.random.seed(seed)\n",
    "    #torch.manual_seed(seed)\n",
    "    #torch.cuda.manual_seed(seed)\n",
    "    #torch.backends.cudnn.deterministic = True"
   ]
  },
  {
   "cell_type": "code",
   "execution_count": 15,
   "id": "8994ea8b",
   "metadata": {},
   "outputs": [
    {
     "data": {
      "text/html": [
       "<div>\n",
       "<style scoped>\n",
       "    .dataframe tbody tr th:only-of-type {\n",
       "        vertical-align: middle;\n",
       "    }\n",
       "\n",
       "    .dataframe tbody tr th {\n",
       "        vertical-align: top;\n",
       "    }\n",
       "\n",
       "    .dataframe thead th {\n",
       "        text-align: right;\n",
       "    }\n",
       "</style>\n",
       "<table border=\"1\" class=\"dataframe\">\n",
       "  <thead>\n",
       "    <tr style=\"text-align: right;\">\n",
       "      <th></th>\n",
       "      <th>year</th>\n",
       "      <th>PM10</th>\n",
       "      <th>SO2</th>\n",
       "      <th>NO2</th>\n",
       "      <th>CO</th>\n",
       "      <th>O3</th>\n",
       "      <th>TEMP</th>\n",
       "      <th>RAIN</th>\n",
       "      <th>WSPM</th>\n",
       "      <th>wd_ENE</th>\n",
       "      <th>...</th>\n",
       "      <th>cos_hour</th>\n",
       "      <th>month_sin</th>\n",
       "      <th>dayofweek_sin</th>\n",
       "      <th>dayofweek_cos</th>\n",
       "      <th>TEMP_x_CO</th>\n",
       "      <th>NO2_x_RAIN</th>\n",
       "      <th>WSPM_X_SO2</th>\n",
       "      <th>PM10_diff1</th>\n",
       "      <th>TEMP_diff1</th>\n",
       "      <th>PM2.5</th>\n",
       "    </tr>\n",
       "    <tr>\n",
       "      <th>datetime</th>\n",
       "      <th></th>\n",
       "      <th></th>\n",
       "      <th></th>\n",
       "      <th></th>\n",
       "      <th></th>\n",
       "      <th></th>\n",
       "      <th></th>\n",
       "      <th></th>\n",
       "      <th></th>\n",
       "      <th></th>\n",
       "      <th></th>\n",
       "      <th></th>\n",
       "      <th></th>\n",
       "      <th></th>\n",
       "      <th></th>\n",
       "      <th></th>\n",
       "      <th></th>\n",
       "      <th></th>\n",
       "      <th></th>\n",
       "      <th></th>\n",
       "      <th></th>\n",
       "    </tr>\n",
       "  </thead>\n",
       "  <tbody>\n",
       "    <tr>\n",
       "      <th>2013-03-01 01:00:00</th>\n",
       "      <td>-1.412466</td>\n",
       "      <td>-1.078452</td>\n",
       "      <td>-0.593658</td>\n",
       "      <td>-1.424646</td>\n",
       "      <td>-0.809090</td>\n",
       "      <td>0.374490</td>\n",
       "      <td>-1.288641</td>\n",
       "      <td>-0.073894</td>\n",
       "      <td>2.487723</td>\n",
       "      <td>-0.356598</td>\n",
       "      <td>...</td>\n",
       "      <td>1.366067</td>\n",
       "      <td>1.423946</td>\n",
       "      <td>-0.612319</td>\n",
       "      <td>-1.275284</td>\n",
       "      <td>-0.846123</td>\n",
       "      <td>-0.075799</td>\n",
       "      <td>-0.202244</td>\n",
       "      <td>0.110008</td>\n",
       "      <td>-0.303442</td>\n",
       "      <td>8.0</td>\n",
       "    </tr>\n",
       "    <tr>\n",
       "      <th>2013-03-01 02:00:00</th>\n",
       "      <td>-1.412466</td>\n",
       "      <td>-1.089070</td>\n",
       "      <td>-0.549144</td>\n",
       "      <td>-1.342647</td>\n",
       "      <td>-0.809090</td>\n",
       "      <td>0.304318</td>\n",
       "      <td>-1.288641</td>\n",
       "      <td>-0.073894</td>\n",
       "      <td>3.236048</td>\n",
       "      <td>-0.356598</td>\n",
       "      <td>...</td>\n",
       "      <td>1.224784</td>\n",
       "      <td>1.423946</td>\n",
       "      <td>-0.612319</td>\n",
       "      <td>-1.275284</td>\n",
       "      <td>-0.846123</td>\n",
       "      <td>-0.075799</td>\n",
       "      <td>0.037109</td>\n",
       "      <td>-0.027529</td>\n",
       "      <td>-0.000201</td>\n",
       "      <td>7.0</td>\n",
       "    </tr>\n",
       "    <tr>\n",
       "      <th>2013-03-01 03:00:00</th>\n",
       "      <td>-1.412466</td>\n",
       "      <td>-1.099689</td>\n",
       "      <td>-0.282056</td>\n",
       "      <td>-1.315314</td>\n",
       "      <td>-0.809090</td>\n",
       "      <td>0.286775</td>\n",
       "      <td>-1.314966</td>\n",
       "      <td>-0.073894</td>\n",
       "      <td>1.157367</td>\n",
       "      <td>-0.356598</td>\n",
       "      <td>...</td>\n",
       "      <td>1.000035</td>\n",
       "      <td>1.423946</td>\n",
       "      <td>-0.612319</td>\n",
       "      <td>-1.275284</td>\n",
       "      <td>-0.852138</td>\n",
       "      <td>-0.075799</td>\n",
       "      <td>0.195810</td>\n",
       "      <td>-0.027529</td>\n",
       "      <td>-0.227632</td>\n",
       "      <td>6.0</td>\n",
       "    </tr>\n",
       "    <tr>\n",
       "      <th>2013-03-01 04:00:00</th>\n",
       "      <td>-1.412466</td>\n",
       "      <td>-1.131543</td>\n",
       "      <td>-0.237542</td>\n",
       "      <td>-1.287982</td>\n",
       "      <td>-0.809090</td>\n",
       "      <td>0.286775</td>\n",
       "      <td>-1.367616</td>\n",
       "      <td>-0.073894</td>\n",
       "      <td>0.242748</td>\n",
       "      <td>-0.356598</td>\n",
       "      <td>...</td>\n",
       "      <td>0.707136</td>\n",
       "      <td>1.423946</td>\n",
       "      <td>-0.612319</td>\n",
       "      <td>-1.275284</td>\n",
       "      <td>-0.864169</td>\n",
       "      <td>-0.075799</td>\n",
       "      <td>-0.066958</td>\n",
       "      <td>-0.082543</td>\n",
       "      <td>-0.455063</td>\n",
       "      <td>3.0</td>\n",
       "    </tr>\n",
       "    <tr>\n",
       "      <th>2013-03-01 05:00:00</th>\n",
       "      <td>-1.412466</td>\n",
       "      <td>-1.110307</td>\n",
       "      <td>0.029546</td>\n",
       "      <td>-1.123985</td>\n",
       "      <td>-0.725066</td>\n",
       "      <td>0.181516</td>\n",
       "      <td>-1.385166</td>\n",
       "      <td>-0.073894</td>\n",
       "      <td>1.656251</td>\n",
       "      <td>-0.356598</td>\n",
       "      <td>...</td>\n",
       "      <td>0.366048</td>\n",
       "      <td>1.423946</td>\n",
       "      <td>-0.612319</td>\n",
       "      <td>-1.275284</td>\n",
       "      <td>-0.882884</td>\n",
       "      <td>-0.075799</td>\n",
       "      <td>1.041351</td>\n",
       "      <td>0.054994</td>\n",
       "      <td>-0.151822</td>\n",
       "      <td>5.0</td>\n",
       "    </tr>\n",
       "  </tbody>\n",
       "</table>\n",
       "<p>5 rows × 36 columns</p>\n",
       "</div>"
      ],
      "text/plain": [
       "                         year      PM10       SO2       NO2        CO   \n",
       "datetime                                                                \n",
       "2013-03-01 01:00:00 -1.412466 -1.078452 -0.593658 -1.424646 -0.809090  \\\n",
       "2013-03-01 02:00:00 -1.412466 -1.089070 -0.549144 -1.342647 -0.809090   \n",
       "2013-03-01 03:00:00 -1.412466 -1.099689 -0.282056 -1.315314 -0.809090   \n",
       "2013-03-01 04:00:00 -1.412466 -1.131543 -0.237542 -1.287982 -0.809090   \n",
       "2013-03-01 05:00:00 -1.412466 -1.110307  0.029546 -1.123985 -0.725066   \n",
       "\n",
       "                           O3      TEMP      RAIN      WSPM    wd_ENE  ...   \n",
       "datetime                                                               ...   \n",
       "2013-03-01 01:00:00  0.374490 -1.288641 -0.073894  2.487723 -0.356598  ...  \\\n",
       "2013-03-01 02:00:00  0.304318 -1.288641 -0.073894  3.236048 -0.356598  ...   \n",
       "2013-03-01 03:00:00  0.286775 -1.314966 -0.073894  1.157367 -0.356598  ...   \n",
       "2013-03-01 04:00:00  0.286775 -1.367616 -0.073894  0.242748 -0.356598  ...   \n",
       "2013-03-01 05:00:00  0.181516 -1.385166 -0.073894  1.656251 -0.356598  ...   \n",
       "\n",
       "                     cos_hour  month_sin  dayofweek_sin  dayofweek_cos   \n",
       "datetime                                                                 \n",
       "2013-03-01 01:00:00  1.366067   1.423946      -0.612319      -1.275284  \\\n",
       "2013-03-01 02:00:00  1.224784   1.423946      -0.612319      -1.275284   \n",
       "2013-03-01 03:00:00  1.000035   1.423946      -0.612319      -1.275284   \n",
       "2013-03-01 04:00:00  0.707136   1.423946      -0.612319      -1.275284   \n",
       "2013-03-01 05:00:00  0.366048   1.423946      -0.612319      -1.275284   \n",
       "\n",
       "                     TEMP_x_CO  NO2_x_RAIN  WSPM_X_SO2  PM10_diff1   \n",
       "datetime                                                             \n",
       "2013-03-01 01:00:00  -0.846123   -0.075799   -0.202244    0.110008  \\\n",
       "2013-03-01 02:00:00  -0.846123   -0.075799    0.037109   -0.027529   \n",
       "2013-03-01 03:00:00  -0.852138   -0.075799    0.195810   -0.027529   \n",
       "2013-03-01 04:00:00  -0.864169   -0.075799   -0.066958   -0.082543   \n",
       "2013-03-01 05:00:00  -0.882884   -0.075799    1.041351    0.054994   \n",
       "\n",
       "                     TEMP_diff1  PM2.5  \n",
       "datetime                                \n",
       "2013-03-01 01:00:00   -0.303442    8.0  \n",
       "2013-03-01 02:00:00   -0.000201    7.0  \n",
       "2013-03-01 03:00:00   -0.227632    6.0  \n",
       "2013-03-01 04:00:00   -0.455063    3.0  \n",
       "2013-03-01 05:00:00   -0.151822    5.0  \n",
       "\n",
       "[5 rows x 36 columns]"
      ]
     },
     "execution_count": 15,
     "metadata": {},
     "output_type": "execute_result"
    }
   ],
   "source": [
    "data_folder_path = \"data\\DataHourlyChina\"\n",
    "TARGET = \"PM2.5\"\n",
    "RANDOM_SEED = 42\n",
    "seed_everything(seed=RANDOM_SEED)\n",
    "\n",
    "df = pd.read_csv(os.path.join(data_folder_path, \"POST_EDA_POST_FEAT_ENG_STANDARDIZED.csv\"), index_col=\"datetime\")\n",
    "df.head()"
   ]
  },
  {
   "cell_type": "markdown",
   "id": "75f30187",
   "metadata": {},
   "source": [
    "## Checking Linear Assumptions"
   ]
  },
  {
   "cell_type": "markdown",
   "id": "cb0bfdbf",
   "metadata": {},
   "source": [
    "### Assumption 1: Random Sampling"
   ]
  },
  {
   "cell_type": "markdown",
   "id": "42366cfc",
   "metadata": {},
   "source": [
    "#### Data must represent what we want to predict (Train: older data.  Test: newer data.)"
   ]
  },
  {
   "cell_type": "code",
   "execution_count": 16,
   "id": "366cee61",
   "metadata": {},
   "outputs": [
    {
     "name": "stdout",
     "output_type": "stream",
     "text": [
      "Train shape: (28045, 35)\n",
      "Test shape: (7012, 35)\n"
     ]
    }
   ],
   "source": [
    "X_train, X_test, y_train, y_test = train_test_split(df.drop(TARGET, axis=1), df[TARGET], test_size=0.2, random_state=RANDOM_SEED)\n",
    "print(f\"Train shape: {X_train.shape}\")\n",
    "print(f\"Test shape: {X_test.shape}\")"
   ]
  },
  {
   "cell_type": "markdown",
   "id": "f608cb7e",
   "metadata": {},
   "source": [
    "### Assumption 2: No Perfect Multicollinearity"
   ]
  },
  {
   "cell_type": "markdown",
   "id": "21ca0499",
   "metadata": {},
   "source": [
    "#### It was handled in EDA."
   ]
  },
  {
   "cell_type": "markdown",
   "id": "a082242d",
   "metadata": {},
   "source": [
    "## Assumption 3: Homoscedasticity"
   ]
  },
  {
   "cell_type": "markdown",
   "id": "44e9cb4d",
   "metadata": {},
   "source": [
    "### The errors should be spread out evenly to make sure the model is stable."
   ]
  },
  {
   "cell_type": "code",
   "execution_count": 17,
   "id": "d97568b7",
   "metadata": {},
   "outputs": [
    {
     "name": "stdout",
     "output_type": "stream",
     "text": [
      "{'Lagrange multiplier statistic': 10004.030535653688, 'p-value': 0.0, 'f-value': 399.5547501153778, 'f p-value': 0.0}\n"
     ]
    }
   ],
   "source": [
    "X = df.drop(columns=[TARGET])\n",
    "y = df[TARGET]\n",
    "\n",
    "# Fit the model\n",
    "X_with_const = sm.add_constant(X)\n",
    "model = sm.OLS(y, X_with_const).fit()\n",
    "\n",
    "# Run Breusch-Pagan test\n",
    "bp_test = het_breuschpagan(model.resid, X_with_const)\n",
    "\n",
    "# Extract results\n",
    "labels = ['Lagrange multiplier statistic', 'p-value', 'f-value', 'f p-value']\n",
    "print(dict(zip(labels, bp_test)))"
   ]
  },
  {
   "cell_type": "markdown",
   "id": "26255d5b",
   "metadata": {},
   "source": [
    "### p-value < 0.05 → Heteroscedasticity exists → assumption is violated → linear regression is unreliable.\n",
    "#### We may try to counter/level it by outlier removal (done in EDA) and log-transforming the target:"
   ]
  },
  {
   "cell_type": "code",
   "execution_count": 18,
   "id": "0d473bc9",
   "metadata": {},
   "outputs": [
    {
     "data": {
      "text/plain": [
       "Index(['PM2.5'], dtype='object')"
      ]
     },
     "execution_count": 18,
     "metadata": {},
     "output_type": "execute_result"
    }
   ],
   "source": [
    "# select all positive features\n",
    "non_negative_mask = df > 0\n",
    "columns_with_no_negatives = non_negative_mask.all(axis=0)\n",
    "log_transform = df.columns[columns_with_no_negatives]\n",
    "log_transform"
   ]
  },
  {
   "cell_type": "code",
   "execution_count": 19,
   "id": "47612b67",
   "metadata": {},
   "outputs": [],
   "source": [
    "# transform the target\n",
    "df[TARGET] = np.log(df[TARGET])"
   ]
  },
  {
   "cell_type": "code",
   "execution_count": 20,
   "id": "4c56ff9c",
   "metadata": {},
   "outputs": [
    {
     "name": "stdout",
     "output_type": "stream",
     "text": [
      "{'Lagrange multiplier statistic': 1392.1147369794294, 'p-value': 4.869912132913048e-270, 'f-value': 41.376942025455584, 'f p-value': 6.827399017149638e-276}\n"
     ]
    }
   ],
   "source": [
    "# Prepare data\n",
    "X = df.drop(columns=[TARGET])\n",
    "y = df[TARGET]\n",
    "\n",
    "# Fit the model\n",
    "X_with_const = sm.add_constant(X)\n",
    "model = sm.OLS(y, X_with_const).fit()\n",
    "\n",
    "# Run Breusch-Pagan test\n",
    "bp_test = het_breuschpagan(model.resid, X_with_const)\n",
    "\n",
    "# Extract results\n",
    "labels = ['Lagrange multiplier statistic', 'p-value', 'f-value', 'f p-value']\n",
    "print(dict(zip(labels, bp_test)))\n"
   ]
  },
  {
   "cell_type": "markdown",
   "id": "80da01f7",
   "metadata": {},
   "source": [
    "### Didn't help, the Linear Regression model is unreliable."
   ]
  },
  {
   "cell_type": "markdown",
   "id": "dd2a9711",
   "metadata": {},
   "source": [
    "## Conclusion"
   ]
  },
  {
   "cell_type": "markdown",
   "id": "2b1c93ce",
   "metadata": {},
   "source": [
    "### There is no need to check the remaining hypothesis, the Linear assumption is rejected.\n",
    "\n",
    "### Other models to consider must take into account the fact of absense of linearity and presence of homoscedasticity. Possible candidates are tree-based models: Random Forest, XGBoost, LGBM, CatBoostRegressor, ExtraTreesRegressor."
   ]
  },
  {
   "cell_type": "code",
   "execution_count": 21,
   "id": "a8163496",
   "metadata": {},
   "outputs": [],
   "source": [
    "df.to_csv(os.path.join(data_folder_path, \"POST_EDA_POST_FEAT_ENG_STANDARDIZED_TARGET_TRANSFORMED.csv\"), index=True, index_label='datetime')"
   ]
  }
 ],
 "metadata": {
  "kernelspec": {
   "display_name": "Python 3",
   "language": "python",
   "name": "python3"
  },
  "language_info": {
   "codemirror_mode": {
    "name": "ipython",
    "version": 3
   },
   "file_extension": ".py",
   "mimetype": "text/x-python",
   "name": "python",
   "nbconvert_exporter": "python",
   "pygments_lexer": "ipython3",
   "version": "3.11.2"
  }
 },
 "nbformat": 4,
 "nbformat_minor": 5
}
